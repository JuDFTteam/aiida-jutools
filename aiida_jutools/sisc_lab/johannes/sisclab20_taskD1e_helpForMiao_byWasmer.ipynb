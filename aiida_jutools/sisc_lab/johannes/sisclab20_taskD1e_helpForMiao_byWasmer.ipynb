{
 "cells": [
  {
   "cell_type": "markdown",
   "metadata": {},
   "source": [
    "# sisclab: help miao wang on task `D1.e`"
   ]
  },
  {
   "cell_type": "markdown",
   "metadata": {},
   "source": [
    "Date: 06.01.2021"
   ]
  },
  {
   "cell_type": "markdown",
   "metadata": {},
   "source": [
    "Task `D1.e`: \"List Code names, sorted by by how many calcjobs where run with each\". Ie, find {code_name : number_of_calcjobs}."
   ]
  },
  {
   "cell_type": "code",
   "execution_count": 1,
   "metadata": {},
   "outputs": [],
   "source": [
    "from aiida import load_profile\n",
    "profile = load_profile('sisclab20')"
   ]
  },
  {
   "cell_type": "code",
   "execution_count": 2,
   "metadata": {},
   "outputs": [],
   "source": [
    "from aiida.orm import QueryBuilder\n",
    "from aiida.orm import Code, CalcJobNode, Int\n",
    "from aiida.common import LinkType"
   ]
  },
  {
   "cell_type": "markdown",
   "metadata": {},
   "source": [
    "# Approach1: via QueryBuilder: ignore codes without any calcjobs"
   ]
  },
  {
   "cell_type": "code",
   "execution_count": 3,
   "metadata": {},
   "outputs": [
    {
     "data": {
      "text/plain": [
       "[<Code: Remote code 'inpgen' on local_mac, pk: 1, uuid: 8b105672-7ebc-4cce-813c-e501d32916ee>,\n",
       " <Code: Remote code 'fleur_mpi_v0.28' on claix, pk: 5, uuid: 19ec39f2-5389-40aa-b52f-21bdc4610896>]"
      ]
     },
     "execution_count": 3,
     "metadata": {},
     "output_type": "execute_result"
    }
   ],
   "source": [
    "qb = QueryBuilder()\n",
    "qb.append(CalcJobNode, tag='calcjob')\n",
    "qb.append(Code, with_outgoing='calcjob', edge_filters={'label': 'code'})\n",
    "result = qb.distinct().all()\n",
    "codes_with_calcjobs = [single_item_list[0] for single_item_list in result]\n",
    "codes_with_calcjobs"
   ]
  },
  {
   "cell_type": "markdown",
   "metadata": {},
   "source": [
    "Experiment: for counting calcjobs: check if `all_nodes()` is slower than something that returns only a list of strings like `all_link_labels()`."
   ]
  },
  {
   "cell_type": "code",
   "execution_count": 4,
   "metadata": {},
   "outputs": [],
   "source": [
    "code = codes_with_calcjobs[0]"
   ]
  },
  {
   "cell_type": "code",
   "execution_count": 58,
   "metadata": {},
   "outputs": [
    {
     "name": "stdout",
     "output_type": "stream",
     "text": [
      "9.47 ms ± 37.4 µs per loop (mean ± std. dev. of 7 runs, 100 loops each)\n"
     ]
    }
   ],
   "source": [
    "%timeit len(code.get_outgoing(node_class=CalcJobNode).all_link_labels())"
   ]
  },
  {
   "cell_type": "code",
   "execution_count": 59,
   "metadata": {},
   "outputs": [
    {
     "name": "stdout",
     "output_type": "stream",
     "text": [
      "9.46 ms ± 17 µs per loop (mean ± std. dev. of 7 runs, 100 loops each)\n"
     ]
    }
   ],
   "source": [
    "%timeit len(code.get_outgoing(node_class=CalcJobNode).all_nodes())"
   ]
  },
  {
   "cell_type": "markdown",
   "metadata": {},
   "source": [
    "# Approach2: via `Entity.objects`: all codes"
   ]
  },
  {
   "cell_type": "code",
   "execution_count": 5,
   "metadata": {},
   "outputs": [
    {
     "data": {
      "text/plain": [
       "18"
      ]
     },
     "execution_count": 5,
     "metadata": {},
     "output_type": "execute_result"
    }
   ],
   "source": [
    "codes = Code.objects.all()\n",
    "len(codes)"
   ]
  },
  {
   "cell_type": "code",
   "execution_count": 6,
   "metadata": {},
   "outputs": [
    {
     "data": {
      "text/plain": [
       "[<Code: Remote code 'fleur_mpi_v0.28' on claix, pk: 5, uuid: 19ec39f2-5389-40aa-b52f-21bdc4610896>,\n",
       " <Code: Remote code 'inpgen' on local_mac, pk: 1, uuid: 8b105672-7ebc-4cce-813c-e501d32916ee>]"
      ]
     },
     "execution_count": 6,
     "metadata": {},
     "output_type": "execute_result"
    }
   ],
   "source": [
    "# optional: prune zero-calcjobs with list comprehension (equals python filter() but more elegant)\n",
    "codes_with_calcjobs = [code for code in codes if len(code.get_outgoing(node_class=CalcJobNode).all_nodes()) > 0]\n",
    "codes_with_calcjobs"
   ]
  },
  {
   "cell_type": "code",
   "execution_count": 7,
   "metadata": {},
   "outputs": [
    {
     "data": {
      "text/plain": [
       "{'fleur_v0.28': 0,\n",
       " 'inpgen_v0.28': 0,\n",
       " 'inpgen_iff_0.28': 0,\n",
       " 'fleur_iff_0.28': 0,\n",
       " 'fleur_mpi_max_2': 0,\n",
       " 'fleur_dev_mpi': 0,\n",
       " 'fleur_mpi_v0.28': 22,\n",
       " 'fleur_max_2': 0,\n",
       " 'inpgen_max_2': 0,\n",
       " 'fleur_dev_mpi_booster': 0,\n",
       " 'fleur_mac_3_mpi': 0,\n",
       " 'fleur_max_1.3_dev': 0,\n",
       " 'fleur_mpi_max_1.3_dev': 0,\n",
       " 'inpgen': 21}"
      ]
     },
     "execution_count": 7,
     "metadata": {},
     "output_type": "execute_result"
    }
   ],
   "source": [
    "# create result with a python dict comprehension\n",
    "result = {code.label : len(code.get_outgoing(node_class=CalcJobNode).all_nodes()) for code in codes}\n",
    "result"
   ]
  },
  {
   "cell_type": "markdown",
   "metadata": {},
   "source": [
    "Nicer output:\n",
    "- offer option to exclude zero-calcjob nodes\n",
    "- offer option output as pandas dataframe. see any jupyter notebook pandas tutorial. it looks much nicer. google dict to pandas dataframe. then result, not print(result).\n",
    "- sort output by descending order (dicts are insertion order sorted, so if use dict, have to do sorting before create dict)\n",
    "- add optional piechart or something"
   ]
  }
 ],
 "metadata": {
  "kernelspec": {
   "display_name": "Python 3",
   "language": "python",
   "name": "python3"
  },
  "language_info": {
   "codemirror_mode": {
    "name": "ipython",
    "version": 3
   },
   "file_extension": ".py",
   "mimetype": "text/x-python",
   "name": "python",
   "nbconvert_exporter": "python",
   "pygments_lexer": "ipython3",
   "version": "3.7.9"
  }
 },
 "nbformat": 4,
 "nbformat_minor": 4
}
