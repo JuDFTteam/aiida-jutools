{
 "cells": [
  {
   "cell_type": "markdown",
   "metadata": {},
   "source": [
    "# Statistical birds eye view of the contents in an AiiDAdb"
   ]
  },
  {
   "cell_type": "markdown",
   "metadata": {},
   "source": [
    "This is the first of two deliverable for the SiSc-Lab2020 project.\n",
    "\n",
    "Authors = \n",
    "\n",
    "Supervisors: Jens Bröder, Dr. Daniel Wortmann, Johannes Wasmer, Prof. Dr. Stefan Blügel."
   ]
  },
  {
   "cell_type": "markdown",
   "metadata": {},
   "source": [
    "# Instructions by supervisors"
   ]
  },
  {
   "cell_type": "markdown",
   "metadata": {},
   "source": [
    "## Jens\n",
    "\n",
    "You have to implement this notebook.\n",
    "\n",
    "In the end only text (markdown) cells and output results of code cells should be seen if one hides the code cells (hide_code extension).\n",
    "\n",
    "That can easily exported into a nice pdf file (google it, probably will find sth with `nbconvert`).\n",
    "\n",
    "Also the amount of python code in this notebook should be minimal.\n",
    "\n",
    "Rather, export the functions you use to python file(s) and import them here (hide complexity).\n",
    "\n",
    "Optional dump query results in a file, from which results will be reread for speed, i.e cache results."
   ]
  },
  {
   "cell_type": "markdown",
   "metadata": {},
   "source": [
    "## Johannes\n",
    "\n"
   ]
  },
  {
   "cell_type": "markdown",
   "metadata": {},
   "source": [
    "After talking with Jens about it, here are some additional thoughts on the code structure and implementation, for both deliverables.\n",
    "\n",
    "The **primary** goal is of course that the code should work, produce nice output (and helpful error messages), obviously.\n",
    "\n",
    "The **secondary** goal is speed. How long do you expect your code to run on a dataset of a given size? Are there multiple paths to a goal, but with differing performance?\n",
    "\n",
    "You can break the runtime down into several steps: data acquisition, data transformation (or preprocessing), data analysis, data visualization. In this project, we will rename/replace these steps to: **querying, de-/serialization, analysis=visualization**.\n",
    "\n",
    "**Querying the database.** Performance considerations:\n",
    "- Performance measurement: use the magics `%time` and `%timeit`.\n",
    "- Query evaluations: queries (in general) use 'lazy evaluation'.\n",
    "  - *Query building* methods build the query but do not execute it. These are chainable methods like `append()`, `get_outgoing()`, etc.\n",
    "  - *Query execution* methods send the query to the database to be evaluated. There are two kinds:\n",
    "    - non-iterator methods: e.g. `all()`, `first()`, etc. These return a result `list`: all items are loaded into memory.\n",
    "    - iterator methods: e.g. `iterall()`, `iterdict()`. These return a result `Generator`: only one item at a time is loaded into memory.\n",
    "    \n",
    "**De-/serialization**, i.e. writing and reading it to/from a file. *Keep in mind: if you come to the conclusion this is unnecessary, then justify it!* Considerations:\n",
    "- Necessity: we assume 'yes'. So you need serialization/deserialization routine(s).\n",
    "- Code design: we recommend to write a serializer that moves *all* data needed (as in: the subset of data needed for the project tasks, not more, not less (unless sensible)) from aiida to file (perform query & serialization). Then the visualization methods are decoupled from aiida and load data from that file. Advantages: a) only needs to be called when data in database changed, b) similar queries for different visualizations can be performed only once. One design option is this:\n",
    "  ```python\n",
    "  serialize = sisclab.Serializer(profile)\n",
    "  serialize.to_file(filepath)\n",
    "  visualize = sisclab.Visualizer(filepath)\n",
    "  visualize.histogram(cumulative=True, plot_options)\n",
    "  # plots histogram\n",
    "  ```\n",
    "- Serialization format: there are two practical options (maybe more):\n",
    "  - `dict`: tree-like. One `dict` per file. choose key-value (nested?) based on use-case. in general, `uuid` is a good key. options: JSON, ...\n",
    "  - `pandas.Dataframe`: could be preferrable in some cases. --> options: csv, `df.to_pickle()`, ...\n",
    "  - pickle: python object serialization, see e.g. [Pickling in Python - The Very Basics](https://ianlondon.github.io/blog/pickling-basics/). \n",
    "- Serialization location:\n",
    "  - one file or several files?\n",
    "  - we recommend to de/serialize from/to `sisclab/data/` folder. It is included in the project's `.gitignore` file, so nothing in it gets committed to/from git (git is for code, not for data; the code generates the data).\n",
    "- Transformation:\n",
    "  - if needed, decide where to put needed data transformations (before serialization or after deserialization) to minimize them.\n",
    "- Deserialization: \n",
    "  - a class (as above) might help to define the deserialization format only once for all visualization methods.\n",
    "  \n",
    "\n",
    "**Visualization**:\n",
    "- Prefer `bokeh` to `matplotlib` or other libs wherever possible, unless you have a good justification.\n",
    "- In `D1`, static plots are okay, interactive plots are a bonus.\n",
    "- Lists results (when plot is overkill) will look nicer in a notebook if they are a `pandas.Series` or `pandas.Dataframes`.\n",
    "- Think about function signatures. Can you generalize them to make a nice interface? For example, a signature for SubtaskD1.c might look like this:\n",
    "  ```python\n",
    "  def node_type_summary(user_list : list = [], node_basetype : Node = Data,\n",
    "                        chart_type : bokeh.chart_type = bokeh.pie_chart, plot : bool = True):\n",
    "    \"\"\"\n",
    "    :param user_list: list of users. empty list = all users = default.\n",
    "    :param node_basetype: subdivides chart into subtypes. Valid base type examples: ProcessNode, CalculationNode, WorkflowNode, Data, ArrayData.\n",
    "    :param chart_type: bokeh visualization type. pie chart = default.\n",
    "    :param plot: True: show plot, don't return data. False: don't plot, return data.\n",
    "    :return: stats: a dictionary {node_subtype : node_count}, insertion-order sorted in descending order.\n",
    "    :rtype: dict.\n",
    "    \"\"\"\n",
    "  ```\n"
   ]
  },
  {
   "cell_type": "markdown",
   "metadata": {},
   "source": [
    "# Imports"
   ]
  },
  {
   "cell_type": "code",
   "execution_count": 1,
   "metadata": {},
   "outputs": [],
   "source": [
    "# magics:\n",
    "# # autoreload imports. \n",
    "# # intent: if i change sth in import, i don't have to restart kernel. enable only for development.\n",
    "%load_ext autoreload\n",
    "%autoreload 2\n",
    "# # choose matplotlib backend. backend 'notebook' allows interactive plots if your env allows it.\n",
    "%matplotlib notebook"
   ]
  },
  {
   "cell_type": "code",
   "execution_count": 2,
   "metadata": {},
   "outputs": [],
   "source": [
    "# python imports:\n",
    "from collections import Counter\n",
    "import time\n",
    "#from pprint import pprint"
   ]
  },
  {
   "cell_type": "code",
   "execution_count": 3,
   "metadata": {},
   "outputs": [],
   "source": [
    "# aiida imports:\n",
    "from aiida import load_profile\n",
    "profile = load_profile()\n",
    "\n",
    "# ggf add futher imports\n",
    "from aiida.orm import QueryBuilder as QB\n",
    "from aiida.orm import Node, User, CalcJobNode, Computer, Code\n",
    "from aiida.plugins import DataFactory\n",
    "\n",
    "from aiida.common.constants import elements as PeriodicTableElements"
   ]
  },
  {
   "cell_type": "code",
   "execution_count": 5,
   "metadata": {},
   "outputs": [],
   "source": [
    "# project imports:\n",
    "#import helpers\n",
    "from aiida_jutools.sisc_lab import helpers\n",
    "# equivalent ('.' is the sisc_lab directory):\n",
    "# from . import helpers\n",
    "# alternative:\n",
    "# from .helpers import print_bold\n",
    "# from .helpers import * ('*' import everything; use of '*' is considered bad style)"
   ]
  },
  {
   "cell_type": "code",
   "execution_count": null,
   "metadata": {},
   "outputs": [],
   "source": [
    "# (example:)\n",
    "helpers.print_bold(f\"This notebook/dashboard will visualize the contents from the database of profile {profile.name}\")"
   ]
  },
  {
   "cell_type": "markdown",
   "metadata": {},
   "source": [
    "# SubtaskD1.a: Node information"
   ]
  },
  {
   "cell_type": "markdown",
   "metadata": {},
   "source": [
    "Task:"
   ]
  },
  {
   "cell_type": "code",
   "execution_count": null,
   "metadata": {},
   "outputs": [],
   "source": [
    "now = time.strftime(\"%c\")\n",
    "# TODO: execute query here\n",
    "t = time.time()\n",
    "elapsed = time.time() - t\n",
    "totalnodes = len(res)\n",
    "print(\"Total number of nodes in the database: {} (retrieved in {} s.)\".format(totalnodes, elapsed))"
   ]
  },
  {
   "cell_type": "markdown",
   "metadata": {},
   "source": [
    "# SubtaskD1.b: Users"
   ]
  },
  {
   "cell_type": "markdown",
   "metadata": {},
   "source": [
    "Task: print out a list of Users and how many nodes belong to them\n",
    "\n",
    "for example\n",
    "\n",
    "```\n",
    "Users:\n",
    "- j.broeder@fz-juelich.de created 182 nodes\n",
    "- tests@aiida.mail created 104 nodes\n",
    "```"
   ]
  },
  {
   "cell_type": "markdown",
   "metadata": {},
   "source": [
    "# SubtaskD1.c: Node types"
   ]
  },
  {
   "cell_type": "markdown",
   "metadata": {},
   "source": [
    "Task: plot node information in two pie chart plots\n",
    "\n",
    "One showing what data nodes there (with their lowest class names(node_type)) I.e Dict, K-pointsData, CifData, FleurinpData...\n",
    "\n",
    "And one chart showning the process nodes, (with their lowest class names(process_type) i.e CalcjobNodes: FleurCalcjob, FleurinputgenCalcjob, ...\n",
    "\n",
    "WorkChain nodes: FleurSCFWorkchain, FleurBandDosWorkchain, ..., calcfunctions, and workfunction nodes are fine to not show the lowest class names\n"
   ]
  },
  {
   "cell_type": "markdown",
   "metadata": {},
   "source": [
    "# SubtaskD1.d: Histogram"
   ]
  },
  {
   "cell_type": "markdown",
   "metadata": {},
   "source": [
    "Task: Cumulative Histogram/ or line plot by ctime & mtime of all nodes over time"
   ]
  },
  {
   "cell_type": "markdown",
   "metadata": {},
   "source": [
    "# SubtaskD1.e: Codes"
   ]
  },
  {
   "cell_type": "markdown",
   "metadata": {},
   "source": [
    "Task: List Code names, sorted by by how many calcjobs where run with each"
   ]
  },
  {
   "cell_type": "markdown",
   "metadata": {},
   "source": [
    "# SubtaskD1.f: Groups"
   ]
  },
  {
   "cell_type": "markdown",
   "metadata": {},
   "source": [
    "Task: List all group names with how many nodes they contain (verdi group list -C) (exclude import and export groups)"
   ]
  },
  {
   "cell_type": "code",
   "execution_count": 6,
   "metadata": {},
   "outputs": [],
   "source": [
    "def ListGroup(Group : list, exclude : list):\n",
    "    \"\"\" return the group names and nodes they contain\n",
    "    \n",
    "    :the list of all groups\n",
    "    :the list of all excluded groups name\n",
    "    \"\"\"\n",
    "    print('{:<52}{:6}'.format('Group names:','sizes:'))\n",
    "    for a in Group:\n",
    "        flag=0\n",
    "        type = a[0].type_string\n",
    "        for ex in exclude:\n",
    "            if ex in type:\n",
    "                flag=1\n",
    "        if(flag):\n",
    "            continue     \n",
    "        else:\n",
    "            ## the line below contains all the properties\n",
    "            ##print(a[0].label,' ',a[0].user,' ',a[0].type_string,' ',a[0].description)\n",
    "\n",
    "            print('{:<50}|{:5}'.format(a[0].label,len(a[0].nodes)))"
   ]
  },
  {
   "cell_type": "code",
   "execution_count": 7,
   "metadata": {},
   "outputs": [
    {
     "name": "stdout",
     "output_type": "stream",
     "text": [
      "Group names:                                        sizes:\n",
      "codes                                             |   18\n",
      "delta_parameters_gustav                           |   71\n",
      "delta_structures_gustav                           |   71\n",
      "fusion_materials                                  |   79\n",
      "delta_structures_gustav_rev                       |   66\n",
      "delta_parameters_gustav_rev                       |   66\n",
      "stable_binary_metals_from_materialsproject        | 5058\n",
      "fleur_initial_cls_finished                        |    7\n",
      "delta_parameters_gutstav_soc                      |   71\n",
      "fusion_strucs_refinded                            |   23\n",
      "Verdi autogroup on 2017-07-10 11:15:44            |    1\n",
      "Verdi autogroup on 2017-07-10 17:40:53            |    1\n",
      "Verdi autogroup on 2018-06-21 08:38:38            |   15\n",
      "Verdi autogroup on 2018-06-21 08:44:23            |   15\n",
      "Verdi autogroup on 2018-06-21 08:46:33            |   15\n"
     ]
    }
   ],
   "source": [
    "load_profile()\n",
    "#!verdi group list --all\n",
    "from aiida.orm import QueryBuilder\n",
    "from aiida.orm import load_node, Node, Group, Computer, User, CalcJobNode, Code, StructureData\n",
    "\n",
    "qb = QueryBuilder()\n",
    "qb.append(Group)\n",
    "#print(qb.all())\n",
    "\n",
    "group = qb.all()\n",
    "ListGroup(group,['export','import'])"
   ]
  },
  {
   "cell_type": "markdown",
   "metadata": {},
   "source": [
    "# SubtaskD1.g: Structures"
   ]
  },
  {
   "cell_type": "markdown",
   "metadata": {},
   "source": [
    "Task: Further analyze what structures are in the DB\n",
    "\n",
    "Number of structureData node versus how many atoms they contain. \n",
    "\n",
    "here interactive with bokeh hover tool showing the structure formula and uuid\n",
    "\n",
    "Number of StructureData nodes versus elements bokeh bar chart, since there are over \n",
    "100 elements in the periodic table you can split it over several plots, or just use the charge number as in \n",
    "'example/element_content.png' but then make it interactive that once one hovers \n",
    "\n",
    "with the mouse over a bar it tells you what element it is and how many structures there are containing this element-"
   ]
  },
  {
   "cell_type": "code",
   "execution_count": 8,
   "metadata": {},
   "outputs": [
    {
     "ename": "ModuleNotFoundError",
     "evalue": "No module named 'HelperPackage'",
     "output_type": "error",
     "traceback": [
      "\u001b[0;31m---------------------------------------------------------------------------\u001b[0m",
      "\u001b[0;31mModuleNotFoundError\u001b[0m                       Traceback (most recent call last)",
      "\u001b[0;32m<ipython-input-8-0665d1c09dea>\u001b[0m in \u001b[0;36m<module>\u001b[0;34m\u001b[0m\n\u001b[1;32m      1\u001b[0m \u001b[0;32mfrom\u001b[0m \u001b[0maiida\u001b[0m\u001b[0;34m.\u001b[0m\u001b[0morm\u001b[0m \u001b[0;32mimport\u001b[0m \u001b[0mQueryBuilder\u001b[0m\u001b[0;34m\u001b[0m\u001b[0m\n\u001b[1;32m      2\u001b[0m \u001b[0;32mfrom\u001b[0m \u001b[0maiida\u001b[0m\u001b[0;34m.\u001b[0m\u001b[0morm\u001b[0m \u001b[0;32mimport\u001b[0m \u001b[0mload_node\u001b[0m\u001b[0;34m,\u001b[0m \u001b[0mNode\u001b[0m\u001b[0;34m,\u001b[0m \u001b[0mGroup\u001b[0m\u001b[0;34m,\u001b[0m \u001b[0mComputer\u001b[0m\u001b[0;34m,\u001b[0m \u001b[0mUser\u001b[0m\u001b[0;34m,\u001b[0m \u001b[0mCalcJobNode\u001b[0m\u001b[0;34m,\u001b[0m \u001b[0mCode\u001b[0m\u001b[0;34m,\u001b[0m \u001b[0mStructureData\u001b[0m\u001b[0;34m\u001b[0m\u001b[0m\n\u001b[0;32m----> 3\u001b[0;31m \u001b[0;32mfrom\u001b[0m \u001b[0mHelperPackage\u001b[0m \u001b[0;32mimport\u001b[0m \u001b[0mDataProcessing\u001b[0m\u001b[0;34m\u001b[0m\u001b[0m\n\u001b[0m\u001b[1;32m      4\u001b[0m \u001b[0;32mfrom\u001b[0m \u001b[0mDataProcessing\u001b[0m\u001b[0;34m.\u001b[0m\u001b[0mDataVisu\u001b[0m \u001b[0;32mimport\u001b[0m \u001b[0mStrucDataForm\u001b[0m\u001b[0;34m\u001b[0m\u001b[0m\n\u001b[1;32m      5\u001b[0m \u001b[0;34m\u001b[0m\u001b[0m\n",
      "\u001b[0;31mModuleNotFoundError\u001b[0m: No module named 'HelperPackage'"
     ]
    }
   ],
   "source": [
    "from aiida.orm import QueryBuilder\n",
    "from aiida.orm import load_node, Node, Group, Computer, User, CalcJobNode, Code, StructureData\n",
    "from HelperPackage import DataProcessing\n",
    "from DataProcessing.DataVisu import StrucDataForm\n",
    "\n",
    "def NumStructureNode():\n",
    "    #### return the pd.DataFrame including elements and number of each element\n",
    "    import pandas as pd\n",
    "    StrucList = []\n",
    "    qb = QueryBuilder()\n",
    "    qb.append(StructureData)\n",
    "    print('number of StructureData Nodes:',qb.count())\n",
    "    qb.count()\n",
    "\n",
    "    for struc, in qb.all()[:]:\n",
    "        form = struc.get_formula()\n",
    "        struct = StrucDataForm(form)\n",
    "        StrucList = StrucList+ [struct.FormAnalyse()]\n",
    "    return pd.DataFrame(StrucList).fillna(0)\n",
    "\n",
    "def ShowingElements(Data):\n",
    "    from bokeh.io import output_file, show\n",
    "    from bokeh.models import ColumnDataSource\n",
    "    from bokeh.plotting import figure\n",
    "    from bokeh.io import output_notebook\n",
    "    from bokeh.palettes import inferno\n",
    "\n",
    "    output_file(\"ShowingElements.html\")\n",
    "    #data = NumStructureNode()\n",
    "    data = Data\n",
    "    elements = list(data.columns)\n",
    "    counts = list(data.astype(bool).sum(axis=0))\n",
    "    #print(counts)\n",
    "    #print(elements)\n",
    "    \n",
    "    source = ColumnDataSource(data=dict(elements=elements, counts=counts,color=inferno(len(elements))))\n",
    "    \n",
    "    TOOLTIPS = [\n",
    "    (\"element\", \"@elements\"),\n",
    "    (\"(x,y)\", \"($x, $y)\"),\n",
    "    (\"Structures containing this element\", \"@counts\"),\n",
    "    ]\n",
    "\n",
    "    p = figure( y_range=elements,x_range=(0,500), plot_width=800, plot_height=800, title=\"Elements Counts\", tooltips=TOOLTIPS)\n",
    "    #print('step figure done')\n",
    "    p.hbar(y=\"elements\", right=\"counts\", height=0.5, left=0, color='color',  source=source)\n",
    "    #print('step hbar done')\n",
    "    \n",
    "    output_notebook()\n",
    "    p.xgrid.grid_line_color = None\n",
    "    #p.legend = False\n",
    "    show(p)\n",
    "    \n",
    "    \n",
    "def ShowFormula(Data):\n",
    "    from bokeh.io import output_file, show\n",
    "    from bokeh.models import ColumnDataSource\n",
    "    from bokeh.plotting import figure\n",
    "    from bokeh.io import output_notebook\n",
    "    from bokeh.palettes import inferno\n",
    "\n",
    "    data = Data\n",
    "    elements = list(data.keys())\n",
    "    counts = list(len(data[key])/2 for key in data.keys())\n",
    "    formulas = list(data[key] for key in data.keys())\n",
    "\n",
    "    length = len(elements)\n",
    "    source = ColumnDataSource(data=dict(elements=elements, counts=counts,color=inferno(length)))\n",
    "    \n",
    "    TOOLTIPS = [\n",
    "    (\"Number of Atoms\", \"@elements\"),\n",
    "    (\"(x,y)\", \"($x, $y)\"),\n",
    "    (\"Number of Nodes\", \"@counts\"),\n",
    "    (\"id and formula\", \"@formulas\"),\n",
    "    ]\n",
    "\n",
    "    p = figure( y_range=(0,160),x_range=(0,1000), plot_width=800, plot_height=800, title=\"Atoms Count\", tooltips=TOOLTIPS)\n",
    "    #print('step figure done')\n",
    "    p.hbar(y=\"elements\", right=\"counts\", height=0.5, left=0, color='color',  source=source)\n",
    "    #print('step hbar done')\n",
    "    \n",
    "    output_notebook()\n",
    "    p.xgrid.grid_line_color = None\n",
    "    #p.legend = False\n",
    "    show(p)\n",
    "    \n",
    "def GetFormulaDict():\n",
    "    \n",
    "    ## may be not necessary, return the formulas and nodes containing this formula\n",
    "    import numpy as np\n",
    "    from aiida.orm import QueryBuilder,StructureData\n",
    "    qb = QueryBuilder()\n",
    "    qb.append(StructureData)\n",
    "    Mydict = qb.all()\n",
    "    Mydict = np.ravel(Mydict)\n",
    "\n",
    "    Newdict = {}\n",
    "    for dict in Mydict:\n",
    "        if dict.get_formula in Newdict.keys():\n",
    "            Newdict[dict.get_formula()].append(dict.uuid)\n",
    "        else:\n",
    "            Newdict[dict.get_formula()] = [dict.uuid]\n",
    "    return Newdict\n",
    "\n",
    "def AtomsNumNodes():\n",
    "    from aiida.orm import QueryBuilder,StructureData\n",
    "    import numpy as np\n",
    "    qb = QueryBuilder()\n",
    "    qb.append(StructureData)\n",
    "    StructDatas = qb.all()\n",
    "    Newdict = {}\n",
    "    \n",
    "    for data, in StructDatas:\n",
    "        CompositionDict = data.get_composition()\n",
    "        NumAtom = np.sum(list(CompositionDict.values()))\n",
    "        if NumAtom in Newdict.keys():\n",
    "            Newdict[NumAtom].append(data.uuid)\n",
    "            Newdict[NumAtom].append(data.get_formula())\n",
    "        else:\n",
    "            Newdict[NumAtom] = [data.uuid,data.get_formula()]\n",
    "    return Newdict"
   ]
  },
  {
   "cell_type": "code",
   "execution_count": null,
   "metadata": {},
   "outputs": [],
   "source": [
    "dic = AtomsNumNodes()"
   ]
  },
  {
   "cell_type": "code",
   "execution_count": null,
   "metadata": {},
   "outputs": [],
   "source": [
    "ShowFormula(dic)"
   ]
  },
  {
   "cell_type": "code",
   "execution_count": null,
   "metadata": {},
   "outputs": [],
   "source": [
    "data = NumStructureNode()"
   ]
  },
  {
   "cell_type": "code",
   "execution_count": null,
   "metadata": {
    "scrolled": true
   },
   "outputs": [],
   "source": [
    "ShowingElements(data)"
   ]
  },
  {
   "cell_type": "code",
   "execution_count": null,
   "metadata": {},
   "outputs": [],
   "source": [
    "# initialize the Structure data\n",
    "from aiida.orm import QueryBuilder\n",
    "from aiida.orm import load_node, Node, Group, Computer, User, CalcJobNode, Code, StructureData\n",
    "from HelperPackage import DataProcessing\n",
    "from DataProcessing.DataVisu import StrucDataForm\n",
    "\n",
    "qb = QueryBuilder()\n",
    "qb.append(StructureData)\n",
    "\n",
    "structures = qb.all()\n",
    "\n",
    "for structure in structures[:]:\n",
    "    formula = structure[0].get_formula()\n",
    "    struct = StrucDataForm(formula)\n",
    "    structure[0].get_composition()\n",
    "    print(struct.FormAnalyse())"
   ]
  },
  {
   "cell_type": "code",
   "execution_count": null,
   "metadata": {},
   "outputs": [],
   "source": [
    "### the advantage of self written function FormAnalyse() rather than the get_composition()\n",
    "print('Comparing the running time of two functions...')\n",
    "starttime1 = time.time()\n",
    "for structure in structures[:]:\n",
    "    structure[0].get_composition()\n",
    "    ## self wirtten function\n",
    "    #struct.FormAnalyse()\n",
    "    \n",
    "print('total time of get_composition = ',time.time()-starttime1)\n",
    "\n",
    "starttime2 = time.time()\n",
    "\n",
    "for structure in structures[:]:\n",
    "    formula = structure[0].get_formula()\n",
    "    struct = StrucDataForm(formula)\n",
    "    struct.FormAnalyse()\n",
    "    \n",
    "print('total time of self written function = ',time.time()-starttime2)"
   ]
  },
  {
   "cell_type": "code",
   "execution_count": null,
   "metadata": {},
   "outputs": [],
   "source": []
  },
  {
   "cell_type": "markdown",
   "metadata": {},
   "source": [
    "# SubtaskD1.h: Calculations"
   ]
  },
  {
   "cell_type": "markdown",
   "metadata": {},
   "source": [
    "Task: more detail analysis of Calculations\n",
    "\n",
    "`print('\\n\\nMore detailed analysis of Calculations \\n')`\n",
    "\n",
    "List, stacked Histogram of Calculations types and the state it ended up finished, failed, exit codes, exit messages\n",
    "\n",
    "more detail analysis of WorkChains\n",
    "\n",
    "`print('\\n\\nMore detailed analysis of WorkChains \\n')`\n",
    "\n",
    "List,  stacked Histogram for each Workchain type and the state it ended up in finished, failed, exit codes, exit messages"
   ]
  },
  {
   "cell_type": "markdown",
   "metadata": {},
   "source": [
    "# SubtaskD1.i: Provenance"
   ]
  },
  {
   "cell_type": "markdown",
   "metadata": {},
   "source": [
    "Task: Database and provenance health: display the number of nodes who have no incomming and outgoing links, no incomming links (any number outgoing), and no outgoing links (any number incomming)"
   ]
  }
 ],
 "metadata": {
  "celltoolbar": "Hide code",
  "kernelspec": {
   "display_name": "Python 3",
   "language": "python",
   "name": "python3"
  },
  "language_info": {
   "codemirror_mode": {
    "name": "ipython",
    "version": 3
   },
   "file_extension": ".py",
   "mimetype": "text/x-python",
   "name": "python",
   "nbconvert_exporter": "python",
   "pygments_lexer": "ipython3",
   "version": "3.6.5"
  },
  "toc": {
   "colors": {
    "hover_highlight": "#DAA520",
    "navigate_num": "#000000",
    "navigate_text": "#333333",
    "running_highlight": "#FF0000",
    "selected_highlight": "#FFD700",
    "sidebar_border": "#EEEEEE",
    "wrapper_background": "#FFFFFF"
   },
   "moveMenuLeft": true,
   "nav_menu": {
    "height": "12px",
    "width": "252px"
   },
   "navigate_menu": true,
   "number_sections": true,
   "sideBar": true,
   "skip_h1_title": false,
   "threshold": 4,
   "toc_cell": false,
   "toc_section_display": "block",
   "toc_window_display": false,
   "widenNotebook": false
  },
  "varInspector": {
   "cols": {
    "lenName": 16,
    "lenType": 16,
    "lenVar": 40
   },
   "kernels_config": {
    "python": {
     "delete_cmd_postfix": "",
     "delete_cmd_prefix": "del ",
     "library": "var_list.py",
     "varRefreshCmd": "print(var_dic_list())"
    },
    "r": {
     "delete_cmd_postfix": ") ",
     "delete_cmd_prefix": "rm(",
     "library": "var_list.r",
     "varRefreshCmd": "cat(var_dic_list()) "
    }
   },
   "types_to_exclude": [
    "module",
    "function",
    "builtin_function_or_method",
    "instance",
    "_Feature"
   ],
   "window_display": false
  }
 },
 "nbformat": 4,
 "nbformat_minor": 4
}
