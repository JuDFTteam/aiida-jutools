{
 "cells": [
  {
   "cell_type": "markdown",
   "metadata": {},
   "source": [
    "# Structure Property visualizer"
   ]
  },
  {
   "cell_type": "markdown",
   "metadata": {},
   "source": [
    "This is the second of two deliverables for the SiSc-Lab2020 project.\n",
    "\n",
    "Authors = Sijie Luo and Anna Garoufali\n",
    "\n",
    "Supervisors: Jens Bröder, Dr. Daniel Wortmann, Johannes Wasmer, Prof. Dr. Stefan Blügel."
   ]
  },
  {
   "cell_type": "code",
   "execution_count": null,
   "metadata": {},
   "outputs": [],
   "source": [
    "# Imports\n",
    "%load_ext autoreload\n",
    "%autoreload 2\n",
    "%matplotlib notebook\n",
    "\n",
    "# python imports:\n",
    "from collections import Counter\n",
    "import time\n",
    "import numpy as np\n",
    "import pandas as pd\n",
    "#from pprint import pprint\n",
    "# aiida imports:\n",
    "from aiida import load_profile\n",
    "profile = load_profile()\n",
    "\n",
    "from aiida_jutools.sisc_lab import helpers\n",
    "from bokeh.io import output_notebook\n",
    "\n",
    "output_notebook()\n",
    "helpers.print_bold(f\"This notebook/dashboard will visualize the contents from the database of profile {profile.name}\")\n",
    "all_times = []"
   ]
  },
  {
   "cell_type": "markdown",
   "metadata": {},
   "source": [
    "### Check workflows and versions"
   ]
  },
  {
   "cell_type": "code",
   "execution_count": null,
   "metadata": {},
   "outputs": [],
   "source": [
    "t1 = time.time()\n",
    "# Preprocessing: Set formula attributes for all the structure nodes\n",
    "helpers.set_structure_formula()\n",
    "\n",
    "# workflow_name = 'fleur_scf_wc' # Filter workflow\n",
    "# workflowdictlst = helpers.get_structure_workflow_dict(workflow_filters={'attributes.process_label':workflow_name})\n",
    "#or\n",
    "workflow_name = 'FleurScfWorkChain' # No restriction. Querying by default\n",
    "#workflow_filters = {'attributes.process_label' : {'==' : workflow_name}}\n",
    "workflowdictlst = helpers.get_structure_workflow_dict(timing=True, check_version=True)#workflow_filters=workflow_filters, \n",
    "\n",
    "print(\"Nuumber of the workflows: \", len(workflowdictlst), '\\n')\n",
    "print(\"Workflows: \")\n",
    "workflowdictlst[:2]\n",
    "\n",
    "all_times.append(time.time()-t1)"
   ]
  },
  {
   "cell_type": "code",
   "execution_count": null,
   "metadata": {},
   "outputs": [],
   "source": [
    "# TODO: drop down widget for selecting the workflow/dict results\n",
    "# TODO: drop down widget to select property"
   ]
  },
  {
   "cell_type": "markdown",
   "metadata": {},
   "source": [
    "### Check attributes"
   ]
  },
  {
   "cell_type": "code",
   "execution_count": null,
   "metadata": {},
   "outputs": [],
   "source": [
    "# dict_project=['uuid','attributes'] # Attributes of dict nodes\n",
    "# workflowdictlst = helpers.get_structure_workflow_dict(dict_project=dict_project)\n",
    "# workflowdictlst[:20]\n",
    "#or\n",
    "# structure_project=['uuid', 'extras','attributes.kinds'] # Attributes of structure nodes\n",
    "# workflowdictlst = helpers.get_structure_workflow_dict(structure_project=structure_project)\n",
    "# workflowdictlst[:20]"
   ]
  },
  {
   "cell_type": "markdown",
   "metadata": {},
   "source": [
    "Available dict nodes attributes for different versions of workflow\n",
    "\n",
    "\n",
    "1. workflow 0.4.2\n",
    "- 'workflow_version': '0.4.2',\n",
    "- 'total_energy': -971.2916432694,\n",
    "- 'force_largest': 0.0,\n",
    "- 'distance_charge': None,\n",
    "- 'total_wall_time': 176,\n",
    "- 'total_energy_units': 'Htr',\n",
    "- 'distance_charge_units': 'me/bohr^3',\n",
    "- 'total_wall_time_units': 's'\n",
    "\n",
    "2. Parser\n",
    "- 'parser_info': 'AiiDA Fleur Parser v0.3.0',\n",
    "- 'energy': -26430.191843004,\n",
    "- 'bandgap': 0.0177798418,\n",
    "- 'walltime': 176,\n",
    "- 'energy_units': 'eV',\n",
    "- 'fermi_energy': 0.2778502713,\n",
    "- 'bandgap_units': 'eV',\n",
    "- 'energy_hartree': -971.2916432694,\n",
    "- 'walltime_units': 'seconds',\n",
    "- 'fermi_energy_units': 'Htr',\n",
    "- 'energy_hartree_units': 'Htr'\n",
    "\n",
    "3. workflow 0.2.2\n",
    "- 'workflow_version': '0.2.2',\n",
    "- 'force': 1.241e-06,\n",
    "- 'energy': -15784.56376617,\n",
    "- 'energy_units': 'eV'"
   ]
  },
  {
   "cell_type": "markdown",
   "metadata": {},
   "source": [
    "### Structure nodes"
   ]
  },
  {
   "cell_type": "code",
   "execution_count": null,
   "metadata": {},
   "outputs": [],
   "source": [
    "t1 = time.time()\n",
    "structure_project=['uuid', 'extras.formula']\n",
    "structurenodes = helpers.generate_structure_property_pandas_source(\n",
    "            workflow_name, \n",
    "            structure_project=structure_project,\n",
    "            filename='structure_property.json')\n",
    "#structurenodes.head()\n",
    "\n",
    "all_times.append(time.time()-t1)"
   ]
  },
  {
   "cell_type": "markdown",
   "metadata": {},
   "source": [
    "### Dict nodes"
   ]
  },
  {
   "cell_type": "code",
   "execution_count": null,
   "metadata": {},
   "outputs": [],
   "source": [
    "t1 = time.time()\n",
    "# Dict nodes with workflow_version=0.4.2\n",
    "dict_project_wf042=['uuid', 'attributes.workflow_version', 'attributes.total_energy',\n",
    "                    'attributes.total_energy_units', 'attributes.distance_charge',\n",
    "                    'attributes.distance_charge_units', 'attributes.total_wall_time',\n",
    "                    'attributes.total_wall_time_units']\n",
    "dictnodes_wf042 = helpers.generate_dict_property_pandas_source(\n",
    "        workflow_name, \n",
    "        dict_project=dict_project_wf042, \n",
    "        filename='dict_property_workflow042.json')\n",
    "#dictnodes_wf042.head()"
   ]
  },
  {
   "cell_type": "code",
   "execution_count": null,
   "metadata": {},
   "outputs": [],
   "source": [
    "# Dict nodes with parser of any versions\n",
    "dict_project_parser=['uuid', 'attributes.parser_info', 'attributes.energy', 'attributes.energy_units', \n",
    "                     'attributes.fermi_energy', 'attributes.fermi_energy_units', 'attributes.energy_hartree', \n",
    "                     'attributes.energy_hartree_units', 'attributes.bandgap', 'attributes.bandgap_units', \n",
    "                     'attributes.walltime', 'attributes.walltime_units']\n",
    "dictnodes_parser = helpers.generate_dict_property_pandas_source(\n",
    "        workflow_name, \n",
    "        dict_project=dict_project_parser, \n",
    "        filename='dict_property_parser.json')\n",
    "#dictnodes_parser.head()\n",
    "\n",
    "all_times.append(time.time()-t1)"
   ]
  },
  {
   "cell_type": "markdown",
   "metadata": {},
   "source": [
    "### Combine two kind of nodes"
   ]
  },
  {
   "cell_type": "code",
   "execution_count": null,
   "metadata": {},
   "outputs": [],
   "source": [
    "t1 = time.time()\n",
    "# Combined nodes with workflow_version=0.4.2\n",
    "combinednodes_wf042 = helpers.generate_combination_property_pandas_source(\n",
    "        workflow_name, \n",
    "        dict_project=dict_project_wf042, \n",
    "        structure_project=structure_project,\n",
    "        filename='combined_property_wf042.json')\n",
    "#combinednodes_wf042.head()"
   ]
  },
  {
   "cell_type": "code",
   "execution_count": null,
   "metadata": {},
   "outputs": [],
   "source": [
    "# Combined nodes with parser of any versions\n",
    "combinednodes_parser = helpers.generate_combination_property_pandas_source(\n",
    "        workflow_name, \n",
    "        dict_project=dict_project_parser, \n",
    "        structure_project=structure_project,\n",
    "        filename='combined_property_parser.json')\n",
    "#combinednodes_parser.head()\n",
    "\n",
    "all_times.append(time.time()-t1)"
   ]
  },
  {
   "cell_type": "markdown",
   "metadata": {},
   "source": [
    "# Interactive plot"
   ]
  },
  {
   "cell_type": "markdown",
   "metadata": {},
   "source": [
    "### Check data source before plotting"
   ]
  },
  {
   "cell_type": "code",
   "execution_count": null,
   "metadata": {},
   "outputs": [],
   "source": [
    "t1 = time.time()\n",
    "df = helpers.read_json_file('combined_property_parser.json')\n",
    "#df"
   ]
  },
  {
   "cell_type": "code",
   "execution_count": null,
   "metadata": {},
   "outputs": [],
   "source": [
    "filtered_df, xdata, ydata = helpers.filter_missing_value(df,'energy', 'fermi_energy')\n",
    "filtered_df"
   ]
  },
  {
   "cell_type": "code",
   "execution_count": null,
   "metadata": {},
   "outputs": [],
   "source": [
    "\n",
    "all_times.append(time.time()-t1)"
   ]
  },
  {
   "cell_type": "markdown",
   "metadata": {},
   "source": [
    "### Interactive plot by Bokeh"
   ]
  },
  {
   "cell_type": "code",
   "execution_count": null,
   "metadata": {},
   "outputs": [],
   "source": [
    "t1 = time.time()\n",
    "# Workflow_version=0.4.2\n",
    "helpers.bokeh_struc_prop_vis('combined_property_wf042.json','distance_charge', 'total_energy', \"vis_wf042.html\", axis_type=['log', 'linear'],nbins=40)\n",
    "\n",
    "all_times.append(time.time()-t1)"
   ]
  },
  {
   "cell_type": "code",
   "execution_count": null,
   "metadata": {},
   "outputs": [],
   "source": [
    "# Parser\n",
    "t1 = time.time()\n",
    "helpers.bokeh_struc_prop_vis('combined_property_parser.json','energy', 'bandgap',\"vis_parser.html\")\n",
    "\n",
    "all_times.append(time.time()-t1)"
   ]
  },
  {
   "cell_type": "markdown",
   "metadata": {},
   "source": [
    "### Interactive plot using Bokeh server application"
   ]
  },
  {
   "cell_type": "code",
   "execution_count": null,
   "metadata": {},
   "outputs": [],
   "source": [
    "# In vscode terminal:\n",
    "# bokeh serve --show --port 5001 bokehplotting.py"
   ]
  },
  {
   "cell_type": "code",
   "execution_count": null,
   "metadata": {},
   "outputs": [],
   "source": [
    "npro  = None #sum(node_count.values())\n",
    "ndata = None #sum(process_count.values())\n",
    "totalnodes  = None\n",
    "size = 34\n",
    "header = ('# Timings of D2 in seconds\\n# Database info: {} nodes; {} processes, {} data, {} MB size \\n'\n",
    "          '# Preprocess structures, Prepare Structure, Prepare Dict, Join Data, Loading file, Plot 1, Plot 2\\n'\n",
    "           ''.format(totalnodes, npro, ndata, size))\n",
    "timestring = ''\n",
    "for times in all_times:\n",
    "    timestring = timestring + '{}  '.format(times) \n",
    "with open('all_times_D2_iffaiida.txt', 'w') as file1:\n",
    "    file1.write(header)\n",
    "    file1.write(timestring)"
   ]
  }
 ],
 "metadata": {
  "celltoolbar": "Hide code",
  "kernelspec": {
   "display_name": "AiiDA",
   "language": "python",
   "name": "python3"
  },
  "language_info": {
   "codemirror_mode": {
    "name": "ipython",
    "version": 3
   },
   "file_extension": ".py",
   "mimetype": "text/x-python",
   "name": "python",
   "nbconvert_exporter": "python",
   "pygments_lexer": "ipython3",
   "version": "3.8.5"
  },
  "toc": {
   "colors": {
    "hover_highlight": "#DAA520",
    "navigate_num": "#000000",
    "navigate_text": "#333333",
    "running_highlight": "#FF0000",
    "selected_highlight": "#FFD700",
    "sidebar_border": "#EEEEEE",
    "wrapper_background": "#FFFFFF"
   },
   "moveMenuLeft": true,
   "nav_menu": {
    "height": "12px",
    "width": "252px"
   },
   "navigate_menu": true,
   "number_sections": true,
   "sideBar": true,
   "skip_h1_title": false,
   "threshold": 4,
   "toc_cell": false,
   "toc_section_display": "block",
   "toc_window_display": false,
   "widenNotebook": false
  },
  "varInspector": {
   "cols": {
    "lenName": 16,
    "lenType": 16,
    "lenVar": 40
   },
   "kernels_config": {
    "python": {
     "delete_cmd_postfix": "",
     "delete_cmd_prefix": "del ",
     "library": "var_list.py",
     "varRefreshCmd": "print(var_dic_list())"
    },
    "r": {
     "delete_cmd_postfix": ") ",
     "delete_cmd_prefix": "rm(",
     "library": "var_list.r",
     "varRefreshCmd": "cat(var_dic_list()) "
    }
   },
   "types_to_exclude": [
    "module",
    "function",
    "builtin_function_or_method",
    "instance",
    "_Feature"
   ],
   "window_display": false
  }
 },
 "nbformat": 4,
 "nbformat_minor": 4
}
