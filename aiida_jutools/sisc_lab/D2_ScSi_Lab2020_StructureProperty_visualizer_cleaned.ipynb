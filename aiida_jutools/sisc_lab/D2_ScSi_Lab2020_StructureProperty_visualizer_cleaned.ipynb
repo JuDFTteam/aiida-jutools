{
 "cells": [
  {
   "cell_type": "markdown",
   "metadata": {},
   "source": [
    "# Structure Property visualizer"
   ]
  },
  {
   "cell_type": "markdown",
   "metadata": {},
   "source": [
    "This is the second of two deliverables for the SiSc-Lab2020 project.\n",
    "\n",
    "Authors = Sijie Luo and Anna Garoufali\n",
    "\n",
    "Supervisors: Jens Bröder, Dr. Daniel Wortmann, Johannes Wasmer, Prof. Dr. Stefan Blügel."
   ]
  },
  {
   "cell_type": "code",
   "execution_count": null,
   "metadata": {},
   "outputs": [],
   "source": [
    "# Imports\n",
    "%load_ext autoreload\n",
    "%autoreload 2\n",
    "%matplotlib notebook\n",
    "\n",
    "# python imports:\n",
    "from collections import Counter\n",
    "import time\n",
    "import numpy as np\n",
    "import pandas as pd\n",
    "#from pprint import pprint\n",
    "\n",
    "import helpers\n",
    "\n",
    "all_times = []"
   ]
  },
  {
   "cell_type": "code",
   "execution_count": null,
   "metadata": {},
   "outputs": [],
   "source": [
    "# aiida imports:\n",
    "from aiida import load_profile\n",
    "profile = load_profile()\n",
    "\n",
    "#from aiida_jutools.sisc_lab import helpers\n",
    "from bokeh.io import output_notebook\n",
    "\n",
    "output_notebook()\n",
    "helpers.print_bold(f\"This notebook/dashboard will visualize the contents from the database of profile {profile.name}\")"
   ]
  },
  {
   "cell_type": "markdown",
   "metadata": {},
   "source": [
    "### Check workflows and versions"
   ]
  },
  {
   "cell_type": "code",
   "execution_count": null,
   "metadata": {},
   "outputs": [],
   "source": [
    "t1 = time.time()\n",
    "# Preprocessing: Set formula attributes for all the structure nodes\n",
    "helpers.set_structure_formula()\n",
    "\n",
    "# workflow_name = 'fleur_scf_wc' # Filter workflow\n",
    "# workflow_filters = {'attributes.process_label' : {'==' : workflow_name}}\n",
    "# workflowdictlst = helpers.get_structure_workflow_dict(workflow_filters=workflow_filters)\n",
    "#or\n",
    "workflow_name = None # No restriction. Querying by default\n",
    "workflowdictlst, versionslst = helpers.get_structure_workflow_dict(timing=True, check_version=True)\n",
    "\n",
    "all_times.append(time.time()-t1)\n",
    "\n",
    "print(\"Number of the workflows: \", len(workflowdictlst), '\\n')\n",
    "print(\"Workflows: \")\n",
    "workflowdictlst[:2]\n"
   ]
  },
  {
   "cell_type": "code",
   "execution_count": null,
   "metadata": {},
   "outputs": [],
   "source": [
    "from helpers import MAP\n",
    "from helpers import predifined_workflow\n",
    "versions = [key for key,val in versionslst]\n",
    "print(versions)"
   ]
  },
  {
   "cell_type": "markdown",
   "metadata": {},
   "source": [
    "### Structure nodes"
   ]
  },
  {
   "cell_type": "code",
   "execution_count": null,
   "metadata": {},
   "outputs": [],
   "source": [
    "#!pip install openpyxl"
   ]
  },
  {
   "source": [
    "#### Single workflow version"
   ],
   "cell_type": "markdown",
   "metadata": {}
  },
  {
   "cell_type": "code",
   "execution_count": null,
   "metadata": {},
   "outputs": [],
   "source": [
    "t1 = time.time()\n",
    "structure_project=['uuid', 'extras.formula']\n",
    "structure_nodes = helpers.generate_structure_property_pandas_source(\n",
    "            version=versions[0],\n",
    "            workflow_name=workflow_name,\n",
    "            structure_project=structure_project,\n",
    "            filename=f\"structure_properties_{MAP[versions[0]]}.json\")\n",
    "#structure_nodes.head()\n",
    "\n",
    "all_times.append(time.time()-t1)"
   ]
  },
  {
   "source": [
    "#### Multiple workflow versions"
   ],
   "cell_type": "markdown",
   "metadata": {}
  },
  {
   "cell_type": "code",
   "execution_count": null,
   "metadata": {
    "scrolled": true
   },
   "outputs": [],
   "source": [
    "t1 = time.time()\n",
    "\n",
    "filename='structure_properties_all.xlsx'\n",
    "excel_writer = pd.ExcelWriter(filename)\n",
    "\n",
    "for version in versions:    \n",
    "    structure_project=['uuid', 'extras.formula']\n",
    "    structure_nodes = helpers.generate_structure_property_pandas_source(\n",
    "                version=version,\n",
    "                workflow_name=workflow_name, \n",
    "                structure_project=structure_project)\n",
    "    print(structure_nodes)\n",
    "    structure_nodes.to_excel(excel_writer, sheet_name=MAP[version], index=False)\n",
    "\n",
    "excel_writer.save()       \n",
    "    \n",
    "all_times.append(time.time()-t1)"
   ]
  },
  {
   "cell_type": "markdown",
   "metadata": {},
   "source": [
    "### Dict nodes"
   ]
  },
  {
   "source": [
    "#### Single workflow version"
   ],
   "cell_type": "markdown",
   "metadata": {}
  },
  {
   "cell_type": "code",
   "execution_count": null,
   "metadata": {},
   "outputs": [],
   "source": [
    "t1 = time.time()\n",
    "\n",
    "# Single workflow version\n",
    "dict_project = predifined_workflow.get_workflow(MAP[versions[0]]).projections\n",
    "dict_nodes = helpers.generate_dict_property_pandas_source(\n",
    "        workflow_name=workflow_name,\n",
    "        version=versions[0],\n",
    "        dict_project=dict_project, \n",
    "        filename=f\"dict_properties_{MAP[versions[0]]}.json\")\n",
    "#dict_nodes.head()\n",
    "            \n",
    "            \n",
    "all_times.append(time.time()-t1)"
   ]
  },
  {
   "source": [
    "#### Multiple workflow versions"
   ],
   "cell_type": "markdown",
   "metadata": {}
  },
  {
   "cell_type": "code",
   "execution_count": null,
   "metadata": {},
   "outputs": [],
   "source": [
    "t1 = time.time()\n",
    "\n",
    "\n",
    "filename='dict_properties_all.xlsx'\n",
    "excel_writer = pd.ExcelWriter(filename)\n",
    "\n",
    "for version in versions:\n",
    "    dict_project = predifined_workflow.get_workflow(MAP[version]).projections\n",
    "    dict_nodes = helpers.generate_dict_property_pandas_source(\n",
    "            workflow_name=workflow_name,\n",
    "            version=version,\n",
    "            dict_project=dict_project)\n",
    "    print(dict_nodes)\n",
    "    dict_nodes.to_excel(excel_writer, sheet_name=MAP[version], index=False)\n",
    "\n",
    "excel_writer.save()   \n",
    "    \n",
    "all_times.append(time.time()-t1)"
   ]
  },
  {
   "cell_type": "markdown",
   "metadata": {},
   "source": [
    "### Combine two kind of nodes"
   ]
  },
  {
   "source": [
    "#### Single workflow version"
   ],
   "cell_type": "markdown",
   "metadata": {}
  },
  {
   "cell_type": "code",
   "execution_count": null,
   "metadata": {
    "scrolled": true
   },
   "outputs": [],
   "source": [
    "t1 = time.time()\n",
    "\n",
    "structure_project=['uuid', 'extras.formula']\n",
    "dict_project = predifined_workflow.get_workflow(MAP[versions[0]]).projections\n",
    "combinednodes = helpers.generate_combined_property_pandas_source(\n",
    "        workflow_name=workflow_name, \n",
    "        version=versions[0],\n",
    "        structure_project=structure_project,\n",
    "        dict_project=dict_project,\n",
    "        filename=f\"combined_properties_{MAP[versions[0]]}.json\")\n",
    "\n",
    "all_times.append(time.time()-t1)"
   ]
  },
  {
   "source": [
    "#### Multiple workflow versions"
   ],
   "cell_type": "markdown",
   "metadata": {}
  },
  {
   "cell_type": "code",
   "execution_count": null,
   "metadata": {},
   "outputs": [],
   "source": [
    "t1 = time.time()\n",
    "\n",
    "filename='combined_properties_all.xlsx'\n",
    "excel_writer = pd.ExcelWriter(filename)\n",
    "\n",
    "for version in versions:\n",
    "    structure_project=['uuid', 'extras.formula']\n",
    "    dict_project = predifined_workflow.get_workflow(MAP[version]).projections\n",
    "    combined_nodes = helpers.generate_combined_property_pandas_source(\n",
    "            workflow_name=workflow_name, \n",
    "            version=version,\n",
    "            structure_project=structure_project,\n",
    "            dict_project=dict_project)\n",
    "    print(combined_nodes)\n",
    "    combined_nodes.to_excel(excel_writer, sheet_name=MAP[version], index=False)\n",
    "\n",
    "excel_writer.save()   \n",
    "    \n",
    "all_times.append(time.time()-t1)\n"
   ]
  },
  {
   "cell_type": "markdown",
   "metadata": {},
   "source": [
    "\n",
    "# Interactive plot"
   ]
  },
  {
   "cell_type": "markdown",
   "metadata": {},
   "source": [
    "### Check data source before plotting"
   ]
  },
  {
   "source": [
    "#### Single workflow version"
   ],
   "cell_type": "markdown",
   "metadata": {}
  },
  {
   "cell_type": "code",
   "execution_count": null,
   "metadata": {},
   "outputs": [],
   "source": [
    "t1 = time.time()\n",
    "df = helpers.read_json_file('combined_properties_wf_0_4_2.json')\n"
   ]
  },
  {
   "cell_type": "code",
   "execution_count": null,
   "metadata": {},
   "outputs": [],
   "source": [
    "filtered_df, xdata, ydata = helpers.filter_missing_value(df,'total_energy', 'distance_charge')\n",
    "all_times.append(time.time()-t1)\n"
   ]
  },
  {
   "source": [
    "#### Multiple workflow versions"
   ],
   "cell_type": "markdown",
   "metadata": {}
  },
  {
   "cell_type": "code",
   "execution_count": null,
   "metadata": {},
   "outputs": [],
   "source": [
    "t1 = time.time()\n",
    "dfs = helpers.read_excel_file('combined_properties_all.xlsx')\n"
   ]
  },
  {
   "cell_type": "code",
   "execution_count": null,
   "metadata": {},
   "outputs": [],
   "source": [
    "from helpers import INVMAP\n",
    "\n",
    "df_all, OPTIONS_all, UNITS_all = {}, {}, {}\n",
    "versions, mversions = [], []\n",
    "for key, df in dfs.items():\n",
    "    df = helpers.filter_unavailable_df(df)\n",
    "    if not df.empty:\n",
    "        df_all[key] = df\n",
    "        OPTIONS_all[key], UNITS_all[key] = helpers.get_attrs_and_units(df)\n",
    "        mversions.append(key)\n",
    "        versions.append(INVMAP[key])\n",
    "        \n",
    "all_times.append(time.time()-t1)"
   ]
  },
  {
   "cell_type": "markdown",
   "metadata": {},
   "source": [
    "### Interactive plot by Bokeh"
   ]
  },
  {
   "cell_type": "code",
   "execution_count": null,
   "metadata": {},
   "outputs": [],
   "source": [
    "t1 = time.time()\n",
    "\n",
    "helpers.bokeh_struc_prop_vis('combined_properties_wf_0_4_2.json','total_energy', 'distance_charge', \n",
    "                            output_filename=\"vis_wf042.html\", axis_type=['linear', 'linear'], nbins=40)\n",
    "\n",
    "all_times.append(time.time()-t1)"
   ]
  },
  {
   "cell_type": "markdown",
   "metadata": {},
   "source": [
    "### Interactive plot using Bokeh server application"
   ]
  },
  {
   "cell_type": "code",
   "execution_count": null,
   "metadata": {},
   "outputs": [],
   "source": [
    "# In vscode terminal:\n",
    "# bokeh serve --show --port 5001 bokehplotting.py"
   ]
  },
  {
   "cell_type": "code",
   "execution_count": null,
   "metadata": {},
   "outputs": [],
   "source": [
    "npro  = None #sum(node_count.values())\n",
    "ndata = None #sum(process_count.values())\n",
    "totalnodes  = None\n",
    "size = 34\n",
    "header = ('# Timings of D2 in seconds\\n# Database info: {} nodes; {} processes, {} data, {} MB size \\n'\n",
    "          '# Preprocess structures, Prepare Structure, Prepare Dict, Join Data, Loading file, Plot 1, Plot 2\\n'\n",
    "           ''.format(totalnodes, npro, ndata, size))\n",
    "timestring = ''\n",
    "for times in all_times:\n",
    "    timestring = timestring + '{}  '.format(times) \n",
    "with open('all_times_D2_iffaiida.txt', 'w') as file1:\n",
    "    file1.write(header)\n",
    "    file1.write(timestring)"
   ]
  }
 ],
 "metadata": {
  "celltoolbar": "Hide code",
  "kernelspec": {
   "display_name": "Python 3",
   "language": "python",
   "name": "python3"
  },
  "language_info": {
   "codemirror_mode": {
    "name": "ipython",
    "version": 3
   },
   "file_extension": ".py",
   "mimetype": "text/x-python",
   "name": "python",
   "nbconvert_exporter": "python",
   "pygments_lexer": "ipython3",
   "version": "3.8.5-final"
  },
  "toc": {
   "colors": {
    "hover_highlight": "#DAA520",
    "navigate_num": "#000000",
    "navigate_text": "#333333",
    "running_highlight": "#FF0000",
    "selected_highlight": "#FFD700",
    "sidebar_border": "#EEEEEE",
    "wrapper_background": "#FFFFFF"
   },
   "moveMenuLeft": true,
   "nav_menu": {
    "height": "12px",
    "width": "252px"
   },
   "navigate_menu": true,
   "number_sections": true,
   "sideBar": true,
   "skip_h1_title": false,
   "threshold": 4,
   "toc_cell": false,
   "toc_section_display": "block",
   "toc_window_display": false,
   "widenNotebook": false
  },
  "varInspector": {
   "cols": {
    "lenName": 16,
    "lenType": 16,
    "lenVar": 40
   },
   "kernels_config": {
    "python": {
     "delete_cmd_postfix": "",
     "delete_cmd_prefix": "del ",
     "library": "var_list.py",
     "varRefreshCmd": "print(var_dic_list())"
    },
    "r": {
     "delete_cmd_postfix": ") ",
     "delete_cmd_prefix": "rm(",
     "library": "var_list.r",
     "varRefreshCmd": "cat(var_dic_list()) "
    }
   },
   "types_to_exclude": [
    "module",
    "function",
    "builtin_function_or_method",
    "instance",
    "_Feature"
   ],
   "window_display": false
  }
 },
 "nbformat": 4,
 "nbformat_minor": 4
}