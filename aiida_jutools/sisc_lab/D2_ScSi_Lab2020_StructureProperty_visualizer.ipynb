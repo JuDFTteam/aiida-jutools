{
 "cells": [
  {
   "cell_type": "markdown",
   "metadata": {},
   "source": [
    "# Structure Property visualizer"
   ]
  },
  {
   "cell_type": "markdown",
   "metadata": {},
   "source": [
    "This is the second of two deliverables for the SiSc-Lab2020 project.\n",
    "\n",
    "Authors = \n",
    "\n",
    "Supervisors: Dr. Jens Bröder, Dr. Daniel Wortmann, Johannes Wasmer, Prof. Dr. Stefan Blügel."
   ]
  },
  {
   "cell_type": "markdown",
   "metadata": {},
   "source": [
    "# Instructions by supervisors"
   ]
  },
  {
   "cell_type": "markdown",
   "metadata": {},
   "source": [
    "## Jens"
   ]
  },
  {
   "cell_type": "markdown",
   "metadata": {},
   "source": [
    "You have to implement this notebook\n",
    "\n",
    "In the end only Markup text and output results should be seen if one hides the code cells (hide_code extension)\n",
    "\n",
    "That is can easily exported into a nice pdf file.\n",
    "\n",
    "Also the amount of python code in this notebook should be minimal.\n",
    "\n",
    "Rather export the functions you use from a different file.\n",
    "\n",
    "optional dump query results in a file, from which results will be reread for speed, i.e cache results\n",
    "\n",
    "______________"
   ]
  },
  {
   "cell_type": "markdown",
   "metadata": {},
   "source": [
    "An example of what we in the end aim for your find here.\n",
    "\n",
    "https://www.materialscloud.org/discover/mofs#mcloudHeader\n",
    "\n",
    "Clicking at one of the prerendered plots will open an interactive bokeh app.\n",
    "\n",
    "Code for this you find here: https://github.com/materialscloud-org/structure-property-visualizer/blob/master/figure/main.py\n",
    "\n",
    "For you sisc project this is to much, so do not view this as something you have to deliver but something that with the help of your work\n",
    "in this project we will build out of it for our purposes.\n",
    "\n",
    "So do not worry about an app.\n",
    "\n",
    "_________________"
   ]
  },
  {
   "cell_type": "markdown",
   "metadata": {},
   "source": [
    "**Your tasks are as follows:**\n",
    "\n",
    "1. Implement a general interactive bokeh scatter plots with linked histograms (see static version examples/MP_convergence_scf_clean_150_240.png). \n",
    "\n",
    "   We gladly help you with it. (this goes into helpers.py and you import it here for usage). This function should not contain any aiida methods.\n",
    "2. Extract float data you find in certain 'Dict' nodes into a/several pandas object, which will be then the datasource for this notebook. \n",
    "\n",
    "   So this notebook should not directly depend on any aiida methods (beyond load_profile)\n"
   ]
  },
  {
   "cell_type": "markdown",
   "metadata": {},
   "source": [
    "## Johannes\n",
    "\n",
    "Nothing much to add.\n",
    "\n",
    "I'd just have bonus: if all this works, one could think about some actual data analysis, like clustering analysis or dimension reduction as we learned in Data Analysis & Visualization. For example, do [PCA](https://blog.exploratory.io/an-introduction-to-principal-component-analysis-pca-with-2018-world-soccer-players-data-810d84a14eab) with the quantities magnetic moment, energy, band gap, fermi energy, (structure, core levels). Ie, are some of these quantities (linearly) correlated in a data subset (e.g. all output nodes)? Since the data is already preprocessed mostly, this should be relatively easy, just throw the data into [scikit-learn](https://scikit-learn.org/stable/)."
   ]
  },
  {
   "cell_type": "markdown",
   "metadata": {},
   "source": [
    "# Imports"
   ]
  },
  {
   "cell_type": "code",
   "execution_count": 1,
   "metadata": {},
   "outputs": [],
   "source": [
    "# magics:\n",
    "# # autoreload imports. \n",
    "# # intent: if i change sth in import, i don't have to restart kernel. enable only for development.\n",
    "%load_ext autoreload\n",
    "%autoreload 2\n",
    "# # choose matplotlib backend. backend 'notebook' allows interactive plots if your env allows it.\n",
    "%matplotlib notebook"
   ]
  },
  {
   "cell_type": "code",
   "execution_count": 2,
   "metadata": {},
   "outputs": [],
   "source": [
    "# python imports:\n",
    "from collections import Counter\n",
    "import time\n",
    "import numpy as np\n",
    "import pandas as pd\n",
    "#from pprint import pprint"
   ]
  },
  {
   "cell_type": "code",
   "execution_count": 3,
   "metadata": {},
   "outputs": [],
   "source": [
    "# aiida imports:\n",
    "from aiida import load_profile\n",
    "profile = load_profile()\n",
    "\n",
    "# ggf add further imports"
   ]
  },
  {
   "cell_type": "code",
   "execution_count": 4,
   "metadata": {},
   "outputs": [],
   "source": [
    "# project imports:\n",
    "import helpers\n",
    "# from .helpers import bokeh_struc_prop_vis\n",
    "# from .helpers import generate_structure_property_pandas_source\n",
    "\n",
    "# equivalent ('.' is the sisc_lab directory):\n",
    "# from . import helpers\n",
    "# alternative:\n",
    "# from .helpers import print_bold\n",
    "# from .helpers import * ('*' import everything; use of '*' is considered bad style)"
   ]
  },
  {
   "cell_type": "code",
   "execution_count": 5,
   "metadata": {},
   "outputs": [
    {
     "output_type": "stream",
     "name": "stdout",
     "text": [
      "\u001b[1mThis notebook/dashboard will visualize the contents from the database of profile generic\u001b[1m\n"
     ]
    }
   ],
   "source": [
    "# (example:)\n",
    "helpers.print_bold(f\"This notebook/dashboard will visualize the contents from the database of profile {profile.name}\")"
   ]
  },
  {
   "cell_type": "markdown",
   "metadata": {},
   "source": [
    "# Subastk D2.a: Data acquisition"
   ]
  },
  {
   "cell_type": "markdown",
   "metadata": {},
   "source": [
    "Task: check which output dict nodes returned by workflows, which had `StructureData` nodes as inputs are there in the database.\n",
    "\n",
    "For example, for a successful `FleurScfWorkChain`, there are two return `Dict` nodes, one is linked with\n",
    "`last_fleur_calc_output` and one with `output_scf_wc_para`.\n",
    "\n",
    "If a `StructureData` is an input of such a workflow you can extract the formula, `uuid` and other information you need from the \n",
    "`StructureData` which is always linked into workflows via the link name `structure`.\n",
    "\n",
    "All the user should have to say:\n",
    "```python\n",
    "source = generate_structure_property_pandas_source('<workflow_name>')\n",
    "```\n"
   ]
  },
  {
   "cell_type": "code",
   "execution_count": 6,
   "metadata": {},
   "outputs": [],
   "source": [
    "#!verdi plugin list aiida.workflows"
   ]
  },
  {
   "cell_type": "code",
   "execution_count": 7,
   "metadata": {},
   "outputs": [
    {
     "output_type": "stream",
     "name": "stdout",
     "text": [
      "98\n"
     ]
    },
    {
     "output_type": "execute_result",
     "data": {
      "text/plain": [
       "[{'structure': ['Be2', 'b11cbf68-b4d7-4670-870d-ccd655bc24c3'],\n",
       "  'workflow': ['fleur_scf_wc', '2ce04141-4b50-4df2-bce7-155bc2126a89'],\n",
       "  'dict': ['dbb7f256-b633-4e1f-9bb6-bf5b9eaecf3e']},\n",
       " {'structure': ['Be2', 'b11cbf68-b4d7-4670-870d-ccd655bc24c3'],\n",
       "  'workflow': ['fleur_scf_wc', '2ce04141-4b50-4df2-bce7-155bc2126a89'],\n",
       "  'dict': ['001114f1-6fa4-435a-a00d-d45b00985145']}]"
      ]
     },
     "metadata": {},
     "execution_count": 7
    }
   ],
   "source": [
    "#workflow_name = 'fleur_scf_wc'\n",
    "#workflowdictlst = helpers.get_structure_workflow_dict(workflow_filters={'attributes.process_label':workflow_name})\n",
    "# or\n",
    "workflow_name = None\n",
    "workflowdictlst = helpers.get_structure_workflow_dict()\n",
    "\n",
    "print(len(workflowdictlst))\n",
    "workflowdictlst[:2]"
   ]
  },
  {
   "cell_type": "code",
   "execution_count": 8,
   "metadata": {},
   "outputs": [
    {
     "output_type": "execute_result",
     "data": {
      "text/plain": [
       "                                   uuid        energy  total_energy  \\\n",
       "0  dbb7f256-b633-4e1f-9bb6-bf5b9eaecf3e   -803.817208           NaN   \n",
       "1  001114f1-6fa4-435a-a00d-d45b00985145           NaN    -29.539738   \n",
       "2  7c20771d-9130-4ff0-83c8-a8658417e73c           NaN -48075.622249   \n",
       "3  b0154180-34f7-4898-bcfa-2cde3bd56c20 -53303.114313           NaN   \n",
       "4  76825505-1e7c-4b2f-a244-91d43456f242           NaN  -1958.853337   \n",
       "\n",
       "   distance_charge                   bandgap  \n",
       "0              NaN                 0.0817051  \n",
       "1         0.000011                      None  \n",
       "2              NaN  {'Be4Ti2': 0.0095235898}  \n",
       "3              NaN                0.00640117  \n",
       "4         0.000017                      None  "
      ],
      "text/html": "<div>\n<style scoped>\n    .dataframe tbody tr th:only-of-type {\n        vertical-align: middle;\n    }\n\n    .dataframe tbody tr th {\n        vertical-align: top;\n    }\n\n    .dataframe thead th {\n        text-align: right;\n    }\n</style>\n<table border=\"1\" class=\"dataframe\">\n  <thead>\n    <tr style=\"text-align: right;\">\n      <th></th>\n      <th>uuid</th>\n      <th>energy</th>\n      <th>total_energy</th>\n      <th>distance_charge</th>\n      <th>bandgap</th>\n    </tr>\n  </thead>\n  <tbody>\n    <tr>\n      <th>0</th>\n      <td>dbb7f256-b633-4e1f-9bb6-bf5b9eaecf3e</td>\n      <td>-803.817208</td>\n      <td>NaN</td>\n      <td>NaN</td>\n      <td>0.0817051</td>\n    </tr>\n    <tr>\n      <th>1</th>\n      <td>001114f1-6fa4-435a-a00d-d45b00985145</td>\n      <td>NaN</td>\n      <td>-29.539738</td>\n      <td>0.000011</td>\n      <td>None</td>\n    </tr>\n    <tr>\n      <th>2</th>\n      <td>7c20771d-9130-4ff0-83c8-a8658417e73c</td>\n      <td>NaN</td>\n      <td>-48075.622249</td>\n      <td>NaN</td>\n      <td>{'Be4Ti2': 0.0095235898}</td>\n    </tr>\n    <tr>\n      <th>3</th>\n      <td>b0154180-34f7-4898-bcfa-2cde3bd56c20</td>\n      <td>-53303.114313</td>\n      <td>NaN</td>\n      <td>NaN</td>\n      <td>0.00640117</td>\n    </tr>\n    <tr>\n      <th>4</th>\n      <td>76825505-1e7c-4b2f-a244-91d43456f242</td>\n      <td>NaN</td>\n      <td>-1958.853337</td>\n      <td>0.000017</td>\n      <td>None</td>\n    </tr>\n  </tbody>\n</table>\n</div>"
     },
     "metadata": {},
     "execution_count": 8
    }
   ],
   "source": [
    "# Some dict attributes: energy, total_energy, fermi_energy, bandgap, charge_density, distance_charge, \n",
    "dict_project=['uuid', 'attributes.energy', 'attributes.total_energy', 'attributes.distance_charge',  'attributes.bandgap']\n",
    "dictpd = helpers.generate_dict_property_pandas_source(workflow_name, dict_project=dict_project)\n",
    "dictpd.to_json('dict_property.json', orient='records')\n",
    "dictpd.head()"
   ]
  },
  {
   "cell_type": "code",
   "execution_count": 9,
   "metadata": {},
   "outputs": [
    {
     "output_type": "execute_result",
     "data": {
      "text/plain": [
       "                                   uuid  formula\n",
       "0  b11cbf68-b4d7-4670-870d-ccd655bc24c3      Be2\n",
       "1  b11cbf68-b4d7-4670-870d-ccd655bc24c3      Be2\n",
       "2  51b53332-12f2-4014-8c5b-0e3669369d49   Be4Ti2\n",
       "3  4bda0721-9202-4b1e-ae35-53d59d63d153  Be17Ti2\n",
       "4  4bda0721-9202-4b1e-ae35-53d59d63d153  Be17Ti2"
      ],
      "text/html": "<div>\n<style scoped>\n    .dataframe tbody tr th:only-of-type {\n        vertical-align: middle;\n    }\n\n    .dataframe tbody tr th {\n        vertical-align: top;\n    }\n\n    .dataframe thead th {\n        text-align: right;\n    }\n</style>\n<table border=\"1\" class=\"dataframe\">\n  <thead>\n    <tr style=\"text-align: right;\">\n      <th></th>\n      <th>uuid</th>\n      <th>formula</th>\n    </tr>\n  </thead>\n  <tbody>\n    <tr>\n      <th>0</th>\n      <td>b11cbf68-b4d7-4670-870d-ccd655bc24c3</td>\n      <td>Be2</td>\n    </tr>\n    <tr>\n      <th>1</th>\n      <td>b11cbf68-b4d7-4670-870d-ccd655bc24c3</td>\n      <td>Be2</td>\n    </tr>\n    <tr>\n      <th>2</th>\n      <td>51b53332-12f2-4014-8c5b-0e3669369d49</td>\n      <td>Be4Ti2</td>\n    </tr>\n    <tr>\n      <th>3</th>\n      <td>4bda0721-9202-4b1e-ae35-53d59d63d153</td>\n      <td>Be17Ti2</td>\n    </tr>\n    <tr>\n      <th>4</th>\n      <td>4bda0721-9202-4b1e-ae35-53d59d63d153</td>\n      <td>Be17Ti2</td>\n    </tr>\n  </tbody>\n</table>\n</div>"
     },
     "metadata": {},
     "execution_count": 9
    }
   ],
   "source": [
    "structure_project=['uuid', 'extras.formula']\n",
    "structurepd = helpers.generate_structure_property_pandas_source(workflow_name, structure_project)\n",
    "structurepd.to_json('structure_property.json', orient='records')\n",
    "structurepd.head()"
   ]
  },
  {
   "cell_type": "markdown",
   "metadata": {},
   "source": [
    "# Subtask D2.b: Interactive plot"
   ]
  },
  {
   "cell_type": "markdown",
   "metadata": {},
   "source": [
    "Allow the user to choose, which properties to plot on what axis.\n",
    "\n",
    "```python\n",
    "xdata = source['distance']\n",
    "ydata = source['energy']\n",
    "```\n",
    "\n",
    "Single bokeh scatter plot with histpgrams on both sides, hover tool should show 'input structure, formula, \n",
    "structure_uuid and dictnode uuid', as long as this information is available.\n",
    "\n",
    "```python\n",
    "bokeh_struc_prop_vis(xdata, ydata, src=source, **kwargs)\n",
    "```"
   ]
  },
  {
   "cell_type": "code",
   "execution_count": 10,
   "metadata": {},
   "outputs": [],
   "source": [
    "# Read dataset as DataFrame and deal with NaN values\n",
    "dictall = pd.read_json('dict_property.json', orient='records')\n",
    "dictdata = dictall[['total_energy','distance_charge']]\n",
    "dictdata.dropna(axis=0, how='any', inplace=True)\n",
    "dictdata.reset_index(drop=True, inplace=True)\n",
    "\n",
    "xdata = dictdata['total_energy']\n",
    "ydata = dictdata['distance_charge']\n",
    "#print(xdata, '\\n')\n",
    "#print(ydata)"
   ]
  },
  {
   "cell_type": "code",
   "execution_count": 11,
   "metadata": {},
   "outputs": [],
   "source": [
    "from helpers import bokeh_struc_prop_vis\n",
    "bokeh_struc_prop_vis(xdata, ydata)"
   ]
  },
  {
   "cell_type": "code",
   "execution_count": null,
   "metadata": {},
   "outputs": [],
   "source": []
  },
  {
   "cell_type": "code",
   "execution_count": null,
   "metadata": {},
   "outputs": [],
   "source": []
  }
 ],
 "metadata": {
  "celltoolbar": "Hide code",
  "kernelspec": {
   "name": "python3",
   "display_name": "Python 3",
   "language": "python"
  },
  "language_info": {
   "codemirror_mode": {
    "name": "ipython",
    "version": 3
   },
   "file_extension": ".py",
   "mimetype": "text/x-python",
   "name": "python",
   "nbconvert_exporter": "python",
   "pygments_lexer": "ipython3",
   "version": "3.6.9-final"
  },
  "toc": {
   "colors": {
    "hover_highlight": "#DAA520",
    "navigate_num": "#000000",
    "navigate_text": "#333333",
    "running_highlight": "#FF0000",
    "selected_highlight": "#FFD700",
    "sidebar_border": "#EEEEEE",
    "wrapper_background": "#FFFFFF"
   },
   "moveMenuLeft": true,
   "nav_menu": {
    "height": "12px",
    "width": "252px"
   },
   "navigate_menu": true,
   "number_sections": true,
   "sideBar": true,
   "skip_h1_title": false,
   "threshold": 4,
   "toc_cell": false,
   "toc_section_display": "block",
   "toc_window_display": false,
   "widenNotebook": false
  },
  "varInspector": {
   "cols": {
    "lenName": 16,
    "lenType": 16,
    "lenVar": 40
   },
   "kernels_config": {
    "python": {
     "delete_cmd_postfix": "",
     "delete_cmd_prefix": "del ",
     "library": "var_list.py",
     "varRefreshCmd": "print(var_dic_list())"
    },
    "r": {
     "delete_cmd_postfix": ") ",
     "delete_cmd_prefix": "rm(",
     "library": "var_list.r",
     "varRefreshCmd": "cat(var_dic_list()) "
    }
   },
   "types_to_exclude": [
    "module",
    "function",
    "builtin_function_or_method",
    "instance",
    "_Feature"
   ],
   "window_display": false
  }
 },
 "nbformat": 4,
 "nbformat_minor": 4
}