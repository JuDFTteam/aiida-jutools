{
 "cells": [
  {
   "cell_type": "markdown",
   "metadata": {},
   "source": [
    "# Structure Property visualizer"
   ]
  },
  {
   "cell_type": "markdown",
   "metadata": {},
   "source": [
    "This is the second of two deliverables for the SiSc-Lab2020 project.\n",
    "\n",
    "Authors = \n",
    "\n",
    "Supervisors: Dr. Jens Bröder, Dr. Daniel Wortmann, Johannes Wasmer, Prof. Dr. Stefan Blügel."
   ]
  },
  {
   "cell_type": "markdown",
   "metadata": {},
   "source": [
    "# Instructions by supervisors"
   ]
  },
  {
   "cell_type": "markdown",
   "metadata": {},
   "source": [
    "## Jens"
   ]
  },
  {
   "cell_type": "markdown",
   "metadata": {},
   "source": [
    "You have to implement this notebook\n",
    "\n",
    "In the end only Markup text and output results should be seen if one hides the code cells (hide_code extension)\n",
    "\n",
    "That is can easily exported into a nice pdf file.\n",
    "\n",
    "Also the amount of python code in this notebook should be minimal.\n",
    "\n",
    "Rather export the functions you use from a different file.\n",
    "\n",
    "optional dump query results in a file, from which results will be reread for speed, i.e cache results\n",
    "\n",
    "______________"
   ]
  },
  {
   "cell_type": "markdown",
   "metadata": {},
   "source": [
    "An example of what we in the end aim for your find here.\n",
    "\n",
    "https://www.materialscloud.org/discover/mofs#mcloudHeader\n",
    "\n",
    "Clicking at one of the prerendered plots will open an interactive bokeh app.\n",
    "\n",
    "Code for this you find here: https://github.com/materialscloud-org/structure-property-visualizer/blob/master/figure/main.py\n",
    "\n",
    "For you sisc project this is to much, so do not view this as something you have to deliver but something that with the help of your work\n",
    "in this project we will build out of it for our purposes.\n",
    "\n",
    "So do not worry about an app.\n",
    "\n",
    "_________________"
   ]
  },
  {
   "cell_type": "markdown",
   "metadata": {},
   "source": [
    "**Your tasks are as follows:**\n",
    "\n",
    "1. Implement a general interactive bokeh scatter plots with linked histograms (see static version examples/MP_convergence_scf_clean_150_240.png). \n",
    "\n",
    "   We gladly help you with it. (this goes into helpers.py and you import it here for usage). This function should not contain any aiida methods.\n",
    "2. Extract float data you find in certain 'Dict' nodes into a/several pandas object, which will be then the datasource for this notebook. \n",
    "\n",
    "   So this notebook should not directly depend on any aiida methods (beyond load_profile)\n"
   ]
  },
  {
   "cell_type": "markdown",
   "metadata": {},
   "source": [
    "## Johannes\n",
    "\n",
    "Nothing much to add.\n",
    "\n",
    "I'd just have bonus: if all this works, one could think about some actual data analysis, like clustering analysis or dimension reduction as we learned in Data Analysis & Visualization. For example, do [PCA](https://blog.exploratory.io/an-introduction-to-principal-component-analysis-pca-with-2018-world-soccer-players-data-810d84a14eab) with the quantities magnetic moment, energy, band gap, fermi energy, (structure, core levels). Ie, are some of these quantities (linearly) correlated in a data subset (e.g. all output nodes)? Since the data is already preprocessed mostly, this should be relatively easy, just throw the data into [scikit-learn](https://scikit-learn.org/stable/)."
   ]
  },
  {
   "cell_type": "markdown",
   "metadata": {},
   "source": [
    "# Imports"
   ]
  },
  {
   "cell_type": "code",
   "execution_count": 1,
   "metadata": {},
   "outputs": [],
   "source": [
    "# magics:\n",
    "# # autoreload imports. \n",
    "# # intent: if i change sth in import, i don't have to restart kernel. enable only for development.\n",
    "%load_ext autoreload\n",
    "%autoreload 2\n",
    "# # choose matplotlib backend. backend 'notebook' allows interactive plots if your env allows it.\n",
    "%matplotlib notebook"
   ]
  },
  {
   "cell_type": "code",
   "execution_count": 2,
   "metadata": {},
   "outputs": [],
   "source": [
    "# python imports:\n",
    "from collections import Counter\n",
    "import time\n",
    "import numpy as np\n",
    "import pandas as pd\n",
    "#from pprint import pprint"
   ]
  },
  {
   "cell_type": "code",
   "execution_count": 8,
   "metadata": {},
   "outputs": [],
   "source": [
    "# aiida imports:\n",
    "from aiida import load_profile\n",
    "profile = load_profile()\n",
    "\n",
    "# ggf add further imports"
   ]
  },
  {
   "cell_type": "code",
   "execution_count": 4,
   "metadata": {},
   "outputs": [],
   "source": [
    "# project imports:\n",
    "import helpers\n",
    "# from .helpers import bokeh_struc_prop_vis\n",
    "# from .helpers import generate_structure_property_pandas_source\n",
    "\n",
    "# equivalent ('.' is the sisc_lab directory):\n",
    "# from . import helpers\n",
    "# alternative:\n",
    "# from .helpers import print_bold\n",
    "# from .helpers import * ('*' import everything; use of '*' is considered bad style)"
   ]
  },
  {
   "cell_type": "code",
   "execution_count": 10,
   "metadata": {},
   "outputs": [
    {
     "output_type": "stream",
     "name": "stdout",
     "text": [
      "\u001b[1mThis notebook/dashboard will visualize the contents from the database of profile seconddb\u001b[1m\n"
     ]
    }
   ],
   "source": [
    "# (example:)\n",
    "helpers.print_bold(f\"This notebook/dashboard will visualize the contents from the database of profile {profile.name}\")"
   ]
  },
  {
   "cell_type": "markdown",
   "metadata": {},
   "source": [
    "# Subastk D2.a: Data acquisition"
   ]
  },
  {
   "cell_type": "markdown",
   "metadata": {},
   "source": [
    "Task: check which output dict nodes returned by workflows, which had `StructureData` nodes as inputs are there in the database.\n",
    "\n",
    "For example, for a successful `FleurScfWorkChain`, there are two return `Dict` nodes, one is linked with\n",
    "`last_fleur_calc_output` and one with `output_scf_wc_para`.\n",
    "\n",
    "If a `StructureData` is an input of such a workflow you can extract the formula, `uuid` and other information you need from the \n",
    "`StructureData` which is always linked into workflows via the link name `structure`.\n",
    "\n",
    "All the user should have to say:\n",
    "```python\n",
    "source = generate_structure_property_pandas_source('<workflow_name>')\n",
    "```\n"
   ]
  },
  {
   "source": [
    "### Check workflows and versions"
   ],
   "cell_type": "markdown",
   "metadata": {}
  },
  {
   "cell_type": "code",
   "execution_count": 25,
   "metadata": {},
   "outputs": [],
   "source": [
    "# Preprocessing: Set formula attributes for all the structure nodes\n",
    "helpers.set_structure_formula()"
   ]
  },
  {
   "cell_type": "code",
   "execution_count": 30,
   "metadata": {},
   "outputs": [
    {
     "output_type": "stream",
     "name": "stdout",
     "text": [
      "Elapsed time:  1.8527133464813232 s\n\nVersions and frequency:\n [('0.4.2', 149), ('0.2.2', 130), ('AiiDA Fleur Parser v0.3.0', 100), ('AiiDA Fleur Parser v0.3.1', 41), ('AiiDA Fleur Parser v0.3.2', 3), ('0.3.0', 2)] \n\nNuumber of the workflows:  425 \n\nWorkflows: \n"
     ]
    },
    {
     "output_type": "execute_result",
     "data": {
      "text/plain": [
       "[{'structure': ['0ccacebb-861b-4909-8bc1-83d3187bf56b', 'Al4'],\n",
       "  'workflow': ['82d8046e-9bea-4d92-8f90-02832e5bc565', 'FleurScfWorkChain'],\n",
       "  'dict': ['f453f49c-da1c-42f0-a9ba-e4806ef5fd2b', '0.4.2', None]},\n",
       " {'structure': ['0ccacebb-861b-4909-8bc1-83d3187bf56b', 'Al4'],\n",
       "  'workflow': ['82d8046e-9bea-4d92-8f90-02832e5bc565', 'FleurScfWorkChain'],\n",
       "  'dict': ['939a487f-e06a-4a0b-af71-37e8ee333d34',\n",
       "   None,\n",
       "   'AiiDA Fleur Parser v0.3.0']}]"
      ]
     },
     "metadata": {},
     "execution_count": 30
    }
   ],
   "source": [
    "# workflow_name = 'fleur_scf_wc' # Filter workflow\n",
    "# workflowdictlst = helpers.get_structure_workflow_dict(workflow_filters={'attributes.process_label':workflow_name})\n",
    "#or\n",
    "workflow_name = None # No restriction. Querying by default\n",
    "workflowdictlst = helpers.get_structure_workflow_dict(timing=True, check_version=True)\n",
    "\n",
    "print(\"Nuumber of the workflows: \", len(workflowdictlst), '\\n')\n",
    "print(\"Workflows: \")\n",
    "workflowdictlst[:2]"
   ]
  },
  {
   "source": [
    "### Check attributes"
   ],
   "cell_type": "markdown",
   "metadata": {}
  },
  {
   "cell_type": "code",
   "execution_count": null,
   "metadata": {},
   "outputs": [],
   "source": [
    "# dict_project=['uuid','attributes'] # Attributes of dict nodes\n",
    "# workflowdictlst = helpers.get_structure_workflow_dict(dict_project=dict_project)\n",
    "# workflowdictlst[:20]\n",
    "#or\n",
    "# structure_project=['uuid', 'extras','attributes.kinds'] # Attributes of structure nodes\n",
    "# workflowdictlst = helpers.get_structure_workflow_dict(structure_project=structure_project)\n",
    "# workflowdictlst[:20]"
   ]
  },
  {
   "source": [
    "Available dict nodes attributes for different versions of workflow\n",
    "\n",
    "\n",
    "1. workflow 0.4.2\n",
    "- 'workflow_version': '0.4.2',\n",
    "- 'total_energy': -971.2916432694,\n",
    "- 'force_largest': 0.0,\n",
    "- 'distance_charge': None,\n",
    "- 'total_wall_time': 176,\n",
    "- 'total_energy_units': 'Htr',\n",
    "- 'distance_charge_units': 'me/bohr^3',\n",
    "- 'total_wall_time_units': 's'\n",
    "\n",
    "2. Parser\n",
    "- 'parser_info': 'AiiDA Fleur Parser v0.3.0',\n",
    "- 'energy': -26430.191843004,\n",
    "- 'bandgap': 0.0177798418,\n",
    "- 'walltime': 176,\n",
    "- 'energy_units': 'eV',\n",
    "- 'fermi_energy': 0.2778502713,\n",
    "- 'bandgap_units': 'eV',\n",
    "- 'energy_hartree': -971.2916432694,\n",
    "- 'walltime_units': 'seconds',\n",
    "- 'fermi_energy_units': 'Htr',\n",
    "- 'energy_hartree_units': 'Htr'\n",
    "\n",
    "3. workflow 0.2.2\n",
    "- 'workflow_version': '0.2.2',\n",
    "- 'force': 1.241e-06,\n",
    "- 'energy': -15784.56376617,\n",
    "- 'energy_units': 'eV'"
   ],
   "cell_type": "markdown",
   "metadata": {}
  },
  {
   "source": [
    "### Structure nodes"
   ],
   "cell_type": "markdown",
   "metadata": {}
  },
  {
   "cell_type": "code",
   "execution_count": 23,
   "metadata": {},
   "outputs": [
    {
     "output_type": "execute_result",
     "data": {
      "text/plain": [
       "  structure_uuid formula\n",
       "0       0ccacebb     Al4\n",
       "1       0ccacebb     Al4\n",
       "2       0ccacebb     Al4\n",
       "3       0ccacebb     Al4\n",
       "4       2c639ddf     Fe2"
      ],
      "text/html": "<div>\n<style scoped>\n    .dataframe tbody tr th:only-of-type {\n        vertical-align: middle;\n    }\n\n    .dataframe tbody tr th {\n        vertical-align: top;\n    }\n\n    .dataframe thead th {\n        text-align: right;\n    }\n</style>\n<table border=\"1\" class=\"dataframe\">\n  <thead>\n    <tr style=\"text-align: right;\">\n      <th></th>\n      <th>structure_uuid</th>\n      <th>formula</th>\n    </tr>\n  </thead>\n  <tbody>\n    <tr>\n      <th>0</th>\n      <td>0ccacebb</td>\n      <td>Al4</td>\n    </tr>\n    <tr>\n      <th>1</th>\n      <td>0ccacebb</td>\n      <td>Al4</td>\n    </tr>\n    <tr>\n      <th>2</th>\n      <td>0ccacebb</td>\n      <td>Al4</td>\n    </tr>\n    <tr>\n      <th>3</th>\n      <td>0ccacebb</td>\n      <td>Al4</td>\n    </tr>\n    <tr>\n      <th>4</th>\n      <td>2c639ddf</td>\n      <td>Fe2</td>\n    </tr>\n  </tbody>\n</table>\n</div>"
     },
     "metadata": {},
     "execution_count": 23
    }
   ],
   "source": [
    "structure_project=['uuid', 'extras.formula']\n",
    "structurenodes = helpers.generate_structure_property_pandas_source(\n",
    "            workflow_name, \n",
    "            structure_project=structure_project,\n",
    "            filename='structure_property.json')\n",
    "structurenodes.head()"
   ]
  },
  {
   "source": [
    "### Dict nodes"
   ],
   "cell_type": "markdown",
   "metadata": {}
  },
  {
   "cell_type": "code",
   "execution_count": 14,
   "metadata": {},
   "outputs": [
    {
     "output_type": "execute_result",
     "data": {
      "text/plain": [
       "  dict_uuid workflow_version  total_energy total_energy_units  \\\n",
       "0  d8cab742            0.4.2  -2545.579023                Htr   \n",
       "1  98265865             None           NaN               None   \n",
       "2  93bbe25d            0.4.2   -971.290635                Htr   \n",
       "3  1e42c371             None           NaN               None   \n",
       "4  5bc3c4d9            0.2.2           NaN               None   \n",
       "\n",
       "   distance_charge distance_charge_units  total_wall_time  \\\n",
       "0         0.000049             me/bohr^3             15.0   \n",
       "1              NaN                  None              NaN   \n",
       "2              NaN             me/bohr^3              7.0   \n",
       "3              NaN                  None              NaN   \n",
       "4              NaN                  None              NaN   \n",
       "\n",
       "  total_wall_time_units  \n",
       "0                     s  \n",
       "1                  None  \n",
       "2                     s  \n",
       "3                  None  \n",
       "4                  None  "
      ],
      "text/html": "<div>\n<style scoped>\n    .dataframe tbody tr th:only-of-type {\n        vertical-align: middle;\n    }\n\n    .dataframe tbody tr th {\n        vertical-align: top;\n    }\n\n    .dataframe thead th {\n        text-align: right;\n    }\n</style>\n<table border=\"1\" class=\"dataframe\">\n  <thead>\n    <tr style=\"text-align: right;\">\n      <th></th>\n      <th>dict_uuid</th>\n      <th>workflow_version</th>\n      <th>total_energy</th>\n      <th>total_energy_units</th>\n      <th>distance_charge</th>\n      <th>distance_charge_units</th>\n      <th>total_wall_time</th>\n      <th>total_wall_time_units</th>\n    </tr>\n  </thead>\n  <tbody>\n    <tr>\n      <th>0</th>\n      <td>d8cab742</td>\n      <td>0.4.2</td>\n      <td>-2545.579023</td>\n      <td>Htr</td>\n      <td>0.000049</td>\n      <td>me/bohr^3</td>\n      <td>15.0</td>\n      <td>s</td>\n    </tr>\n    <tr>\n      <th>1</th>\n      <td>98265865</td>\n      <td>None</td>\n      <td>NaN</td>\n      <td>None</td>\n      <td>NaN</td>\n      <td>None</td>\n      <td>NaN</td>\n      <td>None</td>\n    </tr>\n    <tr>\n      <th>2</th>\n      <td>93bbe25d</td>\n      <td>0.4.2</td>\n      <td>-971.290635</td>\n      <td>Htr</td>\n      <td>NaN</td>\n      <td>me/bohr^3</td>\n      <td>7.0</td>\n      <td>s</td>\n    </tr>\n    <tr>\n      <th>3</th>\n      <td>1e42c371</td>\n      <td>None</td>\n      <td>NaN</td>\n      <td>None</td>\n      <td>NaN</td>\n      <td>None</td>\n      <td>NaN</td>\n      <td>None</td>\n    </tr>\n    <tr>\n      <th>4</th>\n      <td>5bc3c4d9</td>\n      <td>0.2.2</td>\n      <td>NaN</td>\n      <td>None</td>\n      <td>NaN</td>\n      <td>None</td>\n      <td>NaN</td>\n      <td>None</td>\n    </tr>\n  </tbody>\n</table>\n</div>"
     },
     "metadata": {},
     "execution_count": 14
    }
   ],
   "source": [
    "# Dict nodes with workflow_version=0.4.2\n",
    "dict_project_wf042=['uuid', 'attributes.workflow_version', 'attributes.total_energy',\n",
    "                    'attributes.total_energy_units', 'attributes.distance_charge',\n",
    "                    'attributes.distance_charge_units', 'attributes.total_wall_time',\n",
    "                    'attributes.total_wall_time_units']\n",
    "dictnodes_wf042 = helpers.generate_dict_property_pandas_source(\n",
    "        workflow_name, \n",
    "        dict_project=dict_project_wf042, \n",
    "        filename='dict_property_workflow042.json')\n",
    "dictnodes_wf042.head()"
   ]
  },
  {
   "cell_type": "code",
   "execution_count": 20,
   "metadata": {},
   "outputs": [
    {
     "output_type": "execute_result",
     "data": {
      "text/plain": [
       "  dict_uuid                parser_info        energy energy_units  \\\n",
       "0  d8cab742                       None           NaN         None   \n",
       "1  98265865  AiiDA Fleur Parser v0.3.1 -69268.734001           eV   \n",
       "2  93bbe25d                       None           NaN         None   \n",
       "3  1e42c371  AiiDA Fleur Parser v0.3.0 -26430.164420           eV   \n",
       "4  5bc3c4d9                       None -26430.080872           eV   \n",
       "\n",
       "   fermi_energy fermi_energy_units  energy_hartree energy_hartree_units  \\\n",
       "0           NaN               None             NaN                 None   \n",
       "1      0.353498                Htr    -2545.579023                  Htr   \n",
       "2           NaN               None             NaN                 None   \n",
       "3      0.299326                Htr     -971.290635                  Htr   \n",
       "4           NaN               None             NaN                 None   \n",
       "\n",
       "    bandgap bandgap_units  walltime walltime_units  \n",
       "0       NaN          None       NaN           None  \n",
       "1  0.007221            eV      15.0        seconds  \n",
       "2       NaN          None       NaN           None  \n",
       "3  0.163845            eV       7.0        seconds  \n",
       "4       NaN          None       NaN           None  "
      ],
      "text/html": "<div>\n<style scoped>\n    .dataframe tbody tr th:only-of-type {\n        vertical-align: middle;\n    }\n\n    .dataframe tbody tr th {\n        vertical-align: top;\n    }\n\n    .dataframe thead th {\n        text-align: right;\n    }\n</style>\n<table border=\"1\" class=\"dataframe\">\n  <thead>\n    <tr style=\"text-align: right;\">\n      <th></th>\n      <th>dict_uuid</th>\n      <th>parser_info</th>\n      <th>energy</th>\n      <th>energy_units</th>\n      <th>fermi_energy</th>\n      <th>fermi_energy_units</th>\n      <th>energy_hartree</th>\n      <th>energy_hartree_units</th>\n      <th>bandgap</th>\n      <th>bandgap_units</th>\n      <th>walltime</th>\n      <th>walltime_units</th>\n    </tr>\n  </thead>\n  <tbody>\n    <tr>\n      <th>0</th>\n      <td>d8cab742</td>\n      <td>None</td>\n      <td>NaN</td>\n      <td>None</td>\n      <td>NaN</td>\n      <td>None</td>\n      <td>NaN</td>\n      <td>None</td>\n      <td>NaN</td>\n      <td>None</td>\n      <td>NaN</td>\n      <td>None</td>\n    </tr>\n    <tr>\n      <th>1</th>\n      <td>98265865</td>\n      <td>AiiDA Fleur Parser v0.3.1</td>\n      <td>-69268.734001</td>\n      <td>eV</td>\n      <td>0.353498</td>\n      <td>Htr</td>\n      <td>-2545.579023</td>\n      <td>Htr</td>\n      <td>0.007221</td>\n      <td>eV</td>\n      <td>15.0</td>\n      <td>seconds</td>\n    </tr>\n    <tr>\n      <th>2</th>\n      <td>93bbe25d</td>\n      <td>None</td>\n      <td>NaN</td>\n      <td>None</td>\n      <td>NaN</td>\n      <td>None</td>\n      <td>NaN</td>\n      <td>None</td>\n      <td>NaN</td>\n      <td>None</td>\n      <td>NaN</td>\n      <td>None</td>\n    </tr>\n    <tr>\n      <th>3</th>\n      <td>1e42c371</td>\n      <td>AiiDA Fleur Parser v0.3.0</td>\n      <td>-26430.164420</td>\n      <td>eV</td>\n      <td>0.299326</td>\n      <td>Htr</td>\n      <td>-971.290635</td>\n      <td>Htr</td>\n      <td>0.163845</td>\n      <td>eV</td>\n      <td>7.0</td>\n      <td>seconds</td>\n    </tr>\n    <tr>\n      <th>4</th>\n      <td>5bc3c4d9</td>\n      <td>None</td>\n      <td>-26430.080872</td>\n      <td>eV</td>\n      <td>NaN</td>\n      <td>None</td>\n      <td>NaN</td>\n      <td>None</td>\n      <td>NaN</td>\n      <td>None</td>\n      <td>NaN</td>\n      <td>None</td>\n    </tr>\n  </tbody>\n</table>\n</div>"
     },
     "metadata": {},
     "execution_count": 20
    }
   ],
   "source": [
    "# Dict nodes with parser of any versions\n",
    "dict_project_parser=['uuid', 'attributes.parser_info', 'attributes.energy', 'attributes.energy_units', \n",
    "                     'attributes.fermi_energy', 'attributes.fermi_energy_units', 'attributes.energy_hartree', \n",
    "                     'attributes.energy_hartree_units', 'attributes.bandgap', 'attributes.bandgap_units', \n",
    "                     'attributes.walltime', 'attributes.walltime_units']\n",
    "dictnodes_parser = helpers.generate_dict_property_pandas_source(\n",
    "        workflow_name, \n",
    "        dict_project=dict_project_parser, \n",
    "        filename='dict_property_parser.json')\n",
    "dictnodes_parser.head()"
   ]
  },
  {
   "source": [
    "### Combine two kind of nodes"
   ],
   "cell_type": "markdown",
   "metadata": {}
  },
  {
   "cell_type": "code",
   "execution_count": 21,
   "metadata": {},
   "outputs": [
    {
     "output_type": "execute_result",
     "data": {
      "text/plain": [
       "  dict_uuid workflow_version  total_energy total_energy_units  \\\n",
       "0  d8cab742            0.4.2  -2545.579023                Htr   \n",
       "1  98265865             None           NaN               None   \n",
       "2  93bbe25d            0.4.2   -971.290635                Htr   \n",
       "3  1e42c371             None           NaN               None   \n",
       "4  5bc3c4d9            0.2.2           NaN               None   \n",
       "\n",
       "   distance_charge distance_charge_units  total_wall_time  \\\n",
       "0         0.000049             me/bohr^3             15.0   \n",
       "1              NaN                  None              NaN   \n",
       "2              NaN             me/bohr^3              7.0   \n",
       "3              NaN                  None              NaN   \n",
       "4              NaN                  None              NaN   \n",
       "\n",
       "  total_wall_time_units structure_uuid formula  \n",
       "0                     s       02e6640d    None  \n",
       "1                  None       02e6640d    None  \n",
       "2                     s       03bc06be    None  \n",
       "3                  None       03bc06be    None  \n",
       "4                  None       03bc06be    None  "
      ],
      "text/html": "<div>\n<style scoped>\n    .dataframe tbody tr th:only-of-type {\n        vertical-align: middle;\n    }\n\n    .dataframe tbody tr th {\n        vertical-align: top;\n    }\n\n    .dataframe thead th {\n        text-align: right;\n    }\n</style>\n<table border=\"1\" class=\"dataframe\">\n  <thead>\n    <tr style=\"text-align: right;\">\n      <th></th>\n      <th>dict_uuid</th>\n      <th>workflow_version</th>\n      <th>total_energy</th>\n      <th>total_energy_units</th>\n      <th>distance_charge</th>\n      <th>distance_charge_units</th>\n      <th>total_wall_time</th>\n      <th>total_wall_time_units</th>\n      <th>structure_uuid</th>\n      <th>formula</th>\n    </tr>\n  </thead>\n  <tbody>\n    <tr>\n      <th>0</th>\n      <td>d8cab742</td>\n      <td>0.4.2</td>\n      <td>-2545.579023</td>\n      <td>Htr</td>\n      <td>0.000049</td>\n      <td>me/bohr^3</td>\n      <td>15.0</td>\n      <td>s</td>\n      <td>02e6640d</td>\n      <td>None</td>\n    </tr>\n    <tr>\n      <th>1</th>\n      <td>98265865</td>\n      <td>None</td>\n      <td>NaN</td>\n      <td>None</td>\n      <td>NaN</td>\n      <td>None</td>\n      <td>NaN</td>\n      <td>None</td>\n      <td>02e6640d</td>\n      <td>None</td>\n    </tr>\n    <tr>\n      <th>2</th>\n      <td>93bbe25d</td>\n      <td>0.4.2</td>\n      <td>-971.290635</td>\n      <td>Htr</td>\n      <td>NaN</td>\n      <td>me/bohr^3</td>\n      <td>7.0</td>\n      <td>s</td>\n      <td>03bc06be</td>\n      <td>None</td>\n    </tr>\n    <tr>\n      <th>3</th>\n      <td>1e42c371</td>\n      <td>None</td>\n      <td>NaN</td>\n      <td>None</td>\n      <td>NaN</td>\n      <td>None</td>\n      <td>NaN</td>\n      <td>None</td>\n      <td>03bc06be</td>\n      <td>None</td>\n    </tr>\n    <tr>\n      <th>4</th>\n      <td>5bc3c4d9</td>\n      <td>0.2.2</td>\n      <td>NaN</td>\n      <td>None</td>\n      <td>NaN</td>\n      <td>None</td>\n      <td>NaN</td>\n      <td>None</td>\n      <td>03bc06be</td>\n      <td>None</td>\n    </tr>\n  </tbody>\n</table>\n</div>"
     },
     "metadata": {},
     "execution_count": 21
    }
   ],
   "source": [
    "# Combined nodes with workflow_version=0.4.2\n",
    "combinednodes_wf042 = helpers.generate_combination_property_pandas_source(\n",
    "        workflow_name, \n",
    "        dict_project=dict_project_wf042, \n",
    "        structure_project=structure_project,\n",
    "        filename='combined_property_wf042.json')\n",
    "combinednodes_wf042.head()"
   ]
  },
  {
   "cell_type": "code",
   "execution_count": 22,
   "metadata": {},
   "outputs": [
    {
     "output_type": "execute_result",
     "data": {
      "text/plain": [
       "  dict_uuid                parser_info        energy energy_units  \\\n",
       "0  d8cab742                       None           NaN         None   \n",
       "1  98265865  AiiDA Fleur Parser v0.3.1 -69268.734001           eV   \n",
       "2  93bbe25d                       None           NaN         None   \n",
       "3  1e42c371  AiiDA Fleur Parser v0.3.0 -26430.164420           eV   \n",
       "4  5bc3c4d9                       None -26430.080872           eV   \n",
       "\n",
       "   fermi_energy fermi_energy_units  energy_hartree energy_hartree_units  \\\n",
       "0           NaN               None             NaN                 None   \n",
       "1      0.353498                Htr    -2545.579023                  Htr   \n",
       "2           NaN               None             NaN                 None   \n",
       "3      0.299326                Htr     -971.290635                  Htr   \n",
       "4           NaN               None             NaN                 None   \n",
       "\n",
       "    bandgap bandgap_units  walltime walltime_units structure_uuid formula  \n",
       "0       NaN          None       NaN           None       02e6640d    None  \n",
       "1  0.007221            eV      15.0        seconds       02e6640d    None  \n",
       "2       NaN          None       NaN           None       03bc06be    None  \n",
       "3  0.163845            eV       7.0        seconds       03bc06be    None  \n",
       "4       NaN          None       NaN           None       03bc06be    None  "
      ],
      "text/html": "<div>\n<style scoped>\n    .dataframe tbody tr th:only-of-type {\n        vertical-align: middle;\n    }\n\n    .dataframe tbody tr th {\n        vertical-align: top;\n    }\n\n    .dataframe thead th {\n        text-align: right;\n    }\n</style>\n<table border=\"1\" class=\"dataframe\">\n  <thead>\n    <tr style=\"text-align: right;\">\n      <th></th>\n      <th>dict_uuid</th>\n      <th>parser_info</th>\n      <th>energy</th>\n      <th>energy_units</th>\n      <th>fermi_energy</th>\n      <th>fermi_energy_units</th>\n      <th>energy_hartree</th>\n      <th>energy_hartree_units</th>\n      <th>bandgap</th>\n      <th>bandgap_units</th>\n      <th>walltime</th>\n      <th>walltime_units</th>\n      <th>structure_uuid</th>\n      <th>formula</th>\n    </tr>\n  </thead>\n  <tbody>\n    <tr>\n      <th>0</th>\n      <td>d8cab742</td>\n      <td>None</td>\n      <td>NaN</td>\n      <td>None</td>\n      <td>NaN</td>\n      <td>None</td>\n      <td>NaN</td>\n      <td>None</td>\n      <td>NaN</td>\n      <td>None</td>\n      <td>NaN</td>\n      <td>None</td>\n      <td>02e6640d</td>\n      <td>None</td>\n    </tr>\n    <tr>\n      <th>1</th>\n      <td>98265865</td>\n      <td>AiiDA Fleur Parser v0.3.1</td>\n      <td>-69268.734001</td>\n      <td>eV</td>\n      <td>0.353498</td>\n      <td>Htr</td>\n      <td>-2545.579023</td>\n      <td>Htr</td>\n      <td>0.007221</td>\n      <td>eV</td>\n      <td>15.0</td>\n      <td>seconds</td>\n      <td>02e6640d</td>\n      <td>None</td>\n    </tr>\n    <tr>\n      <th>2</th>\n      <td>93bbe25d</td>\n      <td>None</td>\n      <td>NaN</td>\n      <td>None</td>\n      <td>NaN</td>\n      <td>None</td>\n      <td>NaN</td>\n      <td>None</td>\n      <td>NaN</td>\n      <td>None</td>\n      <td>NaN</td>\n      <td>None</td>\n      <td>03bc06be</td>\n      <td>None</td>\n    </tr>\n    <tr>\n      <th>3</th>\n      <td>1e42c371</td>\n      <td>AiiDA Fleur Parser v0.3.0</td>\n      <td>-26430.164420</td>\n      <td>eV</td>\n      <td>0.299326</td>\n      <td>Htr</td>\n      <td>-971.290635</td>\n      <td>Htr</td>\n      <td>0.163845</td>\n      <td>eV</td>\n      <td>7.0</td>\n      <td>seconds</td>\n      <td>03bc06be</td>\n      <td>None</td>\n    </tr>\n    <tr>\n      <th>4</th>\n      <td>5bc3c4d9</td>\n      <td>None</td>\n      <td>-26430.080872</td>\n      <td>eV</td>\n      <td>NaN</td>\n      <td>None</td>\n      <td>NaN</td>\n      <td>None</td>\n      <td>NaN</td>\n      <td>None</td>\n      <td>NaN</td>\n      <td>None</td>\n      <td>03bc06be</td>\n      <td>None</td>\n    </tr>\n  </tbody>\n</table>\n</div>"
     },
     "metadata": {},
     "execution_count": 22
    }
   ],
   "source": [
    "# Combined nodes with parser of any versions\n",
    "combinednodes_parser = helpers.generate_combination_property_pandas_source(\n",
    "        workflow_name, \n",
    "        dict_project=dict_project_parser, \n",
    "        structure_project=structure_project,\n",
    "        filename='combined_property_parser.json')\n",
    "combinednodes_parser.head()"
   ]
  },
  {
   "cell_type": "markdown",
   "metadata": {},
   "source": [
    "# Subtask D2.b: Interactive plot"
   ]
  },
  {
   "cell_type": "markdown",
   "metadata": {},
   "source": [
    "Allow the user to choose, which properties to plot on what axis.\n",
    "\n",
    "```python\n",
    "xdata = source['distance']\n",
    "ydata = source['energy']\n",
    "```\n",
    "\n",
    "Single bokeh scatter plot with histpgrams on both sides, hover tool should show 'input structure, formula, \n",
    "structure_uuid and dictnode uuid', as long as this information is available.\n",
    "\n",
    "```python\n",
    "bokeh_struc_prop_vis(xdata, ydata, src=source, **kwargs)\n",
    "```"
   ]
  },
  {
   "source": [
    "### Check data source before plotting"
   ],
   "cell_type": "markdown",
   "metadata": {}
  },
  {
   "cell_type": "code",
   "execution_count": 8,
   "metadata": {},
   "outputs": [
    {
     "output_type": "execute_result",
     "data": {
      "text/plain": [
       "    dict_uuid                parser_info        energy energy_units  \\\n",
       "0    f453f49c                       None           NaN         None   \n",
       "1    939a487f  AiiDA Fleur Parser v0.3.0 -26430.191843           eV   \n",
       "2    fd402121                       None -26430.120856           eV   \n",
       "3    fd402121                       None -26430.120856           eV   \n",
       "4    1fde0902  AiiDA Fleur Parser v0.3.0 -69269.571275           eV   \n",
       "..        ...                        ...           ...          ...   \n",
       "420  54ffd65a                       None -15784.558154           eV   \n",
       "421  7c6a9ff9                       None -15784.559902           eV   \n",
       "422  89a75332                       None           NaN         None   \n",
       "423  e77ebc42  AiiDA Fleur Parser v0.3.0 -15784.723533           eV   \n",
       "424  7c6a9ff9                       None -15784.559902           eV   \n",
       "\n",
       "     fermi_energy fermi_energy_units  energy_hartree energy_hartree_units  \\\n",
       "0             NaN               None             NaN                 None   \n",
       "1        0.277850                Htr     -971.291643                  Htr   \n",
       "2             NaN               None             NaN                 None   \n",
       "3             NaN               None             NaN                 None   \n",
       "4        0.351294                Htr    -2545.609813                  Htr   \n",
       "..            ...                ...             ...                  ...   \n",
       "420           NaN               None             NaN                 None   \n",
       "421           NaN               None             NaN                 None   \n",
       "422           NaN               None             NaN                 None   \n",
       "423      0.177246                Htr     -580.077895                  Htr   \n",
       "424           NaN               None             NaN                 None   \n",
       "\n",
       "      bandgap bandgap_units  walltime walltime_units structure_uuid formula  \n",
       "0         NaN          None       NaN           None       0ccacebb     Al4  \n",
       "1    0.017780            eV     176.0        seconds       0ccacebb     Al4  \n",
       "2         NaN          None       NaN           None       0ccacebb     Al4  \n",
       "3         NaN          None       NaN           None       0ccacebb     Al4  \n",
       "4    0.005679            eV      96.0        seconds       2c639ddf     Fe2  \n",
       "..        ...           ...       ...            ...            ...     ...  \n",
       "420       NaN          None       NaN           None       fb3d7bd9     Si2  \n",
       "421       NaN          None       NaN           None       fcb8cd9d     Si2  \n",
       "422       NaN          None       NaN           None       fcb8cd9d     Si2  \n",
       "423  1.094787            eV      36.0        seconds       fcb8cd9d     Si2  \n",
       "424       NaN          None       NaN           None       fcb8cd9d     Si2  \n",
       "\n",
       "[425 rows x 14 columns]"
      ],
      "text/html": "<div>\n<style scoped>\n    .dataframe tbody tr th:only-of-type {\n        vertical-align: middle;\n    }\n\n    .dataframe tbody tr th {\n        vertical-align: top;\n    }\n\n    .dataframe thead th {\n        text-align: right;\n    }\n</style>\n<table border=\"1\" class=\"dataframe\">\n  <thead>\n    <tr style=\"text-align: right;\">\n      <th></th>\n      <th>dict_uuid</th>\n      <th>parser_info</th>\n      <th>energy</th>\n      <th>energy_units</th>\n      <th>fermi_energy</th>\n      <th>fermi_energy_units</th>\n      <th>energy_hartree</th>\n      <th>energy_hartree_units</th>\n      <th>bandgap</th>\n      <th>bandgap_units</th>\n      <th>walltime</th>\n      <th>walltime_units</th>\n      <th>structure_uuid</th>\n      <th>formula</th>\n    </tr>\n  </thead>\n  <tbody>\n    <tr>\n      <th>0</th>\n      <td>f453f49c</td>\n      <td>None</td>\n      <td>NaN</td>\n      <td>None</td>\n      <td>NaN</td>\n      <td>None</td>\n      <td>NaN</td>\n      <td>None</td>\n      <td>NaN</td>\n      <td>None</td>\n      <td>NaN</td>\n      <td>None</td>\n      <td>0ccacebb</td>\n      <td>Al4</td>\n    </tr>\n    <tr>\n      <th>1</th>\n      <td>939a487f</td>\n      <td>AiiDA Fleur Parser v0.3.0</td>\n      <td>-26430.191843</td>\n      <td>eV</td>\n      <td>0.277850</td>\n      <td>Htr</td>\n      <td>-971.291643</td>\n      <td>Htr</td>\n      <td>0.017780</td>\n      <td>eV</td>\n      <td>176.0</td>\n      <td>seconds</td>\n      <td>0ccacebb</td>\n      <td>Al4</td>\n    </tr>\n    <tr>\n      <th>2</th>\n      <td>fd402121</td>\n      <td>None</td>\n      <td>-26430.120856</td>\n      <td>eV</td>\n      <td>NaN</td>\n      <td>None</td>\n      <td>NaN</td>\n      <td>None</td>\n      <td>NaN</td>\n      <td>None</td>\n      <td>NaN</td>\n      <td>None</td>\n      <td>0ccacebb</td>\n      <td>Al4</td>\n    </tr>\n    <tr>\n      <th>3</th>\n      <td>fd402121</td>\n      <td>None</td>\n      <td>-26430.120856</td>\n      <td>eV</td>\n      <td>NaN</td>\n      <td>None</td>\n      <td>NaN</td>\n      <td>None</td>\n      <td>NaN</td>\n      <td>None</td>\n      <td>NaN</td>\n      <td>None</td>\n      <td>0ccacebb</td>\n      <td>Al4</td>\n    </tr>\n    <tr>\n      <th>4</th>\n      <td>1fde0902</td>\n      <td>AiiDA Fleur Parser v0.3.0</td>\n      <td>-69269.571275</td>\n      <td>eV</td>\n      <td>0.351294</td>\n      <td>Htr</td>\n      <td>-2545.609813</td>\n      <td>Htr</td>\n      <td>0.005679</td>\n      <td>eV</td>\n      <td>96.0</td>\n      <td>seconds</td>\n      <td>2c639ddf</td>\n      <td>Fe2</td>\n    </tr>\n    <tr>\n      <th>...</th>\n      <td>...</td>\n      <td>...</td>\n      <td>...</td>\n      <td>...</td>\n      <td>...</td>\n      <td>...</td>\n      <td>...</td>\n      <td>...</td>\n      <td>...</td>\n      <td>...</td>\n      <td>...</td>\n      <td>...</td>\n      <td>...</td>\n      <td>...</td>\n    </tr>\n    <tr>\n      <th>420</th>\n      <td>54ffd65a</td>\n      <td>None</td>\n      <td>-15784.558154</td>\n      <td>eV</td>\n      <td>NaN</td>\n      <td>None</td>\n      <td>NaN</td>\n      <td>None</td>\n      <td>NaN</td>\n      <td>None</td>\n      <td>NaN</td>\n      <td>None</td>\n      <td>fb3d7bd9</td>\n      <td>Si2</td>\n    </tr>\n    <tr>\n      <th>421</th>\n      <td>7c6a9ff9</td>\n      <td>None</td>\n      <td>-15784.559902</td>\n      <td>eV</td>\n      <td>NaN</td>\n      <td>None</td>\n      <td>NaN</td>\n      <td>None</td>\n      <td>NaN</td>\n      <td>None</td>\n      <td>NaN</td>\n      <td>None</td>\n      <td>fcb8cd9d</td>\n      <td>Si2</td>\n    </tr>\n    <tr>\n      <th>422</th>\n      <td>89a75332</td>\n      <td>None</td>\n      <td>NaN</td>\n      <td>None</td>\n      <td>NaN</td>\n      <td>None</td>\n      <td>NaN</td>\n      <td>None</td>\n      <td>NaN</td>\n      <td>None</td>\n      <td>NaN</td>\n      <td>None</td>\n      <td>fcb8cd9d</td>\n      <td>Si2</td>\n    </tr>\n    <tr>\n      <th>423</th>\n      <td>e77ebc42</td>\n      <td>AiiDA Fleur Parser v0.3.0</td>\n      <td>-15784.723533</td>\n      <td>eV</td>\n      <td>0.177246</td>\n      <td>Htr</td>\n      <td>-580.077895</td>\n      <td>Htr</td>\n      <td>1.094787</td>\n      <td>eV</td>\n      <td>36.0</td>\n      <td>seconds</td>\n      <td>fcb8cd9d</td>\n      <td>Si2</td>\n    </tr>\n    <tr>\n      <th>424</th>\n      <td>7c6a9ff9</td>\n      <td>None</td>\n      <td>-15784.559902</td>\n      <td>eV</td>\n      <td>NaN</td>\n      <td>None</td>\n      <td>NaN</td>\n      <td>None</td>\n      <td>NaN</td>\n      <td>None</td>\n      <td>NaN</td>\n      <td>None</td>\n      <td>fcb8cd9d</td>\n      <td>Si2</td>\n    </tr>\n  </tbody>\n</table>\n<p>425 rows × 14 columns</p>\n</div>"
     },
     "metadata": {},
     "execution_count": 8
    }
   ],
   "source": [
    "df = helpers.read_json_file('combined_property_parser.json')\n",
    "df"
   ]
  },
  {
   "cell_type": "code",
   "execution_count": 9,
   "metadata": {},
   "outputs": [
    {
     "output_type": "execute_result",
     "data": {
      "text/plain": [
       "    dict_uuid                parser_info        energy energy_units  \\\n",
       "0    939a487f  AiiDA Fleur Parser v0.3.0 -26430.191843           eV   \n",
       "1    1fde0902  AiiDA Fleur Parser v0.3.0 -69269.571275           eV   \n",
       "2    36e8e184  AiiDA Fleur Parser v0.3.0 -69269.511590           eV   \n",
       "3    c7187212  AiiDA Fleur Parser v0.3.1 -69268.734001           eV   \n",
       "4    73261351  AiiDA Fleur Parser v0.3.0 -26430.121907           eV   \n",
       "..        ...                        ...           ...          ...   \n",
       "139  e6ecbc0f  AiiDA Fleur Parser v0.3.1 -69268.638764           eV   \n",
       "140  bba5ea0a  AiiDA Fleur Parser v0.3.0 -26430.091615           eV   \n",
       "141  9142422f  AiiDA Fleur Parser v0.3.0 -69269.472305           eV   \n",
       "142  984358bd  AiiDA Fleur Parser v0.3.0 -15784.731259           eV   \n",
       "143  e77ebc42  AiiDA Fleur Parser v0.3.0 -15784.723533           eV   \n",
       "\n",
       "     fermi_energy fermi_energy_units  energy_hartree energy_hartree_units  \\\n",
       "0        0.277850                Htr     -971.291643                  Htr   \n",
       "1        0.351294                Htr    -2545.609813                  Htr   \n",
       "2        0.410214                Htr    -2545.607620                  Htr   \n",
       "3        0.353498                Htr    -2545.579023                  Htr   \n",
       "4        0.255820                Htr     -971.289065                  Htr   \n",
       "..            ...                ...             ...                  ...   \n",
       "139      0.399115                Htr    -2545.575523                  Htr   \n",
       "140      0.334367                Htr     -971.287960                  Htr   \n",
       "141      0.359201                Htr    -2545.606176                  Htr   \n",
       "142      0.193149                Htr     -580.078179                  Htr   \n",
       "143      0.177246                Htr     -580.077895                  Htr   \n",
       "\n",
       "          bandgap bandgap_units  walltime walltime_units structure_uuid  \\\n",
       "0    1.777984e-02            eV     176.0        seconds       0ccacebb   \n",
       "1    5.679005e-03            eV      96.0        seconds       2c639ddf   \n",
       "2    2.286816e-03            eV       8.0        seconds       2e6d2ce2   \n",
       "3    7.221355e-03            eV      16.0        seconds       3a6a57f6   \n",
       "4    1.011752e-02            eV     205.0        seconds       48475c16   \n",
       "..            ...           ...       ...            ...            ...   \n",
       "139  1.464338e-02            eV       2.0        seconds       f540a37f   \n",
       "140  1.140000e-08            eV    1895.0        seconds       f67d62d7   \n",
       "141  9.668811e-04            eV      74.0        seconds       f999a276   \n",
       "142  9.299812e-01            eV      23.0        seconds       fb3d7bd9   \n",
       "143  1.094787e+00            eV      36.0        seconds       fcb8cd9d   \n",
       "\n",
       "    formula  \n",
       "0       Al4  \n",
       "1       Fe2  \n",
       "2       Fe2  \n",
       "3       Fe2  \n",
       "4       Al4  \n",
       "..      ...  \n",
       "139     Fe2  \n",
       "140     Al4  \n",
       "141     Fe2  \n",
       "142     Si2  \n",
       "143     Si2  \n",
       "\n",
       "[144 rows x 14 columns]"
      ],
      "text/html": "<div>\n<style scoped>\n    .dataframe tbody tr th:only-of-type {\n        vertical-align: middle;\n    }\n\n    .dataframe tbody tr th {\n        vertical-align: top;\n    }\n\n    .dataframe thead th {\n        text-align: right;\n    }\n</style>\n<table border=\"1\" class=\"dataframe\">\n  <thead>\n    <tr style=\"text-align: right;\">\n      <th></th>\n      <th>dict_uuid</th>\n      <th>parser_info</th>\n      <th>energy</th>\n      <th>energy_units</th>\n      <th>fermi_energy</th>\n      <th>fermi_energy_units</th>\n      <th>energy_hartree</th>\n      <th>energy_hartree_units</th>\n      <th>bandgap</th>\n      <th>bandgap_units</th>\n      <th>walltime</th>\n      <th>walltime_units</th>\n      <th>structure_uuid</th>\n      <th>formula</th>\n    </tr>\n  </thead>\n  <tbody>\n    <tr>\n      <th>0</th>\n      <td>939a487f</td>\n      <td>AiiDA Fleur Parser v0.3.0</td>\n      <td>-26430.191843</td>\n      <td>eV</td>\n      <td>0.277850</td>\n      <td>Htr</td>\n      <td>-971.291643</td>\n      <td>Htr</td>\n      <td>1.777984e-02</td>\n      <td>eV</td>\n      <td>176.0</td>\n      <td>seconds</td>\n      <td>0ccacebb</td>\n      <td>Al4</td>\n    </tr>\n    <tr>\n      <th>1</th>\n      <td>1fde0902</td>\n      <td>AiiDA Fleur Parser v0.3.0</td>\n      <td>-69269.571275</td>\n      <td>eV</td>\n      <td>0.351294</td>\n      <td>Htr</td>\n      <td>-2545.609813</td>\n      <td>Htr</td>\n      <td>5.679005e-03</td>\n      <td>eV</td>\n      <td>96.0</td>\n      <td>seconds</td>\n      <td>2c639ddf</td>\n      <td>Fe2</td>\n    </tr>\n    <tr>\n      <th>2</th>\n      <td>36e8e184</td>\n      <td>AiiDA Fleur Parser v0.3.0</td>\n      <td>-69269.511590</td>\n      <td>eV</td>\n      <td>0.410214</td>\n      <td>Htr</td>\n      <td>-2545.607620</td>\n      <td>Htr</td>\n      <td>2.286816e-03</td>\n      <td>eV</td>\n      <td>8.0</td>\n      <td>seconds</td>\n      <td>2e6d2ce2</td>\n      <td>Fe2</td>\n    </tr>\n    <tr>\n      <th>3</th>\n      <td>c7187212</td>\n      <td>AiiDA Fleur Parser v0.3.1</td>\n      <td>-69268.734001</td>\n      <td>eV</td>\n      <td>0.353498</td>\n      <td>Htr</td>\n      <td>-2545.579023</td>\n      <td>Htr</td>\n      <td>7.221355e-03</td>\n      <td>eV</td>\n      <td>16.0</td>\n      <td>seconds</td>\n      <td>3a6a57f6</td>\n      <td>Fe2</td>\n    </tr>\n    <tr>\n      <th>4</th>\n      <td>73261351</td>\n      <td>AiiDA Fleur Parser v0.3.0</td>\n      <td>-26430.121907</td>\n      <td>eV</td>\n      <td>0.255820</td>\n      <td>Htr</td>\n      <td>-971.289065</td>\n      <td>Htr</td>\n      <td>1.011752e-02</td>\n      <td>eV</td>\n      <td>205.0</td>\n      <td>seconds</td>\n      <td>48475c16</td>\n      <td>Al4</td>\n    </tr>\n    <tr>\n      <th>...</th>\n      <td>...</td>\n      <td>...</td>\n      <td>...</td>\n      <td>...</td>\n      <td>...</td>\n      <td>...</td>\n      <td>...</td>\n      <td>...</td>\n      <td>...</td>\n      <td>...</td>\n      <td>...</td>\n      <td>...</td>\n      <td>...</td>\n      <td>...</td>\n    </tr>\n    <tr>\n      <th>139</th>\n      <td>e6ecbc0f</td>\n      <td>AiiDA Fleur Parser v0.3.1</td>\n      <td>-69268.638764</td>\n      <td>eV</td>\n      <td>0.399115</td>\n      <td>Htr</td>\n      <td>-2545.575523</td>\n      <td>Htr</td>\n      <td>1.464338e-02</td>\n      <td>eV</td>\n      <td>2.0</td>\n      <td>seconds</td>\n      <td>f540a37f</td>\n      <td>Fe2</td>\n    </tr>\n    <tr>\n      <th>140</th>\n      <td>bba5ea0a</td>\n      <td>AiiDA Fleur Parser v0.3.0</td>\n      <td>-26430.091615</td>\n      <td>eV</td>\n      <td>0.334367</td>\n      <td>Htr</td>\n      <td>-971.287960</td>\n      <td>Htr</td>\n      <td>1.140000e-08</td>\n      <td>eV</td>\n      <td>1895.0</td>\n      <td>seconds</td>\n      <td>f67d62d7</td>\n      <td>Al4</td>\n    </tr>\n    <tr>\n      <th>141</th>\n      <td>9142422f</td>\n      <td>AiiDA Fleur Parser v0.3.0</td>\n      <td>-69269.472305</td>\n      <td>eV</td>\n      <td>0.359201</td>\n      <td>Htr</td>\n      <td>-2545.606176</td>\n      <td>Htr</td>\n      <td>9.668811e-04</td>\n      <td>eV</td>\n      <td>74.0</td>\n      <td>seconds</td>\n      <td>f999a276</td>\n      <td>Fe2</td>\n    </tr>\n    <tr>\n      <th>142</th>\n      <td>984358bd</td>\n      <td>AiiDA Fleur Parser v0.3.0</td>\n      <td>-15784.731259</td>\n      <td>eV</td>\n      <td>0.193149</td>\n      <td>Htr</td>\n      <td>-580.078179</td>\n      <td>Htr</td>\n      <td>9.299812e-01</td>\n      <td>eV</td>\n      <td>23.0</td>\n      <td>seconds</td>\n      <td>fb3d7bd9</td>\n      <td>Si2</td>\n    </tr>\n    <tr>\n      <th>143</th>\n      <td>e77ebc42</td>\n      <td>AiiDA Fleur Parser v0.3.0</td>\n      <td>-15784.723533</td>\n      <td>eV</td>\n      <td>0.177246</td>\n      <td>Htr</td>\n      <td>-580.077895</td>\n      <td>Htr</td>\n      <td>1.094787e+00</td>\n      <td>eV</td>\n      <td>36.0</td>\n      <td>seconds</td>\n      <td>fcb8cd9d</td>\n      <td>Si2</td>\n    </tr>\n  </tbody>\n</table>\n<p>144 rows × 14 columns</p>\n</div>"
     },
     "metadata": {},
     "execution_count": 9
    }
   ],
   "source": [
    "filtered_df, xdata, ydata = helpers.filter_missing_value(df,'energy', 'fermi_energy')\n",
    "filtered_df"
   ]
  },
  {
   "source": [
    "### Interactive plot by Bokeh"
   ],
   "cell_type": "markdown",
   "metadata": {}
  },
  {
   "cell_type": "code",
   "execution_count": 10,
   "metadata": {},
   "outputs": [],
   "source": [
    "# Workflow_version=0.4.2\n",
    "helpers.bokeh_struc_prop_vis('combined_property_wf042.json','total_energy', 'distance_charge',\"vis_wf042.html\")"
   ]
  },
  {
   "cell_type": "code",
   "execution_count": 11,
   "metadata": {},
   "outputs": [],
   "source": [
    "# Parser\n",
    "helpers.bokeh_struc_prop_vis('combined_property_parser.json','energy', 'fermi_energy',\"vis_parser.html\")"
   ]
  },
  {
   "source": [
    "### Interactive plot using Bokeh server application"
   ],
   "cell_type": "markdown",
   "metadata": {}
  },
  {
   "cell_type": "code",
   "execution_count": 24,
   "metadata": {},
   "outputs": [],
   "source": [
    "# In vscode terminal:\n",
    "# bokeh serve --show --port 5001 bokehplotting.py"
   ]
  },
  {
   "cell_type": "code",
   "execution_count": null,
   "metadata": {},
   "outputs": [],
   "source": []
  },
  {
   "cell_type": "code",
   "execution_count": null,
   "metadata": {},
   "outputs": [],
   "source": []
  }
 ],
 "metadata": {
  "celltoolbar": "Hide code",
  "kernelspec": {
   "name": "python3",
   "display_name": "Python 3",
   "language": "python"
  },
  "language_info": {
   "codemirror_mode": {
    "name": "ipython",
    "version": 3
   },
   "file_extension": ".py",
   "mimetype": "text/x-python",
   "name": "python",
   "nbconvert_exporter": "python",
   "pygments_lexer": "ipython3",
   "version": "3.8.5-final"
  },
  "toc": {
   "colors": {
    "hover_highlight": "#DAA520",
    "navigate_num": "#000000",
    "navigate_text": "#333333",
    "running_highlight": "#FF0000",
    "selected_highlight": "#FFD700",
    "sidebar_border": "#EEEEEE",
    "wrapper_background": "#FFFFFF"
   },
   "moveMenuLeft": true,
   "nav_menu": {
    "height": "12px",
    "width": "252px"
   },
   "navigate_menu": true,
   "number_sections": true,
   "sideBar": true,
   "skip_h1_title": false,
   "threshold": 4,
   "toc_cell": false,
   "toc_section_display": "block",
   "toc_window_display": false,
   "widenNotebook": false
  },
  "varInspector": {
   "cols": {
    "lenName": 16,
    "lenType": 16,
    "lenVar": 40
   },
   "kernels_config": {
    "python": {
     "delete_cmd_postfix": "",
     "delete_cmd_prefix": "del ",
     "library": "var_list.py",
     "varRefreshCmd": "print(var_dic_list())"
    },
    "r": {
     "delete_cmd_postfix": ") ",
     "delete_cmd_prefix": "rm(",
     "library": "var_list.r",
     "varRefreshCmd": "cat(var_dic_list()) "
    }
   },
   "types_to_exclude": [
    "module",
    "function",
    "builtin_function_or_method",
    "instance",
    "_Feature"
   ],
   "window_display": false
  }
 },
 "nbformat": 4,
 "nbformat_minor": 4
}