{
 "cells": [
  {
   "cell_type": "markdown",
   "metadata": {},
   "source": [
    "# Structure Property visualizer"
   ]
  },
  {
   "cell_type": "code",
   "execution_count": null,
   "metadata": {},
   "outputs": [],
   "source": [
    "# This is the second of two deliverable for the SiSc-Lab2020 project\n",
    "# authors = \n",
    "\n",
    "# You have to implement this notebook\n",
    "# In the end only Markup text and output results should be seen if one hides the code cells (hide_code extension)\n",
    "# That is can easily exported into a nice pdf file.\n",
    "# Also the amount of python code in this notebook should be minimal.\n",
    "# Rather export the functions you use from a different file.\n",
    "# optional dump query results in a file, from which results will be reread for speed, i.e cache results"
   ]
  },
  {
   "cell_type": "code",
   "execution_count": null,
   "metadata": {},
   "outputs": [],
   "source": [
    "# Comment: An example of what we in the end aim for your find here.\n",
    "# https://www.materialscloud.org/discover/mofs#mcloudHeader\n",
    "# Clicking at one of the prerendered plots will open an interactive bokeh app.\n",
    "# Code for this you find here: https://github.com/materialscloud-org/structure-property-visualizer/blob/master/figure/main.py\n",
    "# For you sisc project this is to much, so do not view this as something you have to deliver but something that with the help of your work\n",
    "# in this project we will build out of it for our purposes.\n",
    "# So do not worry about an app.\n",
    "\n",
    "# Your tasks are as follows:\n",
    "\n",
    "# 1. Implement a general interactive bokeh scatter plots with linked histograms (see static version examples/MP_convergence_scf_clean_150_240.png)\n",
    "# We gladly help you with it. (this goes into helpers.py and you import it here for usage). This function should not contain any aiida methods.\n",
    "# 2. Extract float data you find in certain 'Dict' nodes into a/several pandas object, which will be then the datasource for this notebook\n",
    "# So this notebook should not directly depend on any aiida methods (beyond load_profile)\n",
    "# "
   ]
  },
  {
   "cell_type": "code",
   "execution_count": null,
   "metadata": {},
   "outputs": [],
   "source": [
    "%load_ext autoreload\n",
    "%autoreload 2\n",
    "%matplotlib notebook"
   ]
  },
  {
   "cell_type": "code",
   "execution_count": null,
   "metadata": {},
   "outputs": [],
   "source": [
    "from aiida import load_profile\n",
    "load_profile()\n",
    "\n",
    "import time\n",
    "# from .helpers import bokeh_struc_prop_vis\n",
    "# from .helpers import generate_structure_property_pandas_source"
   ]
  },
  {
   "cell_type": "code",
   "execution_count": null,
   "metadata": {},
   "outputs": [],
   "source": [
    "profile_name = ''\n",
    "print('\\033[1m' + f'This notebook/dashboard will visualize the contents from the database of profile: {profile_name}'+ '\\033[1m')"
   ]
  },
  {
   "cell_type": "code",
   "execution_count": null,
   "metadata": {},
   "outputs": [],
   "source": [
    "# check what output dict nodes returned by workflows, which had StructureData nodes as inputs are there in the database.\n",
    "# For example a successful FleurScfWorkChain there are two return Dict nodes, one is linked with \n",
    "# 'last_fleur_calc_output' and one with 'output_scf_wc_para'\n",
    "# If a StructureData is an input of such a workflow you can extract the formula, uuid and other information you need from the \n",
    "# StructureData which is always linked into workflows via the link name 'structure'.\n",
    "\n",
    "# All the user to say"
   ]
  },
  {
   "cell_type": "code",
   "execution_count": null,
   "metadata": {},
   "outputs": [],
   "source": [
    "# source = generate_structure_property_pandas_source('<workflow_name>')"
   ]
  },
  {
   "cell_type": "code",
   "execution_count": null,
   "metadata": {},
   "outputs": [],
   "source": []
  },
  {
   "cell_type": "code",
   "execution_count": null,
   "metadata": {},
   "outputs": [],
   "source": [
    "# allow the user to choose, which properties to plot on what axis. "
   ]
  },
  {
   "cell_type": "code",
   "execution_count": null,
   "metadata": {},
   "outputs": [],
   "source": [
    "#xdata = source['distance']\n",
    "#ydata = source['energy']\n"
   ]
  },
  {
   "cell_type": "code",
   "execution_count": null,
   "metadata": {},
   "outputs": [],
   "source": [
    "# Single bokeh scatter plot with histgrams on both sides, hover tool should show 'input structure, formula, \n",
    "# structure_uuid and dictnode uuid', as long as this information is available.\n",
    "\n",
    "\n"
   ]
  },
  {
   "cell_type": "code",
   "execution_count": null,
   "metadata": {},
   "outputs": [],
   "source": [
    "# bokeh_struc_prop_vis(xdata, ydata, src=source, **kwargs)"
   ]
  }
 ],
 "metadata": {
  "celltoolbar": "Hide code",
  "kernelspec": {
   "display_name": "Python 3",
   "language": "python",
   "name": "python3"
  },
  "language_info": {
   "codemirror_mode": {
    "name": "ipython",
    "version": 3
   },
   "file_extension": ".py",
   "mimetype": "text/x-python",
   "name": "python",
   "nbconvert_exporter": "python",
   "pygments_lexer": "ipython3",
   "version": "3.6.9"
  },
  "toc": {
   "colors": {
    "hover_highlight": "#DAA520",
    "navigate_num": "#000000",
    "navigate_text": "#333333",
    "running_highlight": "#FF0000",
    "selected_highlight": "#FFD700",
    "sidebar_border": "#EEEEEE",
    "wrapper_background": "#FFFFFF"
   },
   "moveMenuLeft": true,
   "nav_menu": {
    "height": "12px",
    "width": "252px"
   },
   "navigate_menu": true,
   "number_sections": true,
   "sideBar": true,
   "skip_h1_title": false,
   "threshold": 4,
   "toc_cell": false,
   "toc_section_display": "block",
   "toc_window_display": false,
   "widenNotebook": false
  },
  "varInspector": {
   "cols": {
    "lenName": 16,
    "lenType": 16,
    "lenVar": 40
   },
   "kernels_config": {
    "python": {
     "delete_cmd_postfix": "",
     "delete_cmd_prefix": "del ",
     "library": "var_list.py",
     "varRefreshCmd": "print(var_dic_list())"
    },
    "r": {
     "delete_cmd_postfix": ") ",
     "delete_cmd_prefix": "rm(",
     "library": "var_list.r",
     "varRefreshCmd": "cat(var_dic_list()) "
    }
   },
   "types_to_exclude": [
    "module",
    "function",
    "builtin_function_or_method",
    "instance",
    "_Feature"
   ],
   "window_display": false
  }
 },
 "nbformat": 4,
 "nbformat_minor": 1
}
