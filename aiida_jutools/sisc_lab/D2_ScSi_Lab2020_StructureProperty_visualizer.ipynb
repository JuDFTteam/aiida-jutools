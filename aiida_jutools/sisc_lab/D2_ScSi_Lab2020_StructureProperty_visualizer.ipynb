{
 "cells": [
  {
   "cell_type": "markdown",
   "metadata": {},
   "source": [
    "# Structure Property visualizer"
   ]
  },
  {
   "cell_type": "markdown",
   "metadata": {},
   "source": [
    "This is the second of two deliverables for the SiSc-Lab2020 project.\n",
    "\n",
    "Authors = \n",
    "\n",
    "Supervisors: Dr. Jens Bröder, Dr. Daniel Wortmann, Johannes Wasmer, Prof. Dr. Stefan Blügel."
   ]
  },
  {
   "cell_type": "markdown",
   "metadata": {},
   "source": [
    "# Instructions by supervisors"
   ]
  },
  {
   "cell_type": "markdown",
   "metadata": {},
   "source": [
    "## Jens"
   ]
  },
  {
   "cell_type": "markdown",
   "metadata": {},
   "source": [
    "You have to implement this notebook\n",
    "\n",
    "In the end only Markup text and output results should be seen if one hides the code cells (hide_code extension)\n",
    "\n",
    "That is can easily exported into a nice pdf file.\n",
    "\n",
    "Also the amount of python code in this notebook should be minimal.\n",
    "\n",
    "Rather export the functions you use from a different file.\n",
    "\n",
    "optional dump query results in a file, from which results will be reread for speed, i.e cache results\n",
    "\n",
    "______________"
   ]
  },
  {
   "cell_type": "markdown",
   "metadata": {},
   "source": [
    "An example of what we in the end aim for your find here.\n",
    "\n",
    "https://www.materialscloud.org/discover/mofs#mcloudHeader\n",
    "\n",
    "Clicking at one of the prerendered plots will open an interactive bokeh app.\n",
    "\n",
    "Code for this you find here: https://github.com/materialscloud-org/structure-property-visualizer/blob/master/figure/main.py\n",
    "\n",
    "For you sisc project this is to much, so do not view this as something you have to deliver but something that with the help of your work\n",
    "in this project we will build out of it for our purposes.\n",
    "\n",
    "So do not worry about an app.\n",
    "\n",
    "_________________"
   ]
  },
  {
   "cell_type": "markdown",
   "metadata": {},
   "source": [
    "**Your tasks are as follows:**\n",
    "\n",
    "1. Implement a general interactive bokeh scatter plots with linked histograms (see static version examples/MP_convergence_scf_clean_150_240.png). \n",
    "\n",
    "   We gladly help you with it. (this goes into helpers.py and you import it here for usage). This function should not contain any aiida methods.\n",
    "2. Extract float data you find in certain 'Dict' nodes into a/several pandas object, which will be then the datasource for this notebook. \n",
    "\n",
    "   So this notebook should not directly depend on any aiida methods (beyond load_profile)\n"
   ]
  },
  {
   "cell_type": "markdown",
   "metadata": {},
   "source": [
    "## Johannes\n",
    "\n",
    "Nothing much to add.\n",
    "\n",
    "I'd just have bonus: if all this works, one could think about some actual data analysis, like clustering analysis or dimension reduction as we learned in Data Analysis & Visualization. For example, do [PCA](https://blog.exploratory.io/an-introduction-to-principal-component-analysis-pca-with-2018-world-soccer-players-data-810d84a14eab) with the quantities magnetic moment, energy, band gap, fermi energy, (structure, core levels). Ie, are some of these quantities (linearly) correlated in a data subset (e.g. all output nodes)? Since the data is already preprocessed mostly, this should be relatively easy, just throw the data into [scikit-learn](https://scikit-learn.org/stable/)."
   ]
  },
  {
   "cell_type": "markdown",
   "metadata": {},
   "source": [
    "# Imports"
   ]
  },
  {
   "cell_type": "code",
   "execution_count": 2,
   "metadata": {},
   "outputs": [],
   "source": [
    "# magics:\n",
    "# # autoreload imports. \n",
    "# # intent: if i change sth in import, i don't have to restart kernel. enable only for development.\n",
    "%load_ext autoreload\n",
    "%autoreload 2\n",
    "# # choose matplotlib backend. backend 'notebook' allows interactive plots if your env allows it.\n",
    "%matplotlib notebook"
   ]
  },
  {
   "cell_type": "code",
   "execution_count": 3,
   "metadata": {},
   "outputs": [],
   "source": [
    "# python imports:\n",
    "from collections import Counter\n",
    "import time\n",
    "import numpy as np\n",
    "import pandas as pd\n",
    "#from pprint import pprint"
   ]
  },
  {
   "cell_type": "code",
   "execution_count": null,
   "metadata": {},
   "outputs": [],
   "source": [
    "# aiida imports:\n",
    "from aiida import load_profile\n",
    "profile = load_profile()\n",
    "\n",
    "# ggf add further imports"
   ]
  },
  {
   "cell_type": "code",
   "execution_count": 4,
   "metadata": {},
   "outputs": [],
   "source": [
    "# project imports:\n",
    "import helpers\n",
    "# from .helpers import bokeh_struc_prop_vis\n",
    "# from .helpers import generate_structure_property_pandas_source\n",
    "\n",
    "# equivalent ('.' is the sisc_lab directory):\n",
    "# from . import helpers\n",
    "# alternative:\n",
    "# from .helpers import print_bold\n",
    "# from .helpers import * ('*' import everything; use of '*' is considered bad style)"
   ]
  },
  {
   "cell_type": "code",
   "execution_count": 5,
   "metadata": {},
   "outputs": [
    {
     "output_type": "stream",
     "name": "stdout",
     "text": [
      "\u001b[1mThis notebook/dashboard will visualize the contents from the database of profile seconddb\u001b[1m\n"
     ]
    }
   ],
   "source": [
    "# (example:)\n",
    "helpers.print_bold(f\"This notebook/dashboard will visualize the contents from the database of profile {profile.name}\")"
   ]
  },
  {
   "cell_type": "markdown",
   "metadata": {},
   "source": [
    "# Subastk D2.a: Data acquisition"
   ]
  },
  {
   "cell_type": "markdown",
   "metadata": {},
   "source": [
    "Task: check which output dict nodes returned by workflows, which had `StructureData` nodes as inputs are there in the database.\n",
    "\n",
    "For example, for a successful `FleurScfWorkChain`, there are two return `Dict` nodes, one is linked with\n",
    "`last_fleur_calc_output` and one with `output_scf_wc_para`.\n",
    "\n",
    "If a `StructureData` is an input of such a workflow you can extract the formula, `uuid` and other information you need from the \n",
    "`StructureData` which is always linked into workflows via the link name `structure`.\n",
    "\n",
    "All the user should have to say:\n",
    "```python\n",
    "source = generate_structure_property_pandas_source('<workflow_name>')\n",
    "```\n"
   ]
  },
  {
   "cell_type": "code",
   "execution_count": 1,
   "metadata": {},
   "outputs": [],
   "source": [
    "#Find out valid plugin tools\n",
    "# !verdi plugin list aiida.workflows\n",
    "\n",
    "#Have a look at the attributes of dict nodes and sturcture nodes\n",
    "# dict_project=['attributes','uuid']\n",
    "# workflowdictlst = helpers.get_structure_workflow_dict(dict_project=dict_project)\n",
    "#or\n",
    "# structure_project=['uuid', 'extras','attributes']\n",
    "# workflowdictlst = helpers.get_structure_workflow_dict(structure_project=structure_project)"
   ]
  },
  {
   "cell_type": "code",
   "execution_count": 7,
   "metadata": {},
   "outputs": [
    {
     "output_type": "stream",
     "name": "stdout",
     "text": [
      "850\n"
     ]
    },
    {
     "output_type": "execute_result",
     "data": {
      "text/plain": [
       "[{'structure': ['02e6640d-d7cc-48ab-b5fc-403f6c5f747d', None],\n",
       "  'workflow': ['de3b637c-138f-41f0-aada-21ded6bb520b', 'FleurScfWorkChain'],\n",
       "  'dict': ['d8cab742-c2a1-48a6-9026-1136e80cccaa']},\n",
       " {'structure': ['02e6640d-d7cc-48ab-b5fc-403f6c5f747d', None],\n",
       "  'workflow': ['de3b637c-138f-41f0-aada-21ded6bb520b', 'FleurScfWorkChain'],\n",
       "  'dict': ['98265865-e402-4349-a731-62c94c1cc349']}]"
      ]
     },
     "metadata": {},
     "execution_count": 7
    }
   ],
   "source": [
    "# workflow_name = 'fleur_scf_wc' # Filter workflow\n",
    "# workflowdictlst = helpers.get_structure_workflow_dict(workflow_filters={'attributes.process_label':workflow_name})\n",
    "#or\n",
    "workflow_name = None # No restriction. Querying by default\n",
    "workflowdictlst = helpers.get_structure_workflow_dict()\n",
    "\n",
    "print(len(workflowdictlst))\n",
    "workflowdictlst[:2]"
   ]
  },
  {
   "cell_type": "code",
   "execution_count": 8,
   "metadata": {},
   "outputs": [
    {
     "output_type": "execute_result",
     "data": {
      "text/plain": [
       "  dict_uuid  force        energy  total_energy  distance_charge   bandgap  \\\n",
       "0  d8cab742   None           NaN  -2545.579023         0.000049       NaN   \n",
       "1  98265865   None -69268.734001           NaN              NaN  0.007221   \n",
       "2  93bbe25d   None           NaN   -971.290635              NaN       NaN   \n",
       "3  1e42c371   None -26430.164420           NaN              NaN  0.163845   \n",
       "4  5bc3c4d9  [0.0] -26430.080872           NaN              NaN       NaN   \n",
       "\n",
       "  workflow_version                parser_info material  fermi_energy  \n",
       "0            0.4.2                       None      Fe2           NaN  \n",
       "1             None  AiiDA Fleur Parser v0.3.1     None      0.353498  \n",
       "2            0.4.2                       None      Al4           NaN  \n",
       "3             None  AiiDA Fleur Parser v0.3.0     None      0.299326  \n",
       "4            0.2.2                       None     None           NaN  "
      ],
      "text/html": "<div>\n<style scoped>\n    .dataframe tbody tr th:only-of-type {\n        vertical-align: middle;\n    }\n\n    .dataframe tbody tr th {\n        vertical-align: top;\n    }\n\n    .dataframe thead th {\n        text-align: right;\n    }\n</style>\n<table border=\"1\" class=\"dataframe\">\n  <thead>\n    <tr style=\"text-align: right;\">\n      <th></th>\n      <th>dict_uuid</th>\n      <th>force</th>\n      <th>energy</th>\n      <th>total_energy</th>\n      <th>distance_charge</th>\n      <th>bandgap</th>\n      <th>workflow_version</th>\n      <th>parser_info</th>\n      <th>material</th>\n      <th>fermi_energy</th>\n    </tr>\n  </thead>\n  <tbody>\n    <tr>\n      <th>0</th>\n      <td>d8cab742</td>\n      <td>None</td>\n      <td>NaN</td>\n      <td>-2545.579023</td>\n      <td>0.000049</td>\n      <td>NaN</td>\n      <td>0.4.2</td>\n      <td>None</td>\n      <td>Fe2</td>\n      <td>NaN</td>\n    </tr>\n    <tr>\n      <th>1</th>\n      <td>98265865</td>\n      <td>None</td>\n      <td>-69268.734001</td>\n      <td>NaN</td>\n      <td>NaN</td>\n      <td>0.007221</td>\n      <td>None</td>\n      <td>AiiDA Fleur Parser v0.3.1</td>\n      <td>None</td>\n      <td>0.353498</td>\n    </tr>\n    <tr>\n      <th>2</th>\n      <td>93bbe25d</td>\n      <td>None</td>\n      <td>NaN</td>\n      <td>-971.290635</td>\n      <td>NaN</td>\n      <td>NaN</td>\n      <td>0.4.2</td>\n      <td>None</td>\n      <td>Al4</td>\n      <td>NaN</td>\n    </tr>\n    <tr>\n      <th>3</th>\n      <td>1e42c371</td>\n      <td>None</td>\n      <td>-26430.164420</td>\n      <td>NaN</td>\n      <td>NaN</td>\n      <td>0.163845</td>\n      <td>None</td>\n      <td>AiiDA Fleur Parser v0.3.0</td>\n      <td>None</td>\n      <td>0.299326</td>\n    </tr>\n    <tr>\n      <th>4</th>\n      <td>5bc3c4d9</td>\n      <td>[0.0]</td>\n      <td>-26430.080872</td>\n      <td>NaN</td>\n      <td>NaN</td>\n      <td>NaN</td>\n      <td>0.2.2</td>\n      <td>None</td>\n      <td>None</td>\n      <td>NaN</td>\n    </tr>\n  </tbody>\n</table>\n</div>"
     },
     "metadata": {},
     "execution_count": 8
    }
   ],
   "source": [
    "# Some dict attributes: force, energy, total_energy, fermi_energy, bandgap, charge_density, distance_charge, \n",
    "#                       workflow_version, parser_info, material,\n",
    "# Remarks:  workflow_version=0.2.2: energy, force\n",
    "#           workflow_version=0.4.2: total_energy, material. \n",
    "#           parser: fermi_energy, bandgap.\n",
    "\n",
    "dict_project=['uuid', 'attributes.force', 'attributes.energy', 'attributes.total_energy', 'attributes.distance_charge',             'attributes.bandgap', 'attributes.workflow_version', 'attributes.parser_info', 'attributes.material',\n",
    "        'attributes.fermi_energy']\n",
    "dictpd = helpers.generate_dict_property_pandas_source(\n",
    "            workflow_name, \n",
    "            dict_project=dict_project, \n",
    "            filename='dict_property.json')\n",
    "dictpd.head(5)"
   ]
  },
  {
   "cell_type": "code",
   "execution_count": 9,
   "metadata": {},
   "outputs": [
    {
     "output_type": "execute_result",
     "data": {
      "text/plain": [
       "  structure_uuid formula\n",
       "0       02e6640d    None\n",
       "1       02e6640d    None\n",
       "2       03bc06be    None\n",
       "3       03bc06be    None\n",
       "4       03bc06be    None"
      ],
      "text/html": "<div>\n<style scoped>\n    .dataframe tbody tr th:only-of-type {\n        vertical-align: middle;\n    }\n\n    .dataframe tbody tr th {\n        vertical-align: top;\n    }\n\n    .dataframe thead th {\n        text-align: right;\n    }\n</style>\n<table border=\"1\" class=\"dataframe\">\n  <thead>\n    <tr style=\"text-align: right;\">\n      <th></th>\n      <th>structure_uuid</th>\n      <th>formula</th>\n    </tr>\n  </thead>\n  <tbody>\n    <tr>\n      <th>0</th>\n      <td>02e6640d</td>\n      <td>None</td>\n    </tr>\n    <tr>\n      <th>1</th>\n      <td>02e6640d</td>\n      <td>None</td>\n    </tr>\n    <tr>\n      <th>2</th>\n      <td>03bc06be</td>\n      <td>None</td>\n    </tr>\n    <tr>\n      <th>3</th>\n      <td>03bc06be</td>\n      <td>None</td>\n    </tr>\n    <tr>\n      <th>4</th>\n      <td>03bc06be</td>\n      <td>None</td>\n    </tr>\n  </tbody>\n</table>\n</div>"
     },
     "metadata": {},
     "execution_count": 9
    }
   ],
   "source": [
    "structure_project=['uuid', 'extras.formula']\n",
    "structurepd = helpers.generate_structure_property_pandas_source(\n",
    "            workflow_name, \n",
    "            structure_project=structure_project,\n",
    "            filename='structure_property.json')\n",
    "structurepd.head(5)"
   ]
  },
  {
   "cell_type": "code",
   "execution_count": 10,
   "metadata": {},
   "outputs": [
    {
     "output_type": "execute_result",
     "data": {
      "text/plain": [
       "  dict_uuid  force        energy  total_energy  distance_charge   bandgap  \\\n",
       "0  d8cab742   None           NaN  -2545.579023         0.000049       NaN   \n",
       "1  98265865   None -69268.734001           NaN              NaN  0.007221   \n",
       "2  93bbe25d   None           NaN   -971.290635              NaN       NaN   \n",
       "3  1e42c371   None -26430.164420           NaN              NaN  0.163845   \n",
       "4  5bc3c4d9  [0.0] -26430.080872           NaN              NaN       NaN   \n",
       "\n",
       "  workflow_version                parser_info material  fermi_energy  \\\n",
       "0            0.4.2                       None      Fe2           NaN   \n",
       "1             None  AiiDA Fleur Parser v0.3.1     None      0.353498   \n",
       "2            0.4.2                       None      Al4           NaN   \n",
       "3             None  AiiDA Fleur Parser v0.3.0     None      0.299326   \n",
       "4            0.2.2                       None     None           NaN   \n",
       "\n",
       "  structure_uuid formula  \n",
       "0       02e6640d    None  \n",
       "1       02e6640d    None  \n",
       "2       03bc06be    None  \n",
       "3       03bc06be    None  \n",
       "4       03bc06be    None  "
      ],
      "text/html": "<div>\n<style scoped>\n    .dataframe tbody tr th:only-of-type {\n        vertical-align: middle;\n    }\n\n    .dataframe tbody tr th {\n        vertical-align: top;\n    }\n\n    .dataframe thead th {\n        text-align: right;\n    }\n</style>\n<table border=\"1\" class=\"dataframe\">\n  <thead>\n    <tr style=\"text-align: right;\">\n      <th></th>\n      <th>dict_uuid</th>\n      <th>force</th>\n      <th>energy</th>\n      <th>total_energy</th>\n      <th>distance_charge</th>\n      <th>bandgap</th>\n      <th>workflow_version</th>\n      <th>parser_info</th>\n      <th>material</th>\n      <th>fermi_energy</th>\n      <th>structure_uuid</th>\n      <th>formula</th>\n    </tr>\n  </thead>\n  <tbody>\n    <tr>\n      <th>0</th>\n      <td>d8cab742</td>\n      <td>None</td>\n      <td>NaN</td>\n      <td>-2545.579023</td>\n      <td>0.000049</td>\n      <td>NaN</td>\n      <td>0.4.2</td>\n      <td>None</td>\n      <td>Fe2</td>\n      <td>NaN</td>\n      <td>02e6640d</td>\n      <td>None</td>\n    </tr>\n    <tr>\n      <th>1</th>\n      <td>98265865</td>\n      <td>None</td>\n      <td>-69268.734001</td>\n      <td>NaN</td>\n      <td>NaN</td>\n      <td>0.007221</td>\n      <td>None</td>\n      <td>AiiDA Fleur Parser v0.3.1</td>\n      <td>None</td>\n      <td>0.353498</td>\n      <td>02e6640d</td>\n      <td>None</td>\n    </tr>\n    <tr>\n      <th>2</th>\n      <td>93bbe25d</td>\n      <td>None</td>\n      <td>NaN</td>\n      <td>-971.290635</td>\n      <td>NaN</td>\n      <td>NaN</td>\n      <td>0.4.2</td>\n      <td>None</td>\n      <td>Al4</td>\n      <td>NaN</td>\n      <td>03bc06be</td>\n      <td>None</td>\n    </tr>\n    <tr>\n      <th>3</th>\n      <td>1e42c371</td>\n      <td>None</td>\n      <td>-26430.164420</td>\n      <td>NaN</td>\n      <td>NaN</td>\n      <td>0.163845</td>\n      <td>None</td>\n      <td>AiiDA Fleur Parser v0.3.0</td>\n      <td>None</td>\n      <td>0.299326</td>\n      <td>03bc06be</td>\n      <td>None</td>\n    </tr>\n    <tr>\n      <th>4</th>\n      <td>5bc3c4d9</td>\n      <td>[0.0]</td>\n      <td>-26430.080872</td>\n      <td>NaN</td>\n      <td>NaN</td>\n      <td>NaN</td>\n      <td>0.2.2</td>\n      <td>None</td>\n      <td>None</td>\n      <td>NaN</td>\n      <td>03bc06be</td>\n      <td>None</td>\n    </tr>\n  </tbody>\n</table>\n</div>"
     },
     "metadata": {},
     "execution_count": 10
    }
   ],
   "source": [
    "# Generate the combination of the above\n",
    "combinepd = helpers.generate_combination_property_pandas_source(\n",
    "            workflow_name, \n",
    "            dict_project=dict_project, \n",
    "            structure_project=structure_project,\n",
    "            filename='combined_property.json')\n",
    "combinepd.head(5)"
   ]
  },
  {
   "cell_type": "markdown",
   "metadata": {},
   "source": [
    "# Subtask D2.b: Interactive plot"
   ]
  },
  {
   "cell_type": "markdown",
   "metadata": {},
   "source": [
    "Allow the user to choose, which properties to plot on what axis.\n",
    "\n",
    "```python\n",
    "xdata = source['distance']\n",
    "ydata = source['energy']\n",
    "```\n",
    "\n",
    "Single bokeh scatter plot with histpgrams on both sides, hover tool should show 'input structure, formula, \n",
    "structure_uuid and dictnode uuid', as long as this information is available.\n",
    "\n",
    "```python\n",
    "bokeh_struc_prop_vis(xdata, ydata, src=source, **kwargs)\n",
    "```"
   ]
  },
  {
   "cell_type": "code",
   "execution_count": 80,
   "metadata": {},
   "outputs": [
    {
     "output_type": "execute_result",
     "data": {
      "text/plain": [
       "    dict_uuid force        energy  total_energy  distance_charge  \\\n",
       "0    98265865  None -69268.734001           NaN              NaN   \n",
       "1    1e42c371  None -26430.164420           NaN              NaN   \n",
       "2    07610300  None -26430.178902           NaN              NaN   \n",
       "3    ddf9ee72  None -26430.097504           NaN              NaN   \n",
       "4    acfc924c  None -69269.612046           NaN              NaN   \n",
       "..        ...   ...           ...           ...              ...   \n",
       "283  e6ecbc0f  None -69268.638764           NaN              NaN   \n",
       "284  bba5ea0a  None -26430.091615           NaN              NaN   \n",
       "285  9142422f  None -69269.472305           NaN              NaN   \n",
       "286  984358bd  None -15784.731259           NaN              NaN   \n",
       "287  e77ebc42  None -15784.723533           NaN              NaN   \n",
       "\n",
       "          bandgap workflow_version                parser_info material  \\\n",
       "0    7.221356e-03             None  AiiDA Fleur Parser v0.3.1     None   \n",
       "1    1.638455e-01             None  AiiDA Fleur Parser v0.3.0     None   \n",
       "2    5.601285e-03             None  AiiDA Fleur Parser v0.3.0     None   \n",
       "3    6.200935e-03             None  AiiDA Fleur Parser v0.3.0     None   \n",
       "4    1.832472e-04             None  AiiDA Fleur Parser v0.3.0     None   \n",
       "..            ...              ...                        ...      ...   \n",
       "283  1.464338e-02             None  AiiDA Fleur Parser v0.3.1     None   \n",
       "284  1.140000e-08             None  AiiDA Fleur Parser v0.3.0     None   \n",
       "285  9.668811e-04             None  AiiDA Fleur Parser v0.3.0     None   \n",
       "286  9.299812e-01             None  AiiDA Fleur Parser v0.3.0     None   \n",
       "287  1.094787e+00             None  AiiDA Fleur Parser v0.3.0     None   \n",
       "\n",
       "     fermi_energy structure_uuid  formula  \n",
       "0        0.353498       02e6640d      NaN  \n",
       "1        0.299326       03bc06be      NaN  \n",
       "2        0.292627       04b4e5aa      NaN  \n",
       "3        0.329099       055e8c97      NaN  \n",
       "4        0.379085       09b7450c      NaN  \n",
       "..            ...            ...      ...  \n",
       "283      0.399115       f540a37f      NaN  \n",
       "284      0.334367       f67d62d7      NaN  \n",
       "285      0.359201       f999a276      NaN  \n",
       "286      0.193149       fb3d7bd9      NaN  \n",
       "287      0.177246       fcb8cd9d      NaN  \n",
       "\n",
       "[288 rows x 12 columns]"
      ],
      "text/html": "<div>\n<style scoped>\n    .dataframe tbody tr th:only-of-type {\n        vertical-align: middle;\n    }\n\n    .dataframe tbody tr th {\n        vertical-align: top;\n    }\n\n    .dataframe thead th {\n        text-align: right;\n    }\n</style>\n<table border=\"1\" class=\"dataframe\">\n  <thead>\n    <tr style=\"text-align: right;\">\n      <th></th>\n      <th>dict_uuid</th>\n      <th>force</th>\n      <th>energy</th>\n      <th>total_energy</th>\n      <th>distance_charge</th>\n      <th>bandgap</th>\n      <th>workflow_version</th>\n      <th>parser_info</th>\n      <th>material</th>\n      <th>fermi_energy</th>\n      <th>structure_uuid</th>\n      <th>formula</th>\n    </tr>\n  </thead>\n  <tbody>\n    <tr>\n      <th>0</th>\n      <td>98265865</td>\n      <td>None</td>\n      <td>-69268.734001</td>\n      <td>NaN</td>\n      <td>NaN</td>\n      <td>7.221356e-03</td>\n      <td>None</td>\n      <td>AiiDA Fleur Parser v0.3.1</td>\n      <td>None</td>\n      <td>0.353498</td>\n      <td>02e6640d</td>\n      <td>NaN</td>\n    </tr>\n    <tr>\n      <th>1</th>\n      <td>1e42c371</td>\n      <td>None</td>\n      <td>-26430.164420</td>\n      <td>NaN</td>\n      <td>NaN</td>\n      <td>1.638455e-01</td>\n      <td>None</td>\n      <td>AiiDA Fleur Parser v0.3.0</td>\n      <td>None</td>\n      <td>0.299326</td>\n      <td>03bc06be</td>\n      <td>NaN</td>\n    </tr>\n    <tr>\n      <th>2</th>\n      <td>07610300</td>\n      <td>None</td>\n      <td>-26430.178902</td>\n      <td>NaN</td>\n      <td>NaN</td>\n      <td>5.601285e-03</td>\n      <td>None</td>\n      <td>AiiDA Fleur Parser v0.3.0</td>\n      <td>None</td>\n      <td>0.292627</td>\n      <td>04b4e5aa</td>\n      <td>NaN</td>\n    </tr>\n    <tr>\n      <th>3</th>\n      <td>ddf9ee72</td>\n      <td>None</td>\n      <td>-26430.097504</td>\n      <td>NaN</td>\n      <td>NaN</td>\n      <td>6.200935e-03</td>\n      <td>None</td>\n      <td>AiiDA Fleur Parser v0.3.0</td>\n      <td>None</td>\n      <td>0.329099</td>\n      <td>055e8c97</td>\n      <td>NaN</td>\n    </tr>\n    <tr>\n      <th>4</th>\n      <td>acfc924c</td>\n      <td>None</td>\n      <td>-69269.612046</td>\n      <td>NaN</td>\n      <td>NaN</td>\n      <td>1.832472e-04</td>\n      <td>None</td>\n      <td>AiiDA Fleur Parser v0.3.0</td>\n      <td>None</td>\n      <td>0.379085</td>\n      <td>09b7450c</td>\n      <td>NaN</td>\n    </tr>\n    <tr>\n      <th>...</th>\n      <td>...</td>\n      <td>...</td>\n      <td>...</td>\n      <td>...</td>\n      <td>...</td>\n      <td>...</td>\n      <td>...</td>\n      <td>...</td>\n      <td>...</td>\n      <td>...</td>\n      <td>...</td>\n      <td>...</td>\n    </tr>\n    <tr>\n      <th>283</th>\n      <td>e6ecbc0f</td>\n      <td>None</td>\n      <td>-69268.638764</td>\n      <td>NaN</td>\n      <td>NaN</td>\n      <td>1.464338e-02</td>\n      <td>None</td>\n      <td>AiiDA Fleur Parser v0.3.1</td>\n      <td>None</td>\n      <td>0.399115</td>\n      <td>f540a37f</td>\n      <td>NaN</td>\n    </tr>\n    <tr>\n      <th>284</th>\n      <td>bba5ea0a</td>\n      <td>None</td>\n      <td>-26430.091615</td>\n      <td>NaN</td>\n      <td>NaN</td>\n      <td>1.140000e-08</td>\n      <td>None</td>\n      <td>AiiDA Fleur Parser v0.3.0</td>\n      <td>None</td>\n      <td>0.334367</td>\n      <td>f67d62d7</td>\n      <td>NaN</td>\n    </tr>\n    <tr>\n      <th>285</th>\n      <td>9142422f</td>\n      <td>None</td>\n      <td>-69269.472305</td>\n      <td>NaN</td>\n      <td>NaN</td>\n      <td>9.668811e-04</td>\n      <td>None</td>\n      <td>AiiDA Fleur Parser v0.3.0</td>\n      <td>None</td>\n      <td>0.359201</td>\n      <td>f999a276</td>\n      <td>NaN</td>\n    </tr>\n    <tr>\n      <th>286</th>\n      <td>984358bd</td>\n      <td>None</td>\n      <td>-15784.731259</td>\n      <td>NaN</td>\n      <td>NaN</td>\n      <td>9.299812e-01</td>\n      <td>None</td>\n      <td>AiiDA Fleur Parser v0.3.0</td>\n      <td>None</td>\n      <td>0.193149</td>\n      <td>fb3d7bd9</td>\n      <td>NaN</td>\n    </tr>\n    <tr>\n      <th>287</th>\n      <td>e77ebc42</td>\n      <td>None</td>\n      <td>-15784.723533</td>\n      <td>NaN</td>\n      <td>NaN</td>\n      <td>1.094787e+00</td>\n      <td>None</td>\n      <td>AiiDA Fleur Parser v0.3.0</td>\n      <td>None</td>\n      <td>0.177246</td>\n      <td>fcb8cd9d</td>\n      <td>NaN</td>\n    </tr>\n  </tbody>\n</table>\n<p>288 rows × 12 columns</p>\n</div>"
     },
     "metadata": {},
     "execution_count": 80
    }
   ],
   "source": [
    "from helpers import read_json_file\n",
    "df, xdata, ydata = read_json_file('combined_property.json','energy', 'bandgap')\n",
    "df"
   ]
  },
  {
   "cell_type": "code",
   "execution_count": 83,
   "metadata": {},
   "outputs": [],
   "source": [
    "from helpers import bokeh_struc_prop_vis\n",
    "bokeh_struc_prop_vis('combined_property.json', 'energy', 'bandgap')"
   ]
  },
  {
   "cell_type": "code",
   "execution_count": null,
   "metadata": {},
   "outputs": [],
   "source": []
  },
  {
   "cell_type": "code",
   "execution_count": null,
   "metadata": {},
   "outputs": [],
   "source": []
  }
 ],
 "metadata": {
  "celltoolbar": "Hide code",
  "kernelspec": {
   "name": "python3",
   "display_name": "Python 3",
   "language": "python"
  },
  "language_info": {
   "codemirror_mode": {
    "name": "ipython",
    "version": 3
   },
   "file_extension": ".py",
   "mimetype": "text/x-python",
   "name": "python",
   "nbconvert_exporter": "python",
   "pygments_lexer": "ipython3",
   "version": "3.8.5-final"
  },
  "toc": {
   "colors": {
    "hover_highlight": "#DAA520",
    "navigate_num": "#000000",
    "navigate_text": "#333333",
    "running_highlight": "#FF0000",
    "selected_highlight": "#FFD700",
    "sidebar_border": "#EEEEEE",
    "wrapper_background": "#FFFFFF"
   },
   "moveMenuLeft": true,
   "nav_menu": {
    "height": "12px",
    "width": "252px"
   },
   "navigate_menu": true,
   "number_sections": true,
   "sideBar": true,
   "skip_h1_title": false,
   "threshold": 4,
   "toc_cell": false,
   "toc_section_display": "block",
   "toc_window_display": false,
   "widenNotebook": false
  },
  "varInspector": {
   "cols": {
    "lenName": 16,
    "lenType": 16,
    "lenVar": 40
   },
   "kernels_config": {
    "python": {
     "delete_cmd_postfix": "",
     "delete_cmd_prefix": "del ",
     "library": "var_list.py",
     "varRefreshCmd": "print(var_dic_list())"
    },
    "r": {
     "delete_cmd_postfix": ") ",
     "delete_cmd_prefix": "rm(",
     "library": "var_list.r",
     "varRefreshCmd": "cat(var_dic_list()) "
    }
   },
   "types_to_exclude": [
    "module",
    "function",
    "builtin_function_or_method",
    "instance",
    "_Feature"
   ],
   "window_display": false
  }
 },
 "nbformat": 4,
 "nbformat_minor": 4
}
