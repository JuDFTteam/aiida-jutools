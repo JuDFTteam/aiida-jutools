{
 "cells": [
  {
   "cell_type": "markdown",
   "metadata": {},
   "source": [
    "# Structure Property visualizer"
   ]
  },
  {
   "cell_type": "markdown",
   "metadata": {},
   "source": [
    "This is the second of two deliverables for the SiSc-Lab2020 project.\n",
    "\n",
    "Authors = \n",
    "\n",
    "Supervisors: Dr. Jens Bröder, Dr. Daniel Wortmann, Johannes Wasmer, Prof. Dr. Stefan Blügel."
   ]
  },
  {
   "cell_type": "code",
   "execution_count": null,
   "metadata": {},
   "outputs": [],
   "source": [
    "# Instructions by supervisors\n",
    "a = '''\n",
    "## Jens\n",
    "You have to implement this notebook\n",
    "\n",
    "In the end only Markup text and output results should be seen if one hides the code cells (hide_code extension)\n",
    "\n",
    "That is can easily exported into a nice pdf file.\n",
    "\n",
    "Also the amount of python code in this notebook should be minimal.\n",
    "\n",
    "Rather export the functions you use from a different file.\n",
    "\n",
    "optional dump query results in a file, from which results will be reread for speed, i.e cache results\n",
    "\n",
    "______________\n",
    "\n",
    "An example of what we in the end aim for your find here.\n",
    "\n",
    "https://www.materialscloud.org/discover/mofs#mcloudHeader\n",
    "\n",
    "Clicking at one of the prerendered plots will open an interactive bokeh app.\n",
    "\n",
    "Code for this you find here: https://github.com/materialscloud-org/structure-property-visualizer/blob/master/figure/main.py\n",
    "\n",
    "For you sisc project this is to much, so do not view this as something you have to deliver but something that with the help of your work\n",
    "in this project we will build out of it for our purposes.\n",
    "\n",
    "So do not worry about an app.\n",
    "_________________\n",
    "**Your tasks are as follows:**\n",
    "\n",
    "1. Implement a general interactive bokeh scatter plots with linked histograms (see static version examples/MP_convergence_scf_clean_150_240.png). \n",
    "\n",
    "   We gladly help you with it. (this goes into helpers.py and you import it here for usage). This function should not contain any aiida methods.\n",
    "2. Extract float data you find in certain 'Dict' nodes into a/several pandas object, which will be then the datasource for this notebook. \n",
    "\n",
    "   So this notebook should not directly depend on any aiida methods (beyond load_profile)\n",
    "\n",
    "## Johannes\n",
    "\n",
    "Nothing much to add.\n",
    "\n",
    "I'd just have bonus: if all this works, one could think about some actual data analysis, like clustering analysis or dimension reduction as we learned \n",
    "in Data Analysis & Visualization. For example, do [PCA](https://blog.exploratory.io/an-introduction-to-principal-component-analysis-pca-with-2018-world-soccer-players-data-810d84a14eab) \n",
    "with the quantities magnetic moment, energy, band gap, fermi energy, (structure, core levels). Ie, are some of these quantities (linearly) correlated in a \n",
    "data subset (e.g. all output nodes)? Since the data is already preprocessed mostly, this should be relatively easy, just throw the data into \n",
    "[scikit-learn](https://scikit-learn.org/stable/).\n",
    "'''"
   ]
  },
  {
   "cell_type": "code",
   "execution_count": null,
   "metadata": {},
   "outputs": [],
   "source": [
    "# Imports\n",
    "# magics:\n",
    "# # autoreload imports. \n",
    "# # intent: if i change sth in import, i don't have to restart kernel. enable only for development.\n",
    "%load_ext autoreload\n",
    "%autoreload 2\n",
    "# # choose matplotlib backend. backend 'notebook' allows interactive plots if your env allows it.\n",
    "%matplotlib notebook"
   ]
  },
  {
   "cell_type": "code",
   "execution_count": null,
   "metadata": {},
   "outputs": [],
   "source": [
    "# python imports:\n",
    "from collections import Counter\n",
    "import time\n",
    "import numpy as np\n",
    "import pandas as pd\n",
    "#from pprint import pprint\n",
    "\n",
    "# aiida imports:\n",
    "from aiida import load_profile\n",
    "profile = load_profile()\n",
    "\n",
    "# ggf add further imports\n",
    "# project imports:\n",
    "from aiida_jutools.sisc_lab import helpers\n",
    "#import helpers\n",
    "from bokeh.io import output_notebook"
   ]
  },
  {
   "cell_type": "code",
   "execution_count": null,
   "metadata": {},
   "outputs": [],
   "source": [
    "output_notebook()"
   ]
  },
  {
   "cell_type": "code",
   "execution_count": null,
   "metadata": {},
   "outputs": [],
   "source": [
    "# (example:)\n",
    "helpers.print_bold(f\"This notebook/dashboard will visualize the contents from the database of profile {profile.name}\")"
   ]
  },
  {
   "cell_type": "markdown",
   "metadata": {},
   "source": [
    "# Subastk D2.a: Data acquisition"
   ]
  },
  {
   "cell_type": "markdown",
   "metadata": {},
   "source": [
    "Task: check which output dict nodes returned by workflows, which had `StructureData` nodes as inputs are there in the database.\n",
    "\n",
    "For example, for a successful `FleurScfWorkChain`, there are two return `Dict` nodes, one is linked with\n",
    "`last_fleur_calc_output` and one with `output_scf_wc_para`.\n",
    "\n",
    "If a `StructureData` is an input of such a workflow you can extract the formula, `uuid` and other information you need from the \n",
    "`StructureData` which is always linked into workflows via the link name `structure`.\n",
    "\n",
    "All the user should have to say:\n",
    "```python\n",
    "source = generate_structure_property_pandas_source('<workflow_name>')\n",
    "```\n"
   ]
  },
  {
   "cell_type": "code",
   "execution_count": null,
   "metadata": {},
   "outputs": [],
   "source": [
    "#Find out valid plugin tools\n",
    "# !verdi plugin list aiida.workflows\n",
    "\n",
    "#Have a look at the attributes of dict nodes and sturcture nodes\n",
    "# dict_project=['attributes','uuid']\n",
    "# workflowdictlst = helpers.get_structure_workflow_dict(dict_project=dict_project)\n",
    "#or\n",
    "# structure_project=['uuid', 'extras','attributes']\n",
    "# workflowdictlst = helpers.get_structure_workflow_dict(structure_project=structure_project)"
   ]
  },
  {
   "cell_type": "code",
   "execution_count": null,
   "metadata": {},
   "outputs": [],
   "source": [
    "# workflow_name = 'fleur_scf_wc' # Filter workflow\n",
    "# workflowdictlst = helpers.get_structure_workflow_dict(workflow_filters={'attributes.process_label':workflow_name})\n",
    "#or\n",
    "workflow_name = None # No restriction. Querying by default\n",
    "workflowdictlst = helpers.get_structure_workflow_dict()\n",
    "\n",
    "print(len(workflowdictlst))\n",
    "workflowdictlst[:2]"
   ]
  },
  {
   "cell_type": "code",
   "execution_count": null,
   "metadata": {},
   "outputs": [],
   "source": [
    "# Some dict attributes: force, energy, total_energy, fermi_energy, bandgap, charge_density, distance_charge, \n",
    "#                       workflow_version, parser_info, material,\n",
    "# Remarks:  workflow_version=0.2.2: energy, force\n",
    "#           workflow_version=0.4.2: total_energy, material. \n",
    "#           parser: fermi_energy, bandgap.\n",
    "\n",
    "dict_project=['uuid', 'attributes.force', 'attributes.energy', 'attributes.total_energy', 'attributes.distance_charge',             'attributes.bandgap', 'attributes.workflow_version', 'attributes.parser_info', 'attributes.material',\n",
    "        'attributes.fermi_energy']\n",
    "dictpd = helpers.generate_dict_property_pandas_source(\n",
    "            workflow_name, \n",
    "            dict_project=dict_project, \n",
    "            filename='dict_property.json')\n",
    "dictpd.head(5)"
   ]
  },
  {
   "cell_type": "code",
   "execution_count": null,
   "metadata": {},
   "outputs": [],
   "source": [
    "structure_project=['uuid', 'extras.formula']\n",
    "structurepd = helpers.generate_structure_property_pandas_source(\n",
    "            workflow_name, \n",
    "            structure_project=structure_project,\n",
    "            filename='structure_property.json')\n",
    "structurepd.head(5)"
   ]
  },
  {
   "cell_type": "code",
   "execution_count": null,
   "metadata": {},
   "outputs": [],
   "source": [
    "# Generate the combination of the above\n",
    "combinepd = helpers.generate_combination_property_pandas_source(\n",
    "            workflow_name, \n",
    "            dict_project=dict_project, \n",
    "            structure_project=structure_project,\n",
    "            filename='combined_property.json')\n",
    "combinepd.head(5)"
   ]
  },
  {
   "cell_type": "markdown",
   "metadata": {},
   "source": [
    "# Subtask D2.b: Interactive plot"
   ]
  },
  {
   "cell_type": "markdown",
   "metadata": {},
   "source": [
    "Allow the user to choose, which properties to plot on what axis.\n",
    "\n",
    "```python\n",
    "xdata = source['distance']\n",
    "ydata = source['energy']\n",
    "```\n",
    "\n",
    "Single bokeh scatter plot with histpgrams on both sides, hover tool should show 'input structure, formula, \n",
    "structure_uuid and dictnode uuid', as long as this information is available.\n",
    "\n",
    "```python\n",
    "bokeh_struc_prop_vis(xdata, ydata, src=source, **kwargs)\n",
    "```"
   ]
  },
  {
   "cell_type": "code",
   "execution_count": null,
   "metadata": {},
   "outputs": [],
   "source": [
    "from helpers import read_json_file\n",
    "df, xdata, ydata = read_json_file('combined_property.json','energy', 'bandgap')\n",
    "df"
   ]
  },
  {
   "cell_type": "code",
   "execution_count": null,
   "metadata": {},
   "outputs": [],
   "source": [
    "from helpers import bokeh_struc_prop_vis\n",
    "bokeh_struc_prop_vis('combined_property.json', 'energy', 'bandgap')"
   ]
  }
 ],
 "metadata": {
  "celltoolbar": "Hide code",
  "kernelspec": {
   "display_name": "AiiDA",
   "language": "python",
   "name": "aiida"
  },
  "language_info": {
   "codemirror_mode": {
    "name": "ipython",
    "version": 3
   },
   "file_extension": ".py",
   "mimetype": "text/x-python",
   "name": "python",
   "nbconvert_exporter": "python",
   "pygments_lexer": "ipython3",
   "version": "3.8.5"
  },
  "toc": {
   "colors": {
    "hover_highlight": "#DAA520",
    "navigate_num": "#000000",
    "navigate_text": "#333333",
    "running_highlight": "#FF0000",
    "selected_highlight": "#FFD700",
    "sidebar_border": "#EEEEEE",
    "wrapper_background": "#FFFFFF"
   },
   "moveMenuLeft": true,
   "nav_menu": {
    "height": "12px",
    "width": "252px"
   },
   "navigate_menu": true,
   "number_sections": true,
   "sideBar": true,
   "skip_h1_title": false,
   "threshold": 4,
   "toc_cell": false,
   "toc_section_display": "block",
   "toc_window_display": false,
   "widenNotebook": false
  },
  "varInspector": {
   "cols": {
    "lenName": 16,
    "lenType": 16,
    "lenVar": 40
   },
   "kernels_config": {
    "python": {
     "delete_cmd_postfix": "",
     "delete_cmd_prefix": "del ",
     "library": "var_list.py",
     "varRefreshCmd": "print(var_dic_list())"
    },
    "r": {
     "delete_cmd_postfix": ") ",
     "delete_cmd_prefix": "rm(",
     "library": "var_list.r",
     "varRefreshCmd": "cat(var_dic_list()) "
    }
   },
   "types_to_exclude": [
    "module",
    "function",
    "builtin_function_or_method",
    "instance",
    "_Feature"
   ],
   "window_display": false
  }
 },
 "nbformat": 4,
 "nbformat_minor": 4
}
