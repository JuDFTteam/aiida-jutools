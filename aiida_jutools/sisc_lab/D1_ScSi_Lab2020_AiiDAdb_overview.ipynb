{
 "cells": [
  {
   "cell_type": "markdown",
   "metadata": {},
   "source": [
    "# Statistical birds eye view of the contents in an AiiDAdb"
   ]
  },
  {
   "cell_type": "code",
   "execution_count": null,
   "metadata": {},
   "outputs": [],
   "source": [
    "# This is the first of two deliverable for the SiSc-Lab2020 project\n",
    "# authors = \n",
    "\n",
    "# You have to implement this notebook\n",
    "# In the end only Markup text and output results should be seen if one hides the code cells (hide_code extension)\n",
    "# That is can easily exported into a nice pdf file.\n",
    "# Also the amount of python code in this notebook should be minimal.\n",
    "# Rather export the functions you use from a different file.\n",
    "# optional dump query results in a file, from which results will be reread for speed, i.e cache results"
   ]
  },
  {
   "cell_type": "code",
   "execution_count": null,
   "metadata": {},
   "outputs": [],
   "source": [
    "%load_ext autoreload\n",
    "%autoreload 2\n",
    "%matplotlib notebook"
   ]
  },
  {
   "cell_type": "code",
   "execution_count": null,
   "metadata": {},
   "outputs": [],
   "source": [
    "from aiida import load_profile\n",
    "load_profile()\n",
    "\n",
    "# ggf add futher imports\n",
    "from aiida.orm import QueryBuilder as QB\n",
    "from aiida.orm import Node, User, CalcJobNode, Computer, Code\n",
    "from aiida.plugins import DataFactory\n",
    "\n",
    "from collections import Counter\n",
    "from aiida.common.constants import elements as PeriodicTableElements\n",
    "import time\n",
    "#from pprint import pprint\n"
   ]
  },
  {
   "cell_type": "code",
   "execution_count": null,
   "metadata": {},
   "outputs": [],
   "source": [
    "profile_name = ''\n",
    "print('\\033[1m' + f'This notebook/dashboard will visualize the contents from the database of profile {profile_name}'+ '\\033[1m')"
   ]
  },
  {
   "cell_type": "markdown",
   "metadata": {},
   "source": [
    "## Node information"
   ]
  },
  {
   "cell_type": "code",
   "execution_count": null,
   "metadata": {},
   "outputs": [],
   "source": [
    "now = time.strftime(\"%c\")\n",
    "# TODO: execute query here\n",
    "t = time.time()\n",
    "elapsed = time.time() - t\n",
    "totalnodes = len(res)\n",
    "print(\"Total number of nodes in the database: {} (retrieved in {} s.)\".format(totalnodes, elapsed))"
   ]
  },
  {
   "cell_type": "code",
   "execution_count": null,
   "metadata": {},
   "outputs": [],
   "source": [
    "# TODO print out a list of Users and how many nodes belong to them\n",
    "# for example\n",
    "#Users:\n",
    "#* j.broeder@fz-juelich.de created 182 nodes\n",
    "#* tests@aiida.mail created 104 nodes"
   ]
  },
  {
   "cell_type": "code",
   "execution_count": null,
   "metadata": {},
   "outputs": [],
   "source": [
    "# TODO: plot node information in two pie chart plots\n",
    "# One showing what data nodes there (with their lowest class names(node_type)) I.e Dict, K-pointsData, CifData, FleurinpData...\n",
    "# And one chart showning the process nodes, (with their lowest class names(process_type) i.e CalcjobNodes: FleurCalcjob, FleurinputgenCalcjob, ...\n",
    "# WorkChain nodes: FleurSCFWorkchain, FleurBandDosWorkchain, ..., calcfunctions, and workfunction nodes are fine to not show the lowest class names\n"
   ]
  },
  {
   "cell_type": "code",
   "execution_count": null,
   "metadata": {},
   "outputs": [],
   "source": [
    "# TODO: Cumulative Histogram/ or line plot by ctime & mtime of all nodes over time"
   ]
  },
  {
   "cell_type": "code",
   "execution_count": null,
   "metadata": {},
   "outputs": [],
   "source": [
    "# List Code names, sorted by by how many calcjobs where run with each\n",
    "# List all group names with how many nodes they contain (verdi group list -C) (exclude import and export groups)"
   ]
  },
  {
   "cell_type": "code",
   "execution_count": null,
   "metadata": {},
   "outputs": [],
   "source": [
    "# Further analyze what structures are in the DB\n",
    "\n",
    "# Number of structureData node versus how many atoms they contain. \n",
    "# here interactive with bokeh hover tool showing the structure formula and uuid\n",
    "\n",
    "# Number of StructureData nodes versus elements bokeh bar chart, since there are over \n",
    "# 100 elements in the periodic table you can split it over several plots, or just use the charge number as in \n",
    "# 'example/element_content.png' but then make it interactive that once one hovers \n",
    "# with the mouse over a bar it tells you what element it is and how many structures there are containing this element-"
   ]
  },
  {
   "cell_type": "code",
   "execution_count": null,
   "metadata": {},
   "outputs": [],
   "source": [
    "# more detail analysis of Calculations\n",
    "print('\\n\\nMore detailed analysis of Calculations \\n')\n",
    "# List, stacked Histogram of Calculations types and the state it ended up finished, failed, exit codes, exit messages\n",
    "# more detail analysis of WorkChains\n",
    "print('\\n\\nMore detailed analysis of WorkChains \\n')\n",
    "# List,  stacked Histogram for each Workchain type and the state it ended up in finished, failed, exit codes, exit messages"
   ]
  },
  {
   "cell_type": "code",
   "execution_count": null,
   "metadata": {},
   "outputs": [],
   "source": [
    "# Database and provenance health: display the number of nodes who have no incomming and outgoing links, no incomming links (any number outgoing), and no outgoing links (any number incomming)"
   ]
  }
 ],
 "metadata": {
  "celltoolbar": "Hide code",
  "kernelspec": {
   "display_name": "Python 3",
   "language": "python",
   "name": "python3"
  },
  "language_info": {
   "codemirror_mode": {
    "name": "ipython",
    "version": 3
   },
   "file_extension": ".py",
   "mimetype": "text/x-python",
   "name": "python",
   "nbconvert_exporter": "python",
   "pygments_lexer": "ipython3",
   "version": "3.6.9"
  },
  "toc": {
   "colors": {
    "hover_highlight": "#DAA520",
    "navigate_num": "#000000",
    "navigate_text": "#333333",
    "running_highlight": "#FF0000",
    "selected_highlight": "#FFD700",
    "sidebar_border": "#EEEEEE",
    "wrapper_background": "#FFFFFF"
   },
   "moveMenuLeft": true,
   "nav_menu": {
    "height": "12px",
    "width": "252px"
   },
   "navigate_menu": true,
   "number_sections": true,
   "sideBar": true,
   "skip_h1_title": false,
   "threshold": 4,
   "toc_cell": false,
   "toc_section_display": "block",
   "toc_window_display": false,
   "widenNotebook": false
  },
  "varInspector": {
   "cols": {
    "lenName": 16,
    "lenType": 16,
    "lenVar": 40
   },
   "kernels_config": {
    "python": {
     "delete_cmd_postfix": "",
     "delete_cmd_prefix": "del ",
     "library": "var_list.py",
     "varRefreshCmd": "print(var_dic_list())"
    },
    "r": {
     "delete_cmd_postfix": ") ",
     "delete_cmd_prefix": "rm(",
     "library": "var_list.r",
     "varRefreshCmd": "cat(var_dic_list()) "
    }
   },
   "types_to_exclude": [
    "module",
    "function",
    "builtin_function_or_method",
    "instance",
    "_Feature"
   ],
   "window_display": false
  }
 },
 "nbformat": 4,
 "nbformat_minor": 1
}
