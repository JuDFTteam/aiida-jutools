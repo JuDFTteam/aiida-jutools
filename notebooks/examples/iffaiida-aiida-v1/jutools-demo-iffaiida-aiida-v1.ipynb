{
 "cells": [
  {
   "cell_type": "markdown",
   "id": "de9c61cd-47bd-4f5c-9bad-ac1499d092c8",
   "metadata": {},
   "source": [
    "# AiiDA-JuTools Demo\n",
    "\n",
    "Date: 2022-11-30.\n",
    "\n",
    "Decription: Demo of [AiiDA-JuTools](https://github.com/JuDFTteam/aiida-jutools) for [JuDFTteam](https://github.com/JuDFTteam) AiiDA [hackathon 2022-12-01](https://iffmd.fz-juelich.de/ud8C294VQ5achi2GGj-D9A#). Intended to be run on [iffAiiDA](https://ifflogin.fz-juelich.de/), any AiiDA v1.x image there (for instance, `aiida-stable`, `aiida-develop`). Requires existence of AiiDA computer node `iffslurm` (IFF cluster)."
   ]
  },
  {
   "cell_type": "markdown",
   "id": "6c2b8c11-8972-4297-8d08-5eb6bd2f9e2e",
   "metadata": {
    "tags": []
   },
   "source": [
    "## What is AiiDA-JuTools\n",
    "\n",
    "<!-- ![bla](https://iffgit.fz-juelich.de/phd-project-wasmer/resources/latex-resources/-/raw/main/fig/imp/software_stack/pgi-software-stack.png) -->\n",
    "\n",
    "![bla](../../fig/ias-1-software-stack/ias-1-software-stack.png)\n",
    "\n",
    "**AiiDa-JuTools** is ...\n",
    "\n",
    "* For AiiDA users in general: Make work with AiiDA simpler, faster, more effective.\n",
    "* For AiiDA users at IAS-1: Avoid reinventing the wheel. Share common solutions.\n",
    "* For developers at IAS-1: Share common solutions, for JuDFTteam AiiDA plugins."
   ]
  },
  {
   "cell_type": "markdown",
   "id": "eb163c8a-82db-47b9-8649-08b69df800dd",
   "metadata": {},
   "source": [
    "## AiiDA-JuTools for users"
   ]
  },
  {
   "cell_type": "code",
   "execution_count": 2,
   "id": "099935ed-fb6d-4276-8f28-db50d2e7dd41",
   "metadata": {},
   "outputs": [],
   "source": [
    "from pathlib import Path"
   ]
  },
  {
   "cell_type": "code",
   "execution_count": 3,
   "id": "942abc3c-676c-4916-a014-9d67b4ec896b",
   "metadata": {},
   "outputs": [],
   "source": [
    "working_dir = Path.cwd()"
   ]
  },
  {
   "cell_type": "code",
   "execution_count": 4,
   "id": "b99608d8-91e6-44dd-85c9-51b0241fd77b",
   "metadata": {},
   "outputs": [
    {
     "data": {
      "text/plain": [
       "PosixPath('/Users/wasmer/Desktop/Coding/Python/conda-envs/current/src/aiida-jutools')"
      ]
     },
     "execution_count": 4,
     "metadata": {},
     "output_type": "execute_result"
    }
   ],
   "source": [
    "working_dir.parent.parent.parent"
   ]
  },
  {
   "cell_type": "code",
   "execution_count": 6,
   "id": "e0ca4fe9-ed64-484c-9a31-c56b3b691f75",
   "metadata": {},
   "outputs": [
    {
     "data": {
      "text/plain": [
       "[PosixPath('/Users/wasmer/Desktop/Coding/Python/conda-envs/current/src/aiida-jutools/notebooks/examples/iffaiida-aiida-v1/.ipynb_checkpoints'),\n",
       " PosixPath('/Users/wasmer/Desktop/Coding/Python/conda-envs/current/src/aiida-jutools/notebooks/examples/iffaiida-aiida-v1/jutools-demo-iffaiida-aiida-v1.ipynb')]"
      ]
     },
     "execution_count": 6,
     "metadata": {},
     "output_type": "execute_result"
    }
   ],
   "source": [
    "list(working_dir.iterdir())"
   ]
  },
  {
   "cell_type": "code",
   "execution_count": null,
   "id": "80f3d07a-6c33-4def-b770-053c2384cdf9",
   "metadata": {},
   "outputs": [],
   "source": []
  }
 ],
 "metadata": {
  "kernelspec": {
   "display_name": "AiiDA",
   "language": "python",
   "name": "aiida"
  },
  "language_info": {
   "codemirror_mode": {
    "name": "ipython",
    "version": 3
   },
   "file_extension": ".py",
   "mimetype": "text/x-python",
   "name": "python",
   "nbconvert_exporter": "python",
   "pygments_lexer": "ipython3",
   "version": "3.8.10"
  }
 },
 "nbformat": 4,
 "nbformat_minor": 5
}
