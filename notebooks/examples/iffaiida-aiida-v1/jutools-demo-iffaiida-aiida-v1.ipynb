{
 "cells": [
  {
   "cell_type": "markdown",
   "id": "de9c61cd-47bd-4f5c-9bad-ac1499d092c8",
   "metadata": {},
   "source": [
    "# AiiDA-JuTools Demo\n",
    "\n",
    "Date: 2022-11-30.\n",
    "\n",
    "Decription: Demo of [AiiDA-JuTools](https://github.com/JuDFTteam/aiida-jutools) for [JuDFTteam](https://github.com/JuDFTteam) AiiDA [hackathon 2022-12-01](https://iffmd.fz-juelich.de/ud8C294VQ5achi2GGj-D9A#). Intended to be run on [iffAiiDA](https://ifflogin.fz-juelich.de/), any AiiDA v1.x image there (for instance, `aiida-stable`, `aiida-develop`). Requires existence of AiiDA computer node `iffslurm` (IFF cluster)."
   ]
  },
  {
   "cell_type": "markdown",
   "id": "6c2b8c11-8972-4297-8d08-5eb6bd2f9e2e",
   "metadata": {},
   "source": [
    "## What is AiiDA-JuTools\n",
    "\n",
    "<!-- ![bla](https://iffgit.fz-juelich.de/phd-project-wasmer/resources/latex-resources/-/raw/main/fig/imp/software_stack/pgi-software-stack.png) -->"
   ]
  },
  {
   "cell_type": "code",
   "execution_count": null,
   "id": "0065b8f8-2f8c-4ec8-97f2-0286a00a571f",
   "metadata": {},
   "outputs": [],
   "source": []
  }
 ],
 "metadata": {
  "kernelspec": {
   "display_name": "AiiDA",
   "language": "python",
   "name": "aiida"
  },
  "language_info": {
   "codemirror_mode": {
    "name": "ipython",
    "version": 3
   },
   "file_extension": ".py",
   "mimetype": "text/x-python",
   "name": "python",
   "nbconvert_exporter": "python",
   "pygments_lexer": "ipython3",
   "version": "3.8.10"
  }
 },
 "nbformat": 4,
 "nbformat_minor": 5
}
