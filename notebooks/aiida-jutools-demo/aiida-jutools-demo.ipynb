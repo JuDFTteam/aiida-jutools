{
 "cells": [
  {
   "cell_type": "markdown",
   "id": "de9c61cd-47bd-4f5c-9bad-ac1499d092c8",
   "metadata": {},
   "source": [
    "# AiiDA-JuTools Demo\n",
    "\n",
    "Date: 2022-11-30.\n",
    "\n",
    "Decription: Demo of [AiiDA-JuTools](https://github.com/JuDFTteam/aiida-jutools) for [JuDFTteam](https://github.com/JuDFTteam) AiiDA [hackathon 2022-12-01](https://iffmd.fz-juelich.de/ud8C294VQ5achi2GGj-D9A#). Intended to be run on [iffAiiDA](https://ifflogin.fz-juelich.de/), any AiiDA v1.x image there (for instance, `aiida-stable`, `aiida-develop`). Requires existence of AiiDA computer node `iffslurm` (IFF cluster)."
   ]
  },
  {
   "cell_type": "markdown",
   "id": "9b88599a-bb5d-4641-933e-b756a8beddf3",
   "metadata": {
    "tags": []
   },
   "source": [
    "## Imports & Setup"
   ]
  },
  {
   "cell_type": "code",
   "execution_count": 49,
   "id": "28f0d19a-aff1-4c1b-85d6-5767b14d5be8",
   "metadata": {},
   "outputs": [],
   "source": [
    "AIIDA_PROFILE_NAME = 'wasmer'"
   ]
  },
  {
   "cell_type": "code",
   "execution_count": 42,
   "id": "3976ebb6-889f-4e14-b6bc-693bcbb7af58",
   "metadata": {},
   "outputs": [],
   "source": [
    "from pathlib import Path\n",
    "import os\n",
    "import sys"
   ]
  },
  {
   "cell_type": "code",
   "execution_count": 48,
   "id": "c731c580-6cfe-46dc-aa5d-c51906dfedd4",
   "metadata": {},
   "outputs": [],
   "source": [
    "import aiida\n",
    "from aiida.orm import QueryBuilder, Node"
   ]
  },
  {
   "cell_type": "code",
   "execution_count": 50,
   "id": "0243fedf-4e80-4235-827d-75e675049bb8",
   "metadata": {},
   "outputs": [
    {
     "data": {
      "text/plain": [
       "<aiida.manage.configuration.profile.Profile at 0x7fe46f2247c0>"
      ]
     },
     "execution_count": 50,
     "metadata": {},
     "output_type": "execute_result"
    }
   ],
   "source": [
    "aiida.load_profile(AIIDA_PROFILE_NAME)"
   ]
  },
  {
   "cell_type": "code",
   "execution_count": 40,
   "id": "d14d7c4f-1667-477d-bf8b-c8a3c23d0447",
   "metadata": {},
   "outputs": [],
   "source": [
    "def list_package_modules(package) -> list:\n",
    "    \"\"\"Return list of modules inside an imported Python package.\"\"\"\n",
    "    from types import ModuleType\n",
    "    \n",
    "    if not isinstance(package, ModuleType):\n",
    "        return []\n",
    "    \n",
    "    # reference: https://stackoverflow.com/a/1310912\n",
    "    import os.path, pkgutil\n",
    "    pkgpath = os.path.dirname(package.__file__)\n",
    "    return [name for _, name, _ in pkgutil.iter_modules([pkgpath])]\n",
    "    \n",
    "    # # alternative, list includes __init__.py and such\n",
    "    # return [path for path in os.listdir(os.path.dirname(jutools.__file__))]"
   ]
  },
  {
   "cell_type": "markdown",
   "id": "6c2b8c11-8972-4297-8d08-5eb6bd2f9e2e",
   "metadata": {
    "tags": []
   },
   "source": [
    "## What is AiiDA-JuTools\n",
    "\n",
    "<!-- ![bla](https://iffgit.fz-juelich.de/phd-project-wasmer/resources/latex-resources/-/raw/main/fig/imp/software_stack/pgi-software-stack.png) -->\n",
    "\n",
    "![bla](../../fig/ias-1-software-stack/ias-1-software-stack.png)\n",
    "\n",
    "**AiiDa-JuTools** is ...\n",
    "\n",
    "* For AiiDA users in general: Make work with AiiDA simpler, faster, more effective.\n",
    "* For AiiDA users at IAS-1: Avoid reinventing the wheel. Share common solutions.\n",
    "* For developers at IAS-1: Share common solutions, for JuDFTteam AiiDA plugins."
   ]
  },
  {
   "cell_type": "markdown",
   "id": "eb163c8a-82db-47b9-8649-08b69df800dd",
   "metadata": {},
   "source": [
    "## AiiDA-JuTools for users"
   ]
  },
  {
   "cell_type": "markdown",
   "id": "e1a3cb25-62bc-4982-a138-35928c7a389f",
   "metadata": {
    "tags": []
   },
   "source": [
    "### Getting AiiDA-JuTools\n",
    "\n",
    "Google aiida-jutools, copy installation instruction from the README."
   ]
  },
  {
   "cell_type": "code",
   "execution_count": 12,
   "id": "d1b6044f-4604-479d-83bf-d3e1b5984779",
   "metadata": {},
   "outputs": [
    {
     "name": "stdout",
     "output_type": "stream",
     "text": [
      "Obtaining aiida-jutools from git+https://github.com/JuDFTteam/aiida-jutools@develop#egg=aiida-jutools\n",
      "  Cloning https://github.com/JuDFTteam/aiida-jutools (to revision develop) to /opt/aiida-kernel/src/aiida-jutools\n",
      "  Running command git clone --filter=blob:none --quiet https://github.com/JuDFTteam/aiida-jutools /opt/aiida-kernel/src/aiida-jutools\n",
      "  Running command git checkout -b develop --track origin/develop\n",
      "  Switched to a new branch 'develop'\n",
      "  Branch 'develop' set up to track remote branch 'develop' from 'origin'.\n",
      "  Resolved https://github.com/JuDFTteam/aiida-jutools to commit 1cfc6734a98d55d1c57a22da322d08ee731d8b2d\n",
      "  Preparing metadata (setup.py) ... \u001b[?25ldone\n",
      "\u001b[?25hRequirement already satisfied: aiida-core in /opt/aiida-core (from aiida-jutools) (1.6.8)\n",
      "Requirement already satisfied: masci-tools in /opt/aiida-kernel/lib/python3.8/site-packages (from aiida-jutools) (0.11.3)\n",
      "Requirement already satisfied: aiida-kkr in /opt/aiida-kkr (from aiida-jutools) (1.1.11.post1)\n",
      "Requirement already satisfied: numpy in /opt/aiida-kernel/lib/python3.8/site-packages (from aiida-jutools) (1.18.5)\n",
      "Requirement already satisfied: pycifrw in /opt/aiida-kernel/lib/python3.8/site-packages (from aiida-jutools) (4.4.3)\n",
      "Requirement already satisfied: spglib in /opt/aiida-kernel/lib/python3.8/site-packages (from aiida-jutools) (1.16.5)\n",
      "Requirement already satisfied: pymatgen in /opt/aiida-kernel/lib/python3.8/site-packages (from aiida-jutools) (2021.2.8.1)\n",
      "Requirement already satisfied: pandas in /opt/aiida-kernel/lib/python3.8/site-packages (from aiida-jutools) (1.3.5)\n",
      "Requirement already satisfied: pytz in /opt/aiida-kernel/lib/python3.8/site-packages (from aiida-jutools) (2019.3)\n",
      "Requirement already satisfied: humanfriendly in /opt/aiida-kernel/lib/python3.8/site-packages (from aiida-jutools) (10.0)\n",
      "Requirement already satisfied: aldjemy~=0.9.1 in /opt/aiida-kernel/lib/python3.8/site-packages (from aiida-core->aiida-jutools) (0.9.1)\n",
      "Requirement already satisfied: alembic~=1.2 in /opt/aiida-kernel/lib/python3.8/site-packages (from aiida-core->aiida-jutools) (1.8.1)\n",
      "Requirement already satisfied: archive-path~=0.2.1 in /opt/aiida-kernel/lib/python3.8/site-packages (from aiida-core->aiida-jutools) (0.2.1)\n",
      "Requirement already satisfied: aio-pika~=6.6 in /opt/aiida-kernel/lib/python3.8/site-packages (from aiida-core->aiida-jutools) (6.8.2)\n",
      "Requirement already satisfied: circus~=0.17.1 in /opt/aiida-kernel/lib/python3.8/site-packages (from aiida-core->aiida-jutools) (0.17.1)\n",
      "Requirement already satisfied: click-completion~=0.5.1 in /opt/aiida-kernel/lib/python3.8/site-packages (from aiida-core->aiida-jutools) (0.5.2)\n",
      "Requirement already satisfied: click-config-file~=0.6.0 in /opt/aiida-kernel/lib/python3.8/site-packages (from aiida-core->aiida-jutools) (0.6.0)\n",
      "Requirement already satisfied: click-spinner~=0.1.8 in /opt/aiida-kernel/lib/python3.8/site-packages (from aiida-core->aiida-jutools) (0.1.10)\n",
      "Requirement already satisfied: click~=7.1 in /opt/aiida-kernel/lib/python3.8/site-packages (from aiida-core->aiida-jutools) (7.1.2)\n",
      "Requirement already satisfied: django~=2.2 in /opt/aiida-kernel/lib/python3.8/site-packages (from aiida-core->aiida-jutools) (2.2.28)\n",
      "Requirement already satisfied: ete3~=3.1 in /opt/aiida-kernel/lib/python3.8/site-packages (from aiida-core->aiida-jutools) (3.1.2)\n",
      "Requirement already satisfied: graphviz~=0.13 in /opt/aiida-kernel/lib/python3.8/site-packages (from aiida-core->aiida-jutools) (0.20.1)\n",
      "Requirement already satisfied: ipython~=7.20 in /opt/aiida-kernel/lib/python3.8/site-packages (from aiida-core->aiida-jutools) (7.34.0)\n",
      "Requirement already satisfied: jinja2~=2.10 in /opt/aiida-kernel/lib/python3.8/site-packages (from aiida-core->aiida-jutools) (2.11.3)\n",
      "Requirement already satisfied: jsonschema~=3.0 in /opt/aiida-kernel/lib/python3.8/site-packages (from aiida-core->aiida-jutools) (3.2.0)\n",
      "Requirement already satisfied: kiwipy[rmq]~=0.7.5 in /opt/aiida-kernel/lib/python3.8/site-packages (from aiida-core->aiida-jutools) (0.7.5)\n",
      "Requirement already satisfied: markupsafe<2.1 in /opt/aiida-kernel/lib/python3.8/site-packages (from aiida-core->aiida-jutools) (2.0.1)\n",
      "Requirement already satisfied: pamqp~=2.3 in /opt/aiida-kernel/lib/python3.8/site-packages (from aiida-core->aiida-jutools) (2.3.0)\n",
      "Requirement already satisfied: paramiko>=2.7.2,~=2.7 in /opt/aiida-kernel/lib/python3.8/site-packages (from aiida-core->aiida-jutools) (2.11.0)\n",
      "Requirement already satisfied: plumpy~=0.20.0 in /opt/aiida-kernel/lib/python3.8/site-packages (from aiida-core->aiida-jutools) (0.20.0)\n",
      "Requirement already satisfied: pgsu~=0.2.0 in /opt/aiida-kernel/lib/python3.8/site-packages (from aiida-core->aiida-jutools) (0.2.2)\n",
      "Requirement already satisfied: psutil~=5.6 in /opt/aiida-kernel/lib/python3.8/site-packages (from aiida-core->aiida-jutools) (5.9.1)\n",
      "Requirement already satisfied: psycopg2-binary~=2.8.3 in /opt/aiida-kernel/lib/python3.8/site-packages (from aiida-core->aiida-jutools) (2.8.6)\n",
      "Requirement already satisfied: python-dateutil~=2.8 in /opt/aiida-kernel/lib/python3.8/site-packages (from aiida-core->aiida-jutools) (2.8.2)\n",
      "Requirement already satisfied: pyyaml~=5.4 in /opt/aiida-kernel/lib/python3.8/site-packages (from aiida-core->aiida-jutools) (5.4.1)\n",
      "Requirement already satisfied: reentry~=1.3 in /opt/aiida-kernel/lib/python3.8/site-packages (from aiida-core->aiida-jutools) (1.3.3)\n",
      "Requirement already satisfied: simplejson~=3.16 in /opt/aiida-kernel/lib/python3.8/site-packages (from aiida-core->aiida-jutools) (3.17.6)\n",
      "Requirement already satisfied: sqlalchemy-utils~=0.36.0 in /opt/aiida-kernel/lib/python3.8/site-packages (from aiida-core->aiida-jutools) (0.36.5)\n",
      "Requirement already satisfied: sqlalchemy~=1.3.10 in /opt/aiida-kernel/lib/python3.8/site-packages (from aiida-core->aiida-jutools) (1.3.24)\n",
      "Requirement already satisfied: tabulate~=0.8.5 in /opt/aiida-kernel/lib/python3.8/site-packages (from aiida-core->aiida-jutools) (0.8.10)\n",
      "Requirement already satisfied: tqdm~=4.45 in /opt/aiida-kernel/lib/python3.8/site-packages (from aiida-core->aiida-jutools) (4.64.0)\n",
      "Requirement already satisfied: tzlocal~=2.0 in /opt/aiida-kernel/lib/python3.8/site-packages (from aiida-core->aiida-jutools) (2.1)\n",
      "Requirement already satisfied: upf_to_json~=0.9.2 in /opt/aiida-kernel/lib/python3.8/site-packages (from aiida-core->aiida-jutools) (0.9.5)\n",
      "Requirement already satisfied: wrapt~=1.11.1 in /opt/aiida-kernel/lib/python3.8/site-packages (from aiida-core->aiida-jutools) (1.11.2)\n",
      "Requirement already satisfied: seekpath>=1.9.2 in /opt/aiida-kernel/lib/python3.8/site-packages (from aiida-kkr->aiida-jutools) (1.9.7)\n",
      "Requirement already satisfied: ase in /opt/aiida-kernel/lib/python3.8/site-packages (from aiida-kkr->aiida-jutools) (3.22.1)\n",
      "Requirement already satisfied: seaborn in /opt/aiida-kernel/lib/python3.8/site-packages (from masci-tools->aiida-jutools) (0.11.2)\n",
      "Requirement already satisfied: lxml~=4.8 in /opt/aiida-kernel/lib/python3.8/site-packages (from masci-tools->aiida-jutools) (4.9.1)\n",
      "Requirement already satisfied: h5py in /opt/aiida-kernel/lib/python3.8/site-packages (from masci-tools->aiida-jutools) (3.7.0)\n",
      "Requirement already satisfied: mendeleev in /opt/aiida-kernel/lib/python3.8/site-packages (from masci-tools->aiida-jutools) (0.6.1)\n",
      "Requirement already satisfied: scipy in /opt/aiida-kernel/lib/python3.8/site-packages (from masci-tools->aiida-jutools) (1.8.1)\n",
      "Requirement already satisfied: typing-extensions in /opt/aiida-kernel/lib/python3.8/site-packages (from masci-tools->aiida-jutools) (4.3.0)\n",
      "Requirement already satisfied: more_itertools in /opt/aiida-kernel/lib/python3.8/site-packages (from masci-tools->aiida-jutools) (8.13.0)\n",
      "Requirement already satisfied: matplotlib in /opt/aiida-kernel/lib/python3.8/site-packages (from masci-tools->aiida-jutools) (3.5.2)\n",
      "Requirement already satisfied: deepdiff in /opt/aiida-kernel/lib/python3.8/site-packages (from masci-tools->aiida-jutools) (5.8.1)\n",
      "Requirement already satisfied: ruamel.yaml>=0.15.6 in /opt/aiida-kernel/lib/python3.8/site-packages (from pymatgen->aiida-jutools) (0.17.21)\n",
      "Requirement already satisfied: plotly>=4.5.0 in /opt/aiida-kernel/lib/python3.8/site-packages (from pymatgen->aiida-jutools) (5.9.0)\n",
      "Requirement already satisfied: palettable>=3.1.1 in /opt/aiida-kernel/lib/python3.8/site-packages (from pymatgen->aiida-jutools) (3.3.0)\n",
      "Requirement already satisfied: requests in /opt/aiida-kernel/lib/python3.8/site-packages (from pymatgen->aiida-jutools) (2.28.1)\n",
      "Requirement already satisfied: monty>=3.0.2 in /opt/aiida-kernel/lib/python3.8/site-packages (from pymatgen->aiida-jutools) (2022.4.26)\n",
      "Requirement already satisfied: sympy in /opt/aiida-kernel/lib/python3.8/site-packages (from pymatgen->aiida-jutools) (1.10.1)\n",
      "Requirement already satisfied: networkx>=2.2 in /opt/aiida-kernel/lib/python3.8/site-packages (from pymatgen->aiida-jutools) (2.8.5)\n",
      "Requirement already satisfied: uncertainties>=3.1.4 in /opt/aiida-kernel/lib/python3.8/site-packages (from pymatgen->aiida-jutools) (3.1.7)\n",
      "Requirement already satisfied: yarl in /opt/aiida-kernel/lib/python3.8/site-packages (from aio-pika~=6.6->aiida-core->aiida-jutools) (1.7.2)\n",
      "Requirement already satisfied: aiormq<4,>=3.2.3 in /opt/aiida-kernel/lib/python3.8/site-packages (from aio-pika~=6.6->aiida-core->aiida-jutools) (3.3.1)\n",
      "Requirement already satisfied: importlib-metadata in /opt/aiida-kernel/lib/python3.8/site-packages (from alembic~=1.2->aiida-core->aiida-jutools) (4.12.0)\n",
      "Requirement already satisfied: importlib-resources in /opt/aiida-kernel/lib/python3.8/site-packages (from alembic~=1.2->aiida-core->aiida-jutools) (1.5.0)\n",
      "Requirement already satisfied: Mako in /opt/aiida-kernel/lib/python3.8/site-packages (from alembic~=1.2->aiida-core->aiida-jutools) (1.2.1)\n",
      "Requirement already satisfied: tornado>=5.0.2 in /opt/aiida-kernel/lib/python3.8/site-packages (from circus~=0.17.1->aiida-core->aiida-jutools) (6.2)\n",
      "Requirement already satisfied: pyzmq>=17.0 in /opt/aiida-kernel/lib/python3.8/site-packages (from circus~=0.17.1->aiida-core->aiida-jutools) (23.2.0)\n",
      "Requirement already satisfied: six in /opt/aiida-kernel/lib/python3.8/site-packages (from click-completion~=0.5.1->aiida-core->aiida-jutools) (1.16.0)\n",
      "Requirement already satisfied: shellingham in /opt/aiida-kernel/lib/python3.8/site-packages (from click-completion~=0.5.1->aiida-core->aiida-jutools) (1.4.0)\n",
      "Requirement already satisfied: configobj>=5.0.6 in /opt/aiida-kernel/lib/python3.8/site-packages (from click-config-file~=0.6.0->aiida-core->aiida-jutools) (5.0.6)\n",
      "Requirement already satisfied: sqlparse>=0.2.2 in /opt/aiida-kernel/lib/python3.8/site-packages (from django~=2.2->aiida-core->aiida-jutools) (0.4.2)\n",
      "Requirement already satisfied: pygments in /opt/aiida-kernel/lib/python3.8/site-packages (from ipython~=7.20->aiida-core->aiida-jutools) (2.12.0)\n",
      "Requirement already satisfied: matplotlib-inline in /opt/aiida-kernel/lib/python3.8/site-packages (from ipython~=7.20->aiida-core->aiida-jutools) (0.1.3)\n",
      "Requirement already satisfied: traitlets>=4.2 in /opt/aiida-kernel/lib/python3.8/site-packages (from ipython~=7.20->aiida-core->aiida-jutools) (5.3.0)\n",
      "Requirement already satisfied: decorator in /opt/aiida-kernel/lib/python3.8/site-packages (from ipython~=7.20->aiida-core->aiida-jutools) (5.1.1)\n",
      "Requirement already satisfied: prompt-toolkit!=3.0.0,!=3.0.1,<3.1.0,>=2.0.0 in /opt/aiida-kernel/lib/python3.8/site-packages (from ipython~=7.20->aiida-core->aiida-jutools) (3.0.30)\n",
      "Requirement already satisfied: pickleshare in /opt/aiida-kernel/lib/python3.8/site-packages (from ipython~=7.20->aiida-core->aiida-jutools) (0.7.5)\n",
      "Requirement already satisfied: setuptools>=18.5 in /opt/aiida-kernel/lib/python3.8/site-packages (from ipython~=7.20->aiida-core->aiida-jutools) (63.2.0)\n",
      "Requirement already satisfied: pexpect>4.3 in /opt/aiida-kernel/lib/python3.8/site-packages (from ipython~=7.20->aiida-core->aiida-jutools) (4.8.0)\n",
      "Requirement already satisfied: backcall in /opt/aiida-kernel/lib/python3.8/site-packages (from ipython~=7.20->aiida-core->aiida-jutools) (0.2.0)\n",
      "Requirement already satisfied: jedi>=0.16 in /opt/aiida-kernel/lib/python3.8/site-packages (from ipython~=7.20->aiida-core->aiida-jutools) (0.18.1)\n",
      "Requirement already satisfied: pyrsistent>=0.14.0 in /opt/aiida-kernel/lib/python3.8/site-packages (from jsonschema~=3.0->aiida-core->aiida-jutools) (0.18.1)\n",
      "Requirement already satisfied: attrs>=17.4.0 in /opt/aiida-kernel/lib/python3.8/site-packages (from jsonschema~=3.0->aiida-core->aiida-jutools) (19.3.0)\n",
      "Requirement already satisfied: shortuuid in /opt/aiida-kernel/lib/python3.8/site-packages (from kiwipy[rmq]~=0.7.5->aiida-core->aiida-jutools) (1.0.9)\n",
      "Requirement already satisfied: pytray<0.4.0,>=0.2.2 in /opt/aiida-kernel/lib/python3.8/site-packages (from kiwipy[rmq]~=0.7.5->aiida-core->aiida-jutools) (0.3.2)\n",
      "Requirement already satisfied: deprecation in /opt/aiida-kernel/lib/python3.8/site-packages (from kiwipy[rmq]~=0.7.5->aiida-core->aiida-jutools) (2.1.0)\n",
      "Requirement already satisfied: async-generator in /opt/aiida-kernel/lib/python3.8/site-packages (from kiwipy[rmq]~=0.7.5->aiida-core->aiida-jutools) (1.10)\n",
      "Requirement already satisfied: cycler>=0.10 in /opt/aiida-kernel/lib/python3.8/site-packages (from matplotlib->masci-tools->aiida-jutools) (0.11.0)\n",
      "Requirement already satisfied: kiwisolver>=1.0.1 in /opt/aiida-kernel/lib/python3.8/site-packages (from matplotlib->masci-tools->aiida-jutools) (1.4.4)\n",
      "Requirement already satisfied: pyparsing>=2.2.1 in /opt/aiida-kernel/lib/python3.8/site-packages (from matplotlib->masci-tools->aiida-jutools) (3.0.9)\n",
      "Requirement already satisfied: pillow>=6.2.0 in /opt/aiida-kernel/lib/python3.8/site-packages (from matplotlib->masci-tools->aiida-jutools) (9.2.0)\n",
      "Requirement already satisfied: packaging>=20.0 in /opt/aiida-kernel/lib/python3.8/site-packages (from matplotlib->masci-tools->aiida-jutools) (21.3)\n",
      "Requirement already satisfied: fonttools>=4.22.0 in /opt/aiida-kernel/lib/python3.8/site-packages (from matplotlib->masci-tools->aiida-jutools) (4.34.4)\n",
      "Requirement already satisfied: pynacl>=1.0.1 in /opt/aiida-kernel/lib/python3.8/site-packages (from paramiko>=2.7.2,~=2.7->aiida-core->aiida-jutools) (1.5.0)\n",
      "Requirement already satisfied: cryptography>=2.5 in /opt/aiida-kernel/lib/python3.8/site-packages (from paramiko>=2.7.2,~=2.7->aiida-core->aiida-jutools) (37.0.4)\n",
      "Requirement already satisfied: bcrypt>=3.1.3 in /opt/aiida-kernel/lib/python3.8/site-packages (from paramiko>=2.7.2,~=2.7->aiida-core->aiida-jutools) (3.2.2)\n",
      "Requirement already satisfied: tenacity>=6.2.0 in /opt/aiida-kernel/lib/python3.8/site-packages (from plotly>=4.5.0->pymatgen->aiida-jutools) (8.0.1)\n",
      "Requirement already satisfied: nest-asyncio~=1.4.0 in /opt/aiida-kernel/lib/python3.8/site-packages (from plumpy~=0.20.0->aiida-core->aiida-jutools) (1.4.3)\n",
      "Requirement already satisfied: ruamel.yaml.clib>=0.2.6 in /opt/aiida-kernel/lib/python3.8/site-packages (from ruamel.yaml>=0.15.6->pymatgen->aiida-jutools) (0.2.6)\n",
      "Requirement already satisfied: future>=0.15 in /opt/aiida-kernel/lib/python3.8/site-packages (from seekpath>=1.9.2->aiida-kkr->aiida-jutools) (0.18.2)\n",
      "Requirement already satisfied: ordered-set<4.2.0,>=4.1.0 in /opt/aiida-kernel/lib/python3.8/site-packages (from deepdiff->masci-tools->aiida-jutools) (4.1.0)\n",
      "Requirement already satisfied: colorama in /opt/aiida-kernel/lib/python3.8/site-packages (from mendeleev->masci-tools->aiida-jutools) (0.4.5)\n",
      "Requirement already satisfied: pyfiglet in /opt/aiida-kernel/lib/python3.8/site-packages (from mendeleev->masci-tools->aiida-jutools) (0.8.post1)\n",
      "Requirement already satisfied: charset-normalizer<3,>=2 in /opt/aiida-kernel/lib/python3.8/site-packages (from requests->pymatgen->aiida-jutools) (2.1.0)\n",
      "Requirement already satisfied: certifi>=2017.4.17 in /opt/aiida-kernel/lib/python3.8/site-packages (from requests->pymatgen->aiida-jutools) (2022.6.15)\n",
      "Requirement already satisfied: urllib3<1.27,>=1.21.1 in /opt/aiida-kernel/lib/python3.8/site-packages (from requests->pymatgen->aiida-jutools) (1.26.11)\n",
      "Requirement already satisfied: idna<4,>=2.5 in /opt/aiida-kernel/lib/python3.8/site-packages (from requests->pymatgen->aiida-jutools) (3.3)\n",
      "Requirement already satisfied: mpmath>=0.19 in /opt/aiida-kernel/lib/python3.8/site-packages (from sympy->pymatgen->aiida-jutools) (1.2.1)\n",
      "Requirement already satisfied: cffi>=1.1 in /opt/aiida-kernel/lib/python3.8/site-packages (from bcrypt>=3.1.3->paramiko>=2.7.2,~=2.7->aiida-core->aiida-jutools) (1.15.1)\n",
      "Requirement already satisfied: parso<0.9.0,>=0.8.0 in /opt/aiida-kernel/lib/python3.8/site-packages (from jedi>=0.16->ipython~=7.20->aiida-core->aiida-jutools) (0.8.3)\n",
      "Requirement already satisfied: ptyprocess>=0.5 in /opt/aiida-kernel/lib/python3.8/site-packages (from pexpect>4.3->ipython~=7.20->aiida-core->aiida-jutools) (0.7.0)\n",
      "Requirement already satisfied: wcwidth in /opt/aiida-kernel/lib/python3.8/site-packages (from prompt-toolkit!=3.0.0,!=3.0.1,<3.1.0,>=2.0.0->ipython~=7.20->aiida-core->aiida-jutools) (0.2.5)\n",
      "Requirement already satisfied: zipp>=0.5 in /opt/aiida-kernel/lib/python3.8/site-packages (from importlib-metadata->alembic~=1.2->aiida-core->aiida-jutools) (3.8.1)\n",
      "Requirement already satisfied: multidict>=4.0 in /opt/aiida-kernel/lib/python3.8/site-packages (from yarl->aio-pika~=6.6->aiida-core->aiida-jutools) (6.0.2)\n",
      "Requirement already satisfied: pycparser in /opt/aiida-kernel/lib/python3.8/site-packages (from cffi>=1.1->bcrypt>=3.1.3->paramiko>=2.7.2,~=2.7->aiida-core->aiida-jutools) (2.21)\n",
      "Installing collected packages: aiida-jutools\n",
      "  Running setup.py develop for aiida-jutools\n",
      "Successfully installed aiida-jutools-0.1.0.dev1\n",
      "\n",
      "\u001b[1m[\u001b[0m\u001b[34;49mnotice\u001b[0m\u001b[1;39;49m]\u001b[0m\u001b[39;49m A new release of pip available: \u001b[0m\u001b[31;49m22.2\u001b[0m\u001b[39;49m -> \u001b[0m\u001b[32;49m22.3.1\u001b[0m\n",
      "\u001b[1m[\u001b[0m\u001b[34;49mnotice\u001b[0m\u001b[1;39;49m]\u001b[0m\u001b[39;49m To update, run: \u001b[0m\u001b[32;49mpip install --upgrade pip\u001b[0m\n"
     ]
    }
   ],
   "source": [
    "!pip install -e git+https://github.com/JuDFTteam/aiida-jutools@develop#egg=aiida-jutools"
   ]
  },
  {
   "cell_type": "markdown",
   "id": "91f9dfce-7b13-47ae-a5c1-390544e5f556",
   "metadata": {},
   "source": [
    "Restart notebook kernel for change to take effect.\n",
    "\n",
    "Recommended way to import JuTools."
   ]
  },
  {
   "cell_type": "code",
   "execution_count": 1,
   "id": "235e01e4-1f71-42cf-8bbe-410b52fe8c39",
   "metadata": {},
   "outputs": [],
   "source": [
    "import aiida_jutools as jutools"
   ]
  },
  {
   "cell_type": "markdown",
   "id": "0489b775-5aae-4cde-a899-c6d3e81682b7",
   "metadata": {},
   "source": [
    "### What's in AiiDA-JuTools?"
   ]
  },
  {
   "cell_type": "code",
   "execution_count": 43,
   "id": "0c16ffb9-6d64-4a8f-8b6d-fc3b4b9147df",
   "metadata": {},
   "outputs": [
    {
     "data": {
      "text/plain": [
       "['_dev',\n",
       " 'code',\n",
       " 'computer',\n",
       " 'group',\n",
       " 'io',\n",
       " 'logging',\n",
       " 'meta',\n",
       " 'node',\n",
       " 'plugins',\n",
       " 'process',\n",
       " 'process_functions',\n",
       " 'structure',\n",
       " 'submit']"
      ]
     },
     "execution_count": 43,
     "metadata": {},
     "output_type": "execute_result"
    }
   ],
   "source": [
    "list_package_modules(jutools)"
   ]
  },
  {
   "cell_type": "markdown",
   "id": "b7ab2776-33ac-4d6a-8433-9ae4d61aac2e",
   "metadata": {},
   "source": [
    "Type `jutools`, play around with tab completion on `jutools.`.\n",
    "\n",
    "Time for a walkthrough of the JuTools modules!"
   ]
  },
  {
   "cell_type": "markdown",
   "id": "2bde77c3-842d-444c-89e5-acab6e99faa5",
   "metadata": {},
   "source": [
    "## `.code` & `.computer`"
   ]
  },
  {
   "cell_type": "code",
   "execution_count": 51,
   "id": "fd37595f-9338-4f1c-ad93-1493095265de",
   "metadata": {},
   "outputs": [
    {
     "name": "stdout",
     "output_type": "stream",
     "text": [
      "WARNING: For computer name iff, found several computers ['iffslurm', 'iff734']. Will choose first one.\n",
      "Idle nodes left on computer 'iffslurm': 56\n",
      "WARNING: 'get_code()': Ambiguous codestrings result ['kkrhost_3.5_intel@iffslurm', 'kkrimp_3.5_intel@iffslurm'] while determining appropriate code for specified computer 'iff', computer queue 'th1', code name pattern 'kkr'and determined queue architecture 'intel'. Will choose first one. Resolve ambiguity by more precise code name pattern.\n"
     ]
    },
    {
     "data": {
      "text/plain": [
       "<Code: Remote code 'kkrhost_3.5_intel' on iffslurm, pk: 148, uuid: 2e3a0d2b-6737-40aa-925a-cb1f03444ca4>"
      ]
     },
     "execution_count": 51,
     "metadata": {},
     "output_type": "execute_result"
    }
   ],
   "source": [
    "jutools.code.get_code(computer_name_pattern='iff', code_name_pattern='kkr')"
   ]
  },
  {
   "cell_type": "code",
   "execution_count": 54,
   "id": "faf8ba47-c1c0-4655-8b99-c49980c9fa2e",
   "metadata": {},
   "outputs": [],
   "source": [
    "iffslurm = jutools.computer.get_computers('slurm')[0]"
   ]
  },
  {
   "cell_type": "code",
   "execution_count": 55,
   "id": "cc401179-87f3-4645-ad15-f93135497248",
   "metadata": {},
   "outputs": [
    {
     "name": "stdout",
     "output_type": "stream",
     "text": [
      "Idle nodes left on computer 'iffslurm': 56\n"
     ]
    },
    {
     "data": {
      "text/plain": [
       "[['th1', 24],\n",
       " ['th1-2020-32', 16],\n",
       " ['oscar', 9],\n",
       " ['th1-2020-gpu', 3],\n",
       " ['viti', 2],\n",
       " ['th2-gpu', 2],\n",
       " ['th1-2020-64', 0]]"
      ]
     },
     "execution_count": 55,
     "metadata": {},
     "output_type": "execute_result"
    }
   ],
   "source": [
    "jutools.computer.get_queues(iffslurm)"
   ]
  },
  {
   "cell_type": "code",
   "execution_count": null,
   "id": "494f1df3-e472-4f66-a0e2-3c7a64b0742d",
   "metadata": {},
   "outputs": [],
   "source": []
  }
 ],
 "metadata": {
  "kernelspec": {
   "display_name": "AiiDA",
   "language": "python",
   "name": "aiida"
  },
  "language_info": {
   "codemirror_mode": {
    "name": "ipython",
    "version": 3
   },
   "file_extension": ".py",
   "mimetype": "text/x-python",
   "name": "python",
   "nbconvert_exporter": "python",
   "pygments_lexer": "ipython3",
   "version": "3.8.10"
  }
 },
 "nbformat": 4,
 "nbformat_minor": 5
}
