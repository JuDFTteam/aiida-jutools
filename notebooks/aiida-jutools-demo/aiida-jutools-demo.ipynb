{
 "cells": [
  {
   "cell_type": "markdown",
   "id": "de9c61cd-47bd-4f5c-9bad-ac1499d092c8",
   "metadata": {},
   "source": [
    "# AiiDA-JuTools Demo\n",
    "\n",
    "Date: 2022-11-30.\n",
    "\n",
    "Decription: Demo of [AiiDA-JuTools](https://github.com/JuDFTteam/aiida-jutools) for [JuDFTteam](https://github.com/JuDFTteam) AiiDA [hackathon 2022-12-01](https://iffmd.fz-juelich.de/ud8C294VQ5achi2GGj-D9A#). Intended to be run on [iffAiiDA](https://ifflogin.fz-juelich.de/), any AiiDA v1.x image there (for instance, `aiida-stable`, `aiida-develop`). Requires existence of AiiDA computer node `iffslurm` (IFF cluster)."
   ]
  },
  {
   "cell_type": "markdown",
   "id": "49e5c8b9-4805-48d3-a8d2-055815f4886d",
   "metadata": {
    "tags": []
   },
   "source": [
    "## What is AiiDA-JuTools\n",
    "\n",
    "![IAS-1 Software Stack](img/ias-1-software-stack/ias-1-software-stack.png)\n",
    "\n",
    "**AiiDa-JuTools** is ...\n",
    "\n",
    "* For AiiDA users in general: Make work with AiiDA simpler, faster, more effective.\n",
    "* For AiiDA users at IAS-1: Avoid reinventing the wheel. Share common solutions.\n",
    "* For developers at IAS-1: Share common solutions, for JuDFTteam AiiDA plugins."
   ]
  },
  {
   "cell_type": "markdown",
   "id": "37996c80-1b84-4177-aba8-a5f62bddde46",
   "metadata": {},
   "source": [
    "## Setup notebook for the demo"
   ]
  },
  {
   "cell_type": "markdown",
   "id": "2dd63739-74b8-4b3c-aabe-d13052e610e3",
   "metadata": {},
   "source": [
    "### User-specific constants\n",
    "\n",
    "Adjust if needed."
   ]
  },
  {
   "cell_type": "code",
   "execution_count": 8,
   "id": "28f0d19a-aff1-4c1b-85d6-5767b14d5be8",
   "metadata": {},
   "outputs": [],
   "source": [
    "HOME_DIR = '~/Home/JupyterHub'\n",
    "AIIDA_PROFILE_NAME = 'wasmer'"
   ]
  },
  {
   "cell_type": "markdown",
   "id": "883afac0-1efc-4a4c-8a6a-ec4e98d7b641",
   "metadata": {},
   "source": [
    "### Automatically set constants"
   ]
  },
  {
   "cell_type": "code",
   "execution_count": 30,
   "id": "57d2a343-6ea0-43bb-99a8-e1427bd824ee",
   "metadata": {},
   "outputs": [],
   "source": [
    "# set by the notebook\n",
    "JUTOOLS_REPO_DIR = '' # set dynamically below\n",
    "JUTOOLS_DEMO_SUBDIR = '/notebooks/aiida-jutools-demo'"
   ]
  },
  {
   "cell_type": "markdown",
   "id": "1d187c1b-c356-41ee-a11e-6a21b6c8ec77",
   "metadata": {},
   "source": [
    "### Imports"
   ]
  },
  {
   "cell_type": "code",
   "execution_count": 5,
   "id": "3976ebb6-889f-4e14-b6bc-693bcbb7af58",
   "metadata": {},
   "outputs": [],
   "source": [
    "from pathlib import Path\n",
    "import os\n",
    "import sys\n",
    "import shutil"
   ]
  },
  {
   "cell_type": "code",
   "execution_count": 6,
   "id": "c731c580-6cfe-46dc-aa5d-c51906dfedd4",
   "metadata": {},
   "outputs": [],
   "source": [
    "import aiida\n",
    "from aiida.orm import QueryBuilder, Node"
   ]
  },
  {
   "cell_type": "code",
   "execution_count": 9,
   "id": "0243fedf-4e80-4235-827d-75e675049bb8",
   "metadata": {},
   "outputs": [
    {
     "data": {
      "text/plain": [
       "<aiida.manage.configuration.profile.Profile at 0x7f5a8007b580>"
      ]
     },
     "execution_count": 9,
     "metadata": {},
     "output_type": "execute_result"
    }
   ],
   "source": [
    "aiida.load_profile(AIIDA_PROFILE_NAME)"
   ]
  },
  {
   "cell_type": "markdown",
   "id": "c81df9e6-a991-40b5-a88e-bc3eede9332f",
   "metadata": {},
   "source": [
    "### Demo helper tools"
   ]
  },
  {
   "cell_type": "code",
   "execution_count": 3,
   "id": "54ef95d8-176c-4bef-95ee-555c17f247d9",
   "metadata": {},
   "outputs": [],
   "source": [
    "def get_package_path(package) -> str:\n",
    "    return os.path.dirname(package.__file__)"
   ]
  },
  {
   "cell_type": "code",
   "execution_count": 4,
   "id": "d14d7c4f-1667-477d-bf8b-c8a3c23d0447",
   "metadata": {},
   "outputs": [],
   "source": [
    "def list_package_modules(package) -> list:\n",
    "    \"\"\"Return list of modules inside an imported Python package.\"\"\"\n",
    "    from types import ModuleType\n",
    "    \n",
    "    if not isinstance(package, ModuleType):\n",
    "        return []\n",
    "    \n",
    "    # reference: https://stackoverflow.com/a/1310912\n",
    "    import os.path, pkgutil\n",
    "    pkgpath = get_package_path(package)\n",
    "    return [name for _, name, _ in pkgutil.iter_modules([pkgpath])]\n",
    "    \n",
    "    # # alternative, list includes __init__.py and such\n",
    "    # return [path for path in os.listdir(os.path.dirname(jutools.__file__))]"
   ]
  },
  {
   "cell_type": "markdown",
   "id": "050a551b-5088-4ea1-b2fb-0eb1075f23ed",
   "metadata": {
    "tags": []
   },
   "source": [
    "## Getting AiiDA-JuTools\n",
    "\n",
    "Google aiida-jutools, copy installation instruction from the README."
   ]
  },
  {
   "cell_type": "code",
   "execution_count": 12,
   "id": "d1b6044f-4604-479d-83bf-d3e1b5984779",
   "metadata": {},
   "outputs": [
    {
     "name": "stdout",
     "output_type": "stream",
     "text": [
      "Obtaining aiida-jutools from git+https://github.com/JuDFTteam/aiida-jutools@develop#egg=aiida-jutools\n",
      "  Cloning https://github.com/JuDFTteam/aiida-jutools (to revision develop) to /opt/aiida-kernel/src/aiida-jutools\n",
      "  Running command git clone --filter=blob:none --quiet https://github.com/JuDFTteam/aiida-jutools /opt/aiida-kernel/src/aiida-jutools\n",
      "  Running command git checkout -b develop --track origin/develop\n",
      "  Switched to a new branch 'develop'\n",
      "  Branch 'develop' set up to track remote branch 'develop' from 'origin'.\n",
      "  Resolved https://github.com/JuDFTteam/aiida-jutools to commit 1cfc6734a98d55d1c57a22da322d08ee731d8b2d\n",
      "  Preparing metadata (setup.py) ... \u001b[?25ldone\n",
      "\u001b[?25hRequirement already satisfied: aiida-core in /opt/aiida-core (from aiida-jutools) (1.6.8)\n",
      "Requirement already satisfied: masci-tools in /opt/aiida-kernel/lib/python3.8/site-packages (from aiida-jutools) (0.11.3)\n",
      "Requirement already satisfied: aiida-kkr in /opt/aiida-kkr (from aiida-jutools) (1.1.11.post1)\n",
      "Requirement already satisfied: numpy in /opt/aiida-kernel/lib/python3.8/site-packages (from aiida-jutools) (1.18.5)\n",
      "Requirement already satisfied: pycifrw in /opt/aiida-kernel/lib/python3.8/site-packages (from aiida-jutools) (4.4.3)\n",
      "Requirement already satisfied: spglib in /opt/aiida-kernel/lib/python3.8/site-packages (from aiida-jutools) (1.16.5)\n",
      "Requirement already satisfied: pymatgen in /opt/aiida-kernel/lib/python3.8/site-packages (from aiida-jutools) (2021.2.8.1)\n",
      "Requirement already satisfied: pandas in /opt/aiida-kernel/lib/python3.8/site-packages (from aiida-jutools) (1.3.5)\n",
      "Requirement already satisfied: pytz in /opt/aiida-kernel/lib/python3.8/site-packages (from aiida-jutools) (2019.3)\n",
      "Requirement already satisfied: humanfriendly in /opt/aiida-kernel/lib/python3.8/site-packages (from aiida-jutools) (10.0)\n",
      "Requirement already satisfied: aldjemy~=0.9.1 in /opt/aiida-kernel/lib/python3.8/site-packages (from aiida-core->aiida-jutools) (0.9.1)\n",
      "Requirement already satisfied: alembic~=1.2 in /opt/aiida-kernel/lib/python3.8/site-packages (from aiida-core->aiida-jutools) (1.8.1)\n",
      "Requirement already satisfied: archive-path~=0.2.1 in /opt/aiida-kernel/lib/python3.8/site-packages (from aiida-core->aiida-jutools) (0.2.1)\n",
      "Requirement already satisfied: aio-pika~=6.6 in /opt/aiida-kernel/lib/python3.8/site-packages (from aiida-core->aiida-jutools) (6.8.2)\n",
      "Requirement already satisfied: circus~=0.17.1 in /opt/aiida-kernel/lib/python3.8/site-packages (from aiida-core->aiida-jutools) (0.17.1)\n",
      "Requirement already satisfied: click-completion~=0.5.1 in /opt/aiida-kernel/lib/python3.8/site-packages (from aiida-core->aiida-jutools) (0.5.2)\n",
      "Requirement already satisfied: click-config-file~=0.6.0 in /opt/aiida-kernel/lib/python3.8/site-packages (from aiida-core->aiida-jutools) (0.6.0)\n",
      "Requirement already satisfied: click-spinner~=0.1.8 in /opt/aiida-kernel/lib/python3.8/site-packages (from aiida-core->aiida-jutools) (0.1.10)\n",
      "Requirement already satisfied: click~=7.1 in /opt/aiida-kernel/lib/python3.8/site-packages (from aiida-core->aiida-jutools) (7.1.2)\n",
      "Requirement already satisfied: django~=2.2 in /opt/aiida-kernel/lib/python3.8/site-packages (from aiida-core->aiida-jutools) (2.2.28)\n",
      "Requirement already satisfied: ete3~=3.1 in /opt/aiida-kernel/lib/python3.8/site-packages (from aiida-core->aiida-jutools) (3.1.2)\n",
      "Requirement already satisfied: graphviz~=0.13 in /opt/aiida-kernel/lib/python3.8/site-packages (from aiida-core->aiida-jutools) (0.20.1)\n",
      "Requirement already satisfied: ipython~=7.20 in /opt/aiida-kernel/lib/python3.8/site-packages (from aiida-core->aiida-jutools) (7.34.0)\n",
      "Requirement already satisfied: jinja2~=2.10 in /opt/aiida-kernel/lib/python3.8/site-packages (from aiida-core->aiida-jutools) (2.11.3)\n",
      "Requirement already satisfied: jsonschema~=3.0 in /opt/aiida-kernel/lib/python3.8/site-packages (from aiida-core->aiida-jutools) (3.2.0)\n",
      "Requirement already satisfied: kiwipy[rmq]~=0.7.5 in /opt/aiida-kernel/lib/python3.8/site-packages (from aiida-core->aiida-jutools) (0.7.5)\n",
      "Requirement already satisfied: markupsafe<2.1 in /opt/aiida-kernel/lib/python3.8/site-packages (from aiida-core->aiida-jutools) (2.0.1)\n",
      "Requirement already satisfied: pamqp~=2.3 in /opt/aiida-kernel/lib/python3.8/site-packages (from aiida-core->aiida-jutools) (2.3.0)\n",
      "Requirement already satisfied: paramiko>=2.7.2,~=2.7 in /opt/aiida-kernel/lib/python3.8/site-packages (from aiida-core->aiida-jutools) (2.11.0)\n",
      "Requirement already satisfied: plumpy~=0.20.0 in /opt/aiida-kernel/lib/python3.8/site-packages (from aiida-core->aiida-jutools) (0.20.0)\n",
      "Requirement already satisfied: pgsu~=0.2.0 in /opt/aiida-kernel/lib/python3.8/site-packages (from aiida-core->aiida-jutools) (0.2.2)\n",
      "Requirement already satisfied: psutil~=5.6 in /opt/aiida-kernel/lib/python3.8/site-packages (from aiida-core->aiida-jutools) (5.9.1)\n",
      "Requirement already satisfied: psycopg2-binary~=2.8.3 in /opt/aiida-kernel/lib/python3.8/site-packages (from aiida-core->aiida-jutools) (2.8.6)\n",
      "Requirement already satisfied: python-dateutil~=2.8 in /opt/aiida-kernel/lib/python3.8/site-packages (from aiida-core->aiida-jutools) (2.8.2)\n",
      "Requirement already satisfied: pyyaml~=5.4 in /opt/aiida-kernel/lib/python3.8/site-packages (from aiida-core->aiida-jutools) (5.4.1)\n",
      "Requirement already satisfied: reentry~=1.3 in /opt/aiida-kernel/lib/python3.8/site-packages (from aiida-core->aiida-jutools) (1.3.3)\n",
      "Requirement already satisfied: simplejson~=3.16 in /opt/aiida-kernel/lib/python3.8/site-packages (from aiida-core->aiida-jutools) (3.17.6)\n",
      "Requirement already satisfied: sqlalchemy-utils~=0.36.0 in /opt/aiida-kernel/lib/python3.8/site-packages (from aiida-core->aiida-jutools) (0.36.5)\n",
      "Requirement already satisfied: sqlalchemy~=1.3.10 in /opt/aiida-kernel/lib/python3.8/site-packages (from aiida-core->aiida-jutools) (1.3.24)\n",
      "Requirement already satisfied: tabulate~=0.8.5 in /opt/aiida-kernel/lib/python3.8/site-packages (from aiida-core->aiida-jutools) (0.8.10)\n",
      "Requirement already satisfied: tqdm~=4.45 in /opt/aiida-kernel/lib/python3.8/site-packages (from aiida-core->aiida-jutools) (4.64.0)\n",
      "Requirement already satisfied: tzlocal~=2.0 in /opt/aiida-kernel/lib/python3.8/site-packages (from aiida-core->aiida-jutools) (2.1)\n",
      "Requirement already satisfied: upf_to_json~=0.9.2 in /opt/aiida-kernel/lib/python3.8/site-packages (from aiida-core->aiida-jutools) (0.9.5)\n",
      "Requirement already satisfied: wrapt~=1.11.1 in /opt/aiida-kernel/lib/python3.8/site-packages (from aiida-core->aiida-jutools) (1.11.2)\n",
      "Requirement already satisfied: seekpath>=1.9.2 in /opt/aiida-kernel/lib/python3.8/site-packages (from aiida-kkr->aiida-jutools) (1.9.7)\n",
      "Requirement already satisfied: ase in /opt/aiida-kernel/lib/python3.8/site-packages (from aiida-kkr->aiida-jutools) (3.22.1)\n",
      "Requirement already satisfied: seaborn in /opt/aiida-kernel/lib/python3.8/site-packages (from masci-tools->aiida-jutools) (0.11.2)\n",
      "Requirement already satisfied: lxml~=4.8 in /opt/aiida-kernel/lib/python3.8/site-packages (from masci-tools->aiida-jutools) (4.9.1)\n",
      "Requirement already satisfied: h5py in /opt/aiida-kernel/lib/python3.8/site-packages (from masci-tools->aiida-jutools) (3.7.0)\n",
      "Requirement already satisfied: mendeleev in /opt/aiida-kernel/lib/python3.8/site-packages (from masci-tools->aiida-jutools) (0.6.1)\n",
      "Requirement already satisfied: scipy in /opt/aiida-kernel/lib/python3.8/site-packages (from masci-tools->aiida-jutools) (1.8.1)\n",
      "Requirement already satisfied: typing-extensions in /opt/aiida-kernel/lib/python3.8/site-packages (from masci-tools->aiida-jutools) (4.3.0)\n",
      "Requirement already satisfied: more_itertools in /opt/aiida-kernel/lib/python3.8/site-packages (from masci-tools->aiida-jutools) (8.13.0)\n",
      "Requirement already satisfied: matplotlib in /opt/aiida-kernel/lib/python3.8/site-packages (from masci-tools->aiida-jutools) (3.5.2)\n",
      "Requirement already satisfied: deepdiff in /opt/aiida-kernel/lib/python3.8/site-packages (from masci-tools->aiida-jutools) (5.8.1)\n",
      "Requirement already satisfied: ruamel.yaml>=0.15.6 in /opt/aiida-kernel/lib/python3.8/site-packages (from pymatgen->aiida-jutools) (0.17.21)\n",
      "Requirement already satisfied: plotly>=4.5.0 in /opt/aiida-kernel/lib/python3.8/site-packages (from pymatgen->aiida-jutools) (5.9.0)\n",
      "Requirement already satisfied: palettable>=3.1.1 in /opt/aiida-kernel/lib/python3.8/site-packages (from pymatgen->aiida-jutools) (3.3.0)\n",
      "Requirement already satisfied: requests in /opt/aiida-kernel/lib/python3.8/site-packages (from pymatgen->aiida-jutools) (2.28.1)\n",
      "Requirement already satisfied: monty>=3.0.2 in /opt/aiida-kernel/lib/python3.8/site-packages (from pymatgen->aiida-jutools) (2022.4.26)\n",
      "Requirement already satisfied: sympy in /opt/aiida-kernel/lib/python3.8/site-packages (from pymatgen->aiida-jutools) (1.10.1)\n",
      "Requirement already satisfied: networkx>=2.2 in /opt/aiida-kernel/lib/python3.8/site-packages (from pymatgen->aiida-jutools) (2.8.5)\n",
      "Requirement already satisfied: uncertainties>=3.1.4 in /opt/aiida-kernel/lib/python3.8/site-packages (from pymatgen->aiida-jutools) (3.1.7)\n",
      "Requirement already satisfied: yarl in /opt/aiida-kernel/lib/python3.8/site-packages (from aio-pika~=6.6->aiida-core->aiida-jutools) (1.7.2)\n",
      "Requirement already satisfied: aiormq<4,>=3.2.3 in /opt/aiida-kernel/lib/python3.8/site-packages (from aio-pika~=6.6->aiida-core->aiida-jutools) (3.3.1)\n",
      "Requirement already satisfied: importlib-metadata in /opt/aiida-kernel/lib/python3.8/site-packages (from alembic~=1.2->aiida-core->aiida-jutools) (4.12.0)\n",
      "Requirement already satisfied: importlib-resources in /opt/aiida-kernel/lib/python3.8/site-packages (from alembic~=1.2->aiida-core->aiida-jutools) (1.5.0)\n",
      "Requirement already satisfied: Mako in /opt/aiida-kernel/lib/python3.8/site-packages (from alembic~=1.2->aiida-core->aiida-jutools) (1.2.1)\n",
      "Requirement already satisfied: tornado>=5.0.2 in /opt/aiida-kernel/lib/python3.8/site-packages (from circus~=0.17.1->aiida-core->aiida-jutools) (6.2)\n",
      "Requirement already satisfied: pyzmq>=17.0 in /opt/aiida-kernel/lib/python3.8/site-packages (from circus~=0.17.1->aiida-core->aiida-jutools) (23.2.0)\n",
      "Requirement already satisfied: six in /opt/aiida-kernel/lib/python3.8/site-packages (from click-completion~=0.5.1->aiida-core->aiida-jutools) (1.16.0)\n",
      "Requirement already satisfied: shellingham in /opt/aiida-kernel/lib/python3.8/site-packages (from click-completion~=0.5.1->aiida-core->aiida-jutools) (1.4.0)\n",
      "Requirement already satisfied: configobj>=5.0.6 in /opt/aiida-kernel/lib/python3.8/site-packages (from click-config-file~=0.6.0->aiida-core->aiida-jutools) (5.0.6)\n",
      "Requirement already satisfied: sqlparse>=0.2.2 in /opt/aiida-kernel/lib/python3.8/site-packages (from django~=2.2->aiida-core->aiida-jutools) (0.4.2)\n",
      "Requirement already satisfied: pygments in /opt/aiida-kernel/lib/python3.8/site-packages (from ipython~=7.20->aiida-core->aiida-jutools) (2.12.0)\n",
      "Requirement already satisfied: matplotlib-inline in /opt/aiida-kernel/lib/python3.8/site-packages (from ipython~=7.20->aiida-core->aiida-jutools) (0.1.3)\n",
      "Requirement already satisfied: traitlets>=4.2 in /opt/aiida-kernel/lib/python3.8/site-packages (from ipython~=7.20->aiida-core->aiida-jutools) (5.3.0)\n",
      "Requirement already satisfied: decorator in /opt/aiida-kernel/lib/python3.8/site-packages (from ipython~=7.20->aiida-core->aiida-jutools) (5.1.1)\n",
      "Requirement already satisfied: prompt-toolkit!=3.0.0,!=3.0.1,<3.1.0,>=2.0.0 in /opt/aiida-kernel/lib/python3.8/site-packages (from ipython~=7.20->aiida-core->aiida-jutools) (3.0.30)\n",
      "Requirement already satisfied: pickleshare in /opt/aiida-kernel/lib/python3.8/site-packages (from ipython~=7.20->aiida-core->aiida-jutools) (0.7.5)\n",
      "Requirement already satisfied: setuptools>=18.5 in /opt/aiida-kernel/lib/python3.8/site-packages (from ipython~=7.20->aiida-core->aiida-jutools) (63.2.0)\n",
      "Requirement already satisfied: pexpect>4.3 in /opt/aiida-kernel/lib/python3.8/site-packages (from ipython~=7.20->aiida-core->aiida-jutools) (4.8.0)\n",
      "Requirement already satisfied: backcall in /opt/aiida-kernel/lib/python3.8/site-packages (from ipython~=7.20->aiida-core->aiida-jutools) (0.2.0)\n",
      "Requirement already satisfied: jedi>=0.16 in /opt/aiida-kernel/lib/python3.8/site-packages (from ipython~=7.20->aiida-core->aiida-jutools) (0.18.1)\n",
      "Requirement already satisfied: pyrsistent>=0.14.0 in /opt/aiida-kernel/lib/python3.8/site-packages (from jsonschema~=3.0->aiida-core->aiida-jutools) (0.18.1)\n",
      "Requirement already satisfied: attrs>=17.4.0 in /opt/aiida-kernel/lib/python3.8/site-packages (from jsonschema~=3.0->aiida-core->aiida-jutools) (19.3.0)\n",
      "Requirement already satisfied: shortuuid in /opt/aiida-kernel/lib/python3.8/site-packages (from kiwipy[rmq]~=0.7.5->aiida-core->aiida-jutools) (1.0.9)\n",
      "Requirement already satisfied: pytray<0.4.0,>=0.2.2 in /opt/aiida-kernel/lib/python3.8/site-packages (from kiwipy[rmq]~=0.7.5->aiida-core->aiida-jutools) (0.3.2)\n",
      "Requirement already satisfied: deprecation in /opt/aiida-kernel/lib/python3.8/site-packages (from kiwipy[rmq]~=0.7.5->aiida-core->aiida-jutools) (2.1.0)\n",
      "Requirement already satisfied: async-generator in /opt/aiida-kernel/lib/python3.8/site-packages (from kiwipy[rmq]~=0.7.5->aiida-core->aiida-jutools) (1.10)\n",
      "Requirement already satisfied: cycler>=0.10 in /opt/aiida-kernel/lib/python3.8/site-packages (from matplotlib->masci-tools->aiida-jutools) (0.11.0)\n",
      "Requirement already satisfied: kiwisolver>=1.0.1 in /opt/aiida-kernel/lib/python3.8/site-packages (from matplotlib->masci-tools->aiida-jutools) (1.4.4)\n",
      "Requirement already satisfied: pyparsing>=2.2.1 in /opt/aiida-kernel/lib/python3.8/site-packages (from matplotlib->masci-tools->aiida-jutools) (3.0.9)\n",
      "Requirement already satisfied: pillow>=6.2.0 in /opt/aiida-kernel/lib/python3.8/site-packages (from matplotlib->masci-tools->aiida-jutools) (9.2.0)\n",
      "Requirement already satisfied: packaging>=20.0 in /opt/aiida-kernel/lib/python3.8/site-packages (from matplotlib->masci-tools->aiida-jutools) (21.3)\n",
      "Requirement already satisfied: fonttools>=4.22.0 in /opt/aiida-kernel/lib/python3.8/site-packages (from matplotlib->masci-tools->aiida-jutools) (4.34.4)\n",
      "Requirement already satisfied: pynacl>=1.0.1 in /opt/aiida-kernel/lib/python3.8/site-packages (from paramiko>=2.7.2,~=2.7->aiida-core->aiida-jutools) (1.5.0)\n",
      "Requirement already satisfied: cryptography>=2.5 in /opt/aiida-kernel/lib/python3.8/site-packages (from paramiko>=2.7.2,~=2.7->aiida-core->aiida-jutools) (37.0.4)\n",
      "Requirement already satisfied: bcrypt>=3.1.3 in /opt/aiida-kernel/lib/python3.8/site-packages (from paramiko>=2.7.2,~=2.7->aiida-core->aiida-jutools) (3.2.2)\n",
      "Requirement already satisfied: tenacity>=6.2.0 in /opt/aiida-kernel/lib/python3.8/site-packages (from plotly>=4.5.0->pymatgen->aiida-jutools) (8.0.1)\n",
      "Requirement already satisfied: nest-asyncio~=1.4.0 in /opt/aiida-kernel/lib/python3.8/site-packages (from plumpy~=0.20.0->aiida-core->aiida-jutools) (1.4.3)\n",
      "Requirement already satisfied: ruamel.yaml.clib>=0.2.6 in /opt/aiida-kernel/lib/python3.8/site-packages (from ruamel.yaml>=0.15.6->pymatgen->aiida-jutools) (0.2.6)\n",
      "Requirement already satisfied: future>=0.15 in /opt/aiida-kernel/lib/python3.8/site-packages (from seekpath>=1.9.2->aiida-kkr->aiida-jutools) (0.18.2)\n",
      "Requirement already satisfied: ordered-set<4.2.0,>=4.1.0 in /opt/aiida-kernel/lib/python3.8/site-packages (from deepdiff->masci-tools->aiida-jutools) (4.1.0)\n",
      "Requirement already satisfied: colorama in /opt/aiida-kernel/lib/python3.8/site-packages (from mendeleev->masci-tools->aiida-jutools) (0.4.5)\n",
      "Requirement already satisfied: pyfiglet in /opt/aiida-kernel/lib/python3.8/site-packages (from mendeleev->masci-tools->aiida-jutools) (0.8.post1)\n",
      "Requirement already satisfied: charset-normalizer<3,>=2 in /opt/aiida-kernel/lib/python3.8/site-packages (from requests->pymatgen->aiida-jutools) (2.1.0)\n",
      "Requirement already satisfied: certifi>=2017.4.17 in /opt/aiida-kernel/lib/python3.8/site-packages (from requests->pymatgen->aiida-jutools) (2022.6.15)\n",
      "Requirement already satisfied: urllib3<1.27,>=1.21.1 in /opt/aiida-kernel/lib/python3.8/site-packages (from requests->pymatgen->aiida-jutools) (1.26.11)\n",
      "Requirement already satisfied: idna<4,>=2.5 in /opt/aiida-kernel/lib/python3.8/site-packages (from requests->pymatgen->aiida-jutools) (3.3)\n",
      "Requirement already satisfied: mpmath>=0.19 in /opt/aiida-kernel/lib/python3.8/site-packages (from sympy->pymatgen->aiida-jutools) (1.2.1)\n",
      "Requirement already satisfied: cffi>=1.1 in /opt/aiida-kernel/lib/python3.8/site-packages (from bcrypt>=3.1.3->paramiko>=2.7.2,~=2.7->aiida-core->aiida-jutools) (1.15.1)\n",
      "Requirement already satisfied: parso<0.9.0,>=0.8.0 in /opt/aiida-kernel/lib/python3.8/site-packages (from jedi>=0.16->ipython~=7.20->aiida-core->aiida-jutools) (0.8.3)\n",
      "Requirement already satisfied: ptyprocess>=0.5 in /opt/aiida-kernel/lib/python3.8/site-packages (from pexpect>4.3->ipython~=7.20->aiida-core->aiida-jutools) (0.7.0)\n",
      "Requirement already satisfied: wcwidth in /opt/aiida-kernel/lib/python3.8/site-packages (from prompt-toolkit!=3.0.0,!=3.0.1,<3.1.0,>=2.0.0->ipython~=7.20->aiida-core->aiida-jutools) (0.2.5)\n",
      "Requirement already satisfied: zipp>=0.5 in /opt/aiida-kernel/lib/python3.8/site-packages (from importlib-metadata->alembic~=1.2->aiida-core->aiida-jutools) (3.8.1)\n",
      "Requirement already satisfied: multidict>=4.0 in /opt/aiida-kernel/lib/python3.8/site-packages (from yarl->aio-pika~=6.6->aiida-core->aiida-jutools) (6.0.2)\n",
      "Requirement already satisfied: pycparser in /opt/aiida-kernel/lib/python3.8/site-packages (from cffi>=1.1->bcrypt>=3.1.3->paramiko>=2.7.2,~=2.7->aiida-core->aiida-jutools) (2.21)\n",
      "Installing collected packages: aiida-jutools\n",
      "  Running setup.py develop for aiida-jutools\n",
      "Successfully installed aiida-jutools-0.1.0.dev1\n",
      "\n",
      "\u001b[1m[\u001b[0m\u001b[34;49mnotice\u001b[0m\u001b[1;39;49m]\u001b[0m\u001b[39;49m A new release of pip available: \u001b[0m\u001b[31;49m22.2\u001b[0m\u001b[39;49m -> \u001b[0m\u001b[32;49m22.3.1\u001b[0m\n",
      "\u001b[1m[\u001b[0m\u001b[34;49mnotice\u001b[0m\u001b[1;39;49m]\u001b[0m\u001b[39;49m To update, run: \u001b[0m\u001b[32;49mpip install --upgrade pip\u001b[0m\n"
     ]
    }
   ],
   "source": [
    "!pip install -e git+https://github.com/JuDFTteam/aiida-jutools@develop#egg=aiida-jutools"
   ]
  },
  {
   "cell_type": "markdown",
   "id": "0eece233-bb09-4817-8ca4-36bcc1048fe1",
   "metadata": {},
   "source": [
    "Before proceeding, restart notebook kernel for change to take effect.\n",
    "\n",
    "Recommended way to import JuTools."
   ]
  },
  {
   "cell_type": "code",
   "execution_count": 11,
   "id": "235e01e4-1f71-42cf-8bbe-410b52fe8c39",
   "metadata": {},
   "outputs": [],
   "source": [
    "import aiida_jutools as jutools"
   ]
  },
  {
   "cell_type": "markdown",
   "id": "79dc9350-cd5d-43fa-b638-def9742b1751",
   "metadata": {},
   "source": [
    "Now copy the demo notebook to somehwere where you can open and run it."
   ]
  },
  {
   "cell_type": "code",
   "execution_count": 34,
   "id": "05cb7a1a-a6ef-4bec-952b-0acdd723b24d",
   "metadata": {},
   "outputs": [],
   "source": [
    "JUTOOLS_REPO_DIR = Path(get_package_path(jutools)).parent"
   ]
  },
  {
   "cell_type": "code",
   "execution_count": 37,
   "id": "ff141274-44d4-4864-9ff4-9accd025c3c6",
   "metadata": {},
   "outputs": [],
   "source": [
    "!cp -r {JUTOOLS_REPO_DIR}{JUTOOLS_DEMO_SUBDIR} {HOME_DIR}"
   ]
  },
  {
   "cell_type": "markdown",
   "id": "e42536f9-8bea-4d63-a35a-36f6b2fe84af",
   "metadata": {},
   "source": [
    "Now you are all set up to run this locally on your own AiiDA database."
   ]
  },
  {
   "cell_type": "markdown",
   "id": "0489b775-5aae-4cde-a899-c6d3e81682b7",
   "metadata": {},
   "source": [
    "## What's in AiiDA-JuTools?"
   ]
  },
  {
   "cell_type": "code",
   "execution_count": 43,
   "id": "0c16ffb9-6d64-4a8f-8b6d-fc3b4b9147df",
   "metadata": {},
   "outputs": [
    {
     "data": {
      "text/plain": [
       "['_dev',\n",
       " 'code',\n",
       " 'computer',\n",
       " 'group',\n",
       " 'io',\n",
       " 'logging',\n",
       " 'meta',\n",
       " 'node',\n",
       " 'plugins',\n",
       " 'process',\n",
       " 'process_functions',\n",
       " 'structure',\n",
       " 'submit']"
      ]
     },
     "execution_count": 43,
     "metadata": {},
     "output_type": "execute_result"
    }
   ],
   "source": [
    "list_package_modules(jutools)"
   ]
  },
  {
   "cell_type": "markdown",
   "id": "b7ab2776-33ac-4d6a-8433-9ae4d61aac2e",
   "metadata": {},
   "source": [
    "Type `jutools`, play around with tab completion on `jutools.`.\n",
    "\n",
    "Time for a walkthrough of the JuTools modules!"
   ]
  },
  {
   "cell_type": "markdown",
   "id": "2bde77c3-842d-444c-89e5-acab6e99faa5",
   "metadata": {
    "tags": []
   },
   "source": [
    "## `.code` and `.computer`"
   ]
  },
  {
   "cell_type": "code",
   "execution_count": 43,
   "id": "4ec36cb6-1eb5-4176-a4fe-4c6725d09840",
   "metadata": {},
   "outputs": [
    {
     "data": {
      "text/plain": [
       "[<Computer: iffslurm (iffslurm), pk: 1>,\n",
       " <Computer: claix18 (localhost), pk: 2>,\n",
       " <Computer: localhost (iff734), pk: 3>,\n",
       " <Computer: iff734 (iff734), pk: 4>]"
      ]
     },
     "execution_count": 43,
     "metadata": {},
     "output_type": "execute_result"
    }
   ],
   "source": [
    "jutools.computer.get_computers()"
   ]
  },
  {
   "cell_type": "code",
   "execution_count": 39,
   "id": "faf8ba47-c1c0-4655-8b99-c49980c9fa2e",
   "metadata": {},
   "outputs": [],
   "source": [
    "iffslurm = jutools.computer.get_computers('slurm')[0]"
   ]
  },
  {
   "cell_type": "code",
   "execution_count": 44,
   "id": "6d81b367-c3c2-4a77-8f4d-84a84bab3733",
   "metadata": {},
   "outputs": [
    {
     "data": {
      "text/plain": [
       "(0, 'wasmer\\n', '')"
      ]
     },
     "execution_count": 44,
     "metadata": {},
     "output_type": "execute_result"
    }
   ],
   "source": [
    "jutools.computer.shell_command(iffslurm, \"whoami\")"
   ]
  },
  {
   "cell_type": "code",
   "execution_count": 40,
   "id": "cc401179-87f3-4645-ad15-f93135497248",
   "metadata": {},
   "outputs": [
    {
     "name": "stdout",
     "output_type": "stream",
     "text": [
      "Idle nodes left on computer 'iffslurm': 59\n"
     ]
    },
    {
     "data": {
      "text/plain": [
       "[['th1', 24],\n",
       " ['th1-2020-32', 16],\n",
       " ['oscar', 9],\n",
       " ['th1-2020-gpu', 3],\n",
       " ['th1-2020-64', 3],\n",
       " ['viti', 2],\n",
       " ['th2-gpu', 2]]"
      ]
     },
     "execution_count": 40,
     "metadata": {},
     "output_type": "execute_result"
    }
   ],
   "source": [
    "jutools.computer.get_queues(iffslurm)"
   ]
  },
  {
   "cell_type": "code",
   "execution_count": 41,
   "id": "fd37595f-9338-4f1c-ad93-1493095265de",
   "metadata": {},
   "outputs": [
    {
     "name": "stdout",
     "output_type": "stream",
     "text": [
      "WARNING: For computer name iff, found several computers ['iffslurm', 'iff734']. Will choose first one.\n",
      "Idle nodes left on computer 'iffslurm': 59\n",
      "WARNING: 'get_code()': Ambiguous codestrings result ['kkrhost_3.5_intel@iffslurm', 'kkrimp_3.5_intel@iffslurm'] while determining appropriate code for specified computer 'iff', computer queue 'th1', code name pattern 'kkr'and determined queue architecture 'intel'. Will choose first one. Resolve ambiguity by more precise code name pattern.\n"
     ]
    },
    {
     "data": {
      "text/plain": [
       "<Code: Remote code 'kkrhost_3.5_intel' on iffslurm, pk: 148, uuid: 2e3a0d2b-6737-40aa-925a-cb1f03444ca4>"
      ]
     },
     "execution_count": 41,
     "metadata": {},
     "output_type": "execute_result"
    }
   ],
   "source": [
    "jutools.code.get_code(computer_name_pattern='iff', code_name_pattern='kkr', queue_name='th1')"
   ]
  },
  {
   "cell_type": "code",
   "execution_count": 45,
   "id": "72592197-5ba8-428d-b5ad-97cc115ee5b4",
   "metadata": {},
   "outputs": [
    {
     "name": "stdout",
     "output_type": "stream",
     "text": [
      "Info: ComputerOptionsManager: Call initialize() before use.\n"
     ]
    }
   ],
   "source": [
    "optman = jutools.computer.ComputerOptionsManager()"
   ]
  },
  {
   "cell_type": "code",
   "execution_count": 46,
   "id": "03ea306e-6244-428f-b49e-71f6e2fb40fc",
   "metadata": {},
   "outputs": [
    {
     "name": "stdout",
     "output_type": "stream",
     "text": [
      "Initializing computer options configs: ['localhost', 'iffslurm', 'claix18', 'claix16'].\n",
      "OptionsConfig 'localhost':\n",
      "Loaded computer options groups: ['computer_options/localhost'].\n",
      "Loaded 2, created 0 default computer options nodes. Use get_options() to load or create options nodes.\n",
      "OptionsConfig 'iffslurm':\n",
      "Loaded computer options groups: ['computer_options/iffslurm'].\n",
      "Loaded 8, created 0 default computer options nodes. Use get_options() to load or create options nodes.\n",
      "OptionsConfig 'claix18':\n",
      "Loaded computer options groups: ['computer_options/claix18'].\n",
      "Loaded 1, created 0 default computer options nodes. Use get_options() to load or create options nodes.\n",
      "OptionsConfig 'claix16':\n",
      "Loaded computer options groups: ['computer_options/claix16'].\n",
      "Loaded 1, created 0 default computer options nodes. Use get_options() to load or create options nodes.\n"
     ]
    }
   ],
   "source": [
    "optman.initialize()"
   ]
  },
  {
   "cell_type": "code",
   "execution_count": 47,
   "id": "49a26617-4056-4a25-bc42-2c96cf5261ab",
   "metadata": {},
   "outputs": [
    {
     "data": {
      "text/plain": [
       "[<Computer: iffslurm (iffslurm), pk: 1>]"
      ]
     },
     "execution_count": 47,
     "metadata": {},
     "output_type": "execute_result"
    }
   ],
   "source": [
    "optman.iffslurm.computers"
   ]
  },
  {
   "cell_type": "code",
   "execution_count": 49,
   "id": "a6869757-6508-4126-b5b7-097136fd82cf",
   "metadata": {},
   "outputs": [
    {
     "data": {
      "text/plain": [
       "[<Dict: uuid: 41ea72d7-2376-49d1-9110-b8a762e0ae19 (pk: 26323)>,\n",
       " <Dict: uuid: 10f58ca9-e1ea-4f48-8fd1-605be9df67c9 (pk: 26321)>,\n",
       " <Dict: uuid: 65f510dc-2755-418d-8e24-64b5be574a20 (pk: 26325)>,\n",
       " <Dict: uuid: 095cb3d9-041d-4d1e-bd6f-dd680cc78b00 (pk: 26319)>,\n",
       " <Dict: uuid: 3e4be4a6-60f5-41d2-8c94-ca8226887e87 (pk: 26320)>,\n",
       " <Dict: uuid: 62c8bf6b-ced7-4300-8d1d-4f46142f462a (pk: 26322)>,\n",
       " <Dict: uuid: 791c92e4-be98-4281-b95d-4dc247c5a9e5 (pk: 26318)>,\n",
       " <Dict: uuid: 452a56d2-30f5-435b-bf5d-4a1b73dc54df (pk: 26324)>]"
      ]
     },
     "execution_count": 49,
     "metadata": {},
     "output_type": "execute_result"
    }
   ],
   "source": [
    "optman.iffslurm.options"
   ]
  },
  {
   "cell_type": "code",
   "execution_count": 50,
   "id": "a4313e29-61aa-47f7-a378-9e06ebdd79f0",
   "metadata": {},
   "outputs": [
    {
     "name": "stdout",
     "output_type": "stream",
     "text": [
      "Info: _OptionsConfig 'iffslurm', get_options(): \n",
      "Missing mandatory argument 'queue_name'. Try find matching computer and call get_queues().\n",
      "Try to get computer from config's assigned computers.\n",
      "Try to get computer from name pattern 'iffslurm'.\n",
      "Idle nodes left on computer 'iffslurm': 59\n",
      "Found queue_names '['th1', 'th1-2020-32', 'oscar', 'th1-2020-gpu', 'th1-2020-64', 'viti', 'th2-gpu']'.\n",
      "Did not find specified computer options in config. Create options node and store.\n",
      "Created and stored options  node(s) [<Dict: uuid: f6329f58-cd30-4e33-aed3-c0b0c24061f6 (pk: 26499)>].\n"
     ]
    }
   ],
   "source": [
    "options = optman.iffslurm.get_options(computer_name='iffslurm', queue_name='th1', account='wasmer')"
   ]
  },
  {
   "cell_type": "code",
   "execution_count": 52,
   "id": "3359fa67-0a8b-4cc7-b41d-0c9eb54f1656",
   "metadata": {},
   "outputs": [],
   "source": [
    "options = options[0]"
   ]
  },
  {
   "cell_type": "code",
   "execution_count": 53,
   "id": "75f86583-272d-4668-b482-25cc56ab8f4f",
   "metadata": {},
   "outputs": [
    {
     "data": {
      "text/plain": [
       "{'withmpi': True,\n",
       " 'resources': {'num_machines': 1, 'tot_num_mpiprocs': 12},\n",
       " 'queue_name': 'th1',\n",
       " 'max_wallclock_seconds': 86400,\n",
       " 'custom_scheduler_commands': '#SBATCH --account=wasmer'}"
      ]
     },
     "execution_count": 53,
     "metadata": {},
     "output_type": "execute_result"
    }
   ],
   "source": [
    "options.attributes"
   ]
  },
  {
   "cell_type": "code",
   "execution_count": 55,
   "id": "2707a5fa-09c3-4444-8757-0ad37a2a8443",
   "metadata": {},
   "outputs": [
    {
     "data": {
      "text/plain": [
       "{'options_fields': ['account',\n",
       "  'additional_retrieve_list',\n",
       "  'append_text',\n",
       "  'custom_scheduler_commands',\n",
       "  'environment_variables',\n",
       "  'import_sys_environment',\n",
       "  'input_filename',\n",
       "  'max_memory_kb',\n",
       "  'max_wallclock_seconds',\n",
       "  'mpirun_extra_params',\n",
       "  'output_filename',\n",
       "  'parser_name',\n",
       "  'prepend_text',\n",
       "  'priority',\n",
       "  'qos',\n",
       "  'queue_name',\n",
       "  'resources',\n",
       "  'scheduler_stderr',\n",
       "  'scheduler_stdout',\n",
       "  'stash',\n",
       "  'submit_script_filename',\n",
       "  'withmpi'],\n",
       " 'resources_fields': {'localhost': ['num_machines',\n",
       "   'num_mpiprocs_per_machine',\n",
       "   'num_cores_per_machine',\n",
       "   'num_cores_per_mpiproc',\n",
       "   'tot_num_mpiprocs'],\n",
       "  'iffslurm': ['num_machines',\n",
       "   'num_mpiprocs_per_machine',\n",
       "   'num_cores_per_machine',\n",
       "   'num_cores_per_mpiproc',\n",
       "   'tot_num_mpiprocs'],\n",
       "  'claix18': ['num_machines',\n",
       "   'num_mpiprocs_per_machine',\n",
       "   'num_cores_per_machine',\n",
       "   'num_cores_per_mpiproc',\n",
       "   'tot_num_mpiprocs'],\n",
       "  'claix16': ['num_machines',\n",
       "   'num_mpiprocs_per_machine',\n",
       "   'num_cores_per_machine',\n",
       "   'num_cores_per_mpiproc',\n",
       "   'tot_num_mpiprocs']}}"
      ]
     },
     "execution_count": 55,
     "metadata": {},
     "output_type": "execute_result"
    }
   ],
   "source": [
    "optman.get_help(mode='keywords')"
   ]
  },
  {
   "cell_type": "code",
   "execution_count": 59,
   "id": "fb432bf3-504d-41b4-a505-e211810c4ffc",
   "metadata": {},
   "outputs": [
    {
     "data": {
      "text/plain": [
       "{'custom_scheduler_commands': {'name': 'custom_scheduler_commands',\n",
       "  'required': 'False',\n",
       "  'valid_type': \"<class 'str'>\",\n",
       "  'help': 'Set a (possibly multiline) string with the commands that the user wants to manually set for the scheduler. The difference of this option with respect to the `prepend_text` is the position in the scheduler submission file where such text is inserted: with this option, the string is inserted before any non-scheduler command',\n",
       "  'default': '',\n",
       "  'non_db': 'True'},\n",
       " 'submit_script_filename': {'name': 'submit_script_filename',\n",
       "  'required': 'False',\n",
       "  'valid_type': \"<class 'str'>\",\n",
       "  'help': 'Filename to which the job submission script is written.',\n",
       "  'default': '_aiidasubmit.sh',\n",
       "  'non_db': 'True'}}"
      ]
     },
     "execution_count": 59,
     "metadata": {},
     "output_type": "execute_result"
    }
   ],
   "source": [
    "optman.get_help('descriptions', 'custom_scheduler_commands', 'submit_script_filename')"
   ]
  },
  {
   "cell_type": "markdown",
   "id": "32ffbf82-de65-4bf2-9553-842b362026f0",
   "metadata": {},
   "source": [
    "## `.group` and `.node`"
   ]
  },
  {
   "cell_type": "code",
   "execution_count": null,
   "id": "745d42be-9a1d-46c1-aff6-8797f55bb508",
   "metadata": {},
   "outputs": [],
   "source": []
  },
  {
   "cell_type": "markdown",
   "id": "467bbd8e-e0f9-4c55-b002-b7f82f38fd79",
   "metadata": {},
   "source": [
    "## `.io`"
   ]
  },
  {
   "cell_type": "code",
   "execution_count": null,
   "id": "1fd7fd04-cfc0-4ea3-bf47-0a3a07d1a3fd",
   "metadata": {},
   "outputs": [],
   "source": []
  },
  {
   "cell_type": "markdown",
   "id": "293a0c3b-7170-4e62-8c86-cc7cae152ccb",
   "metadata": {},
   "source": [
    "## `.process` and `.submit`"
   ]
  },
  {
   "cell_type": "code",
   "execution_count": null,
   "id": "e822ff79-c8bc-4aea-8d2e-2370020fe097",
   "metadata": {},
   "outputs": [],
   "source": []
  },
  {
   "cell_type": "markdown",
   "id": "9f19ca62-7e8d-4c2e-a6c7-ae8a6cf8dd06",
   "metadata": {},
   "source": [
    "## Miscellaneous: `.process_functions`, `.plugins`, `.meta`"
   ]
  },
  {
   "cell_type": "code",
   "execution_count": null,
   "id": "03e0f1c1-2995-4e0b-8f52-fb2c22d8bee3",
   "metadata": {},
   "outputs": [],
   "source": []
  }
 ],
 "metadata": {
  "kernelspec": {
   "display_name": "AiiDA",
   "language": "python",
   "name": "aiida"
  },
  "language_info": {
   "codemirror_mode": {
    "name": "ipython",
    "version": 3
   },
   "file_extension": ".py",
   "mimetype": "text/x-python",
   "name": "python",
   "nbconvert_exporter": "python",
   "pygments_lexer": "ipython3",
   "version": "3.8.10"
  }
 },
 "nbformat": 4,
 "nbformat_minor": 5
}
