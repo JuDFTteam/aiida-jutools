{
 "cells": [
  {
   "cell_type": "markdown",
   "id": "de9c61cd-47bd-4f5c-9bad-ac1499d092c8",
   "metadata": {},
   "source": [
    "# AiiDA-JuTools Demo\n",
    "\n",
    "Date: 2022-11-30.\n",
    "\n",
    "Decription: Demo of [AiiDA-JuTools](https://github.com/JuDFTteam/aiida-jutools) for [JuDFTteam](https://github.com/JuDFTteam) AiiDA [hackathon 2022-12-01](https://iffmd.fz-juelich.de/ud8C294VQ5achi2GGj-D9A#). Intended to be run on [iffAiiDA](https://ifflogin.fz-juelich.de/), any AiiDA v1.x image there (for instance, `aiida-stable`, `aiida-develop`). Requires existence of AiiDA computer node `iffslurm` (IFF cluster)."
   ]
  },
  {
   "cell_type": "markdown",
   "id": "49e5c8b9-4805-48d3-a8d2-055815f4886d",
   "metadata": {
    "tags": []
   },
   "source": [
    "## What is AiiDA-JuTools\n",
    "\n",
    "### The marketing version\n",
    "\n",
    "![IAS-1 Software Stack](img/ias-1-software-stack/ias-1-software-stack.png)\n",
    "\n",
    "**AiiDa-JuTools** is ...\n",
    "\n",
    "* For AiiDA users in general: Make work with AiiDA simpler, faster, more effective.\n",
    "* For AiiDA users at IAS-1: Avoid reinventing the wheel. Share common solutions.\n",
    "* For developers at IAS-1: Share common solutions, for JuDFTteam AiiDA plugins.\n",
    "\n",
    "### The JuDFTteam version\n",
    "\n",
    "> *Our common kitchen*\n",
    ">\n",
    "> *\"If I have a mixer, I put it in the kitchen (with the manual!). Then not everyone has buy their own mixer.\"*\n",
    "\n",
    "Contributing: In an iffaiida-image, run `setup-ssh-server` in a terminal. Follow the instructions (needs [SSH key -- based access](https://iffmd.fz-juelich.de/-sZTHayUSFaI7dPdbwEuPg#How-to-add-an-SSH-key-for-remote-access)). Connect your local IDE ([VSCode](https://code.visualstudio.com/docs/remote/remote-overview), [PyCharm Professional](https://www.jetbrains.com/help/pycharm/remote.html), ...) to your iffAiiDA Python environment. Now you can edit the `aiida-jutools` source code and share your own AiiDA JuTools with your colleagues via GitHub. Johannes can help you set this up."
   ]
  },
  {
   "cell_type": "markdown",
   "id": "37996c80-1b84-4177-aba8-a5f62bddde46",
   "metadata": {},
   "source": [
    "## Setup notebook for the demo"
   ]
  },
  {
   "cell_type": "markdown",
   "id": "2dd63739-74b8-4b3c-aabe-d13052e610e3",
   "metadata": {},
   "source": [
    "### User-specific constants\n",
    "\n",
    "Adjust if needed."
   ]
  },
  {
   "cell_type": "code",
   "execution_count": 60,
   "id": "28f0d19a-aff1-4c1b-85d6-5767b14d5be8",
   "metadata": {},
   "outputs": [],
   "source": [
    "HOME_DIR = '~/Home/JupyterHub'\n",
    "AIIDA_PROFILE_NAME = 'default'"
   ]
  },
  {
   "cell_type": "markdown",
   "id": "883afac0-1efc-4a4c-8a6a-ec4e98d7b641",
   "metadata": {},
   "source": [
    "### Automatically set constants"
   ]
  },
  {
   "cell_type": "code",
   "execution_count": 61,
   "id": "57d2a343-6ea0-43bb-99a8-e1427bd824ee",
   "metadata": {},
   "outputs": [],
   "source": [
    "# set by the notebook\n",
    "JUTOOLS_REPO_DIR = '' # set dynamically below\n",
    "JUTOOLS_DEMO_SUBDIR = '/notebooks/aiida-jutools-demo'"
   ]
  },
  {
   "cell_type": "markdown",
   "id": "1d187c1b-c356-41ee-a11e-6a21b6c8ec77",
   "metadata": {},
   "source": [
    "### Imports"
   ]
  },
  {
   "cell_type": "code",
   "execution_count": 62,
   "id": "3976ebb6-889f-4e14-b6bc-693bcbb7af58",
   "metadata": {},
   "outputs": [],
   "source": [
    "from pathlib import Path\n",
    "import os\n",
    "import sys\n",
    "import shutil"
   ]
  },
  {
   "cell_type": "code",
   "execution_count": 75,
   "id": "c731c580-6cfe-46dc-aa5d-c51906dfedd4",
   "metadata": {},
   "outputs": [],
   "source": [
    "import aiida\n",
    "from aiida.orm import QueryBuilder, Node, Group"
   ]
  },
  {
   "cell_type": "code",
   "execution_count": 64,
   "id": "0243fedf-4e80-4235-827d-75e675049bb8",
   "metadata": {},
   "outputs": [
    {
     "data": {
      "text/plain": [
       "<aiida.manage.configuration.profile.Profile at 0x7f5a8007b580>"
      ]
     },
     "execution_count": 64,
     "metadata": {},
     "output_type": "execute_result"
    }
   ],
   "source": [
    "aiida.load_profile(AIIDA_PROFILE_NAME)"
   ]
  },
  {
   "cell_type": "markdown",
   "id": "c81df9e6-a991-40b5-a88e-bc3eede9332f",
   "metadata": {},
   "source": [
    "### Demo helper tools"
   ]
  },
  {
   "cell_type": "code",
   "execution_count": 65,
   "id": "54ef95d8-176c-4bef-95ee-555c17f247d9",
   "metadata": {},
   "outputs": [],
   "source": [
    "def get_package_path(package) -> str:\n",
    "    return os.path.dirname(package.__file__)"
   ]
  },
  {
   "cell_type": "code",
   "execution_count": 66,
   "id": "d14d7c4f-1667-477d-bf8b-c8a3c23d0447",
   "metadata": {},
   "outputs": [],
   "source": [
    "def list_package_modules(package) -> list:\n",
    "    \"\"\"Return list of modules inside an imported Python package.\"\"\"\n",
    "    from types import ModuleType\n",
    "    \n",
    "    if not isinstance(package, ModuleType):\n",
    "        return []\n",
    "    \n",
    "    # reference: https://stackoverflow.com/a/1310912\n",
    "    import os.path, pkgutil\n",
    "    pkgpath = get_package_path(package)\n",
    "    return [name for _, name, _ in pkgutil.iter_modules([pkgpath])]\n",
    "    \n",
    "    # # alternative, list includes __init__.py and such\n",
    "    # return [path for path in os.listdir(os.path.dirname(jutools.__file__))]"
   ]
  },
  {
   "cell_type": "markdown",
   "id": "050a551b-5088-4ea1-b2fb-0eb1075f23ed",
   "metadata": {
    "tags": []
   },
   "source": [
    "## Getting AiiDA-JuTools\n",
    "\n",
    "Google aiida-jutools, copy installation instruction from the README."
   ]
  },
  {
   "cell_type": "code",
   "execution_count": 12,
   "id": "d1b6044f-4604-479d-83bf-d3e1b5984779",
   "metadata": {},
   "outputs": [
    {
     "name": "stdout",
     "output_type": "stream",
     "text": [
      "Obtaining aiida-jutools from git+https://github.com/JuDFTteam/aiida-jutools@develop#egg=aiida-jutools\n",
      "  Cloning https://github.com/JuDFTteam/aiida-jutools (to revision develop) to /opt/aiida-kernel/src/aiida-jutools\n",
      "  Running command git clone --filter=blob:none --quiet https://github.com/JuDFTteam/aiida-jutools /opt/aiida-kernel/src/aiida-jutools\n",
      "  Running command git checkout -b develop --track origin/develop\n",
      "  Switched to a new branch 'develop'\n",
      "  Branch 'develop' set up to track remote branch 'develop' from 'origin'.\n",
      "  Resolved https://github.com/JuDFTteam/aiida-jutools to commit 1cfc6734a98d55d1c57a22da322d08ee731d8b2d\n",
      "  Preparing metadata (setup.py) ... \u001b[?25ldone\n",
      "\u001b[?25hRequirement already satisfied: aiida-core in /opt/aiida-core (from aiida-jutools) (1.6.8)\n",
      "Requirement already satisfied: masci-tools in /opt/aiida-kernel/lib/python3.8/site-packages (from aiida-jutools) (0.11.3)\n",
      "Requirement already satisfied: aiida-kkr in /opt/aiida-kkr (from aiida-jutools) (1.1.11.post1)\n",
      "Requirement already satisfied: numpy in /opt/aiida-kernel/lib/python3.8/site-packages (from aiida-jutools) (1.18.5)\n",
      "Requirement already satisfied: pycifrw in /opt/aiida-kernel/lib/python3.8/site-packages (from aiida-jutools) (4.4.3)\n",
      "Requirement already satisfied: spglib in /opt/aiida-kernel/lib/python3.8/site-packages (from aiida-jutools) (1.16.5)\n",
      "Requirement already satisfied: pymatgen in /opt/aiida-kernel/lib/python3.8/site-packages (from aiida-jutools) (2021.2.8.1)\n",
      "Requirement already satisfied: pandas in /opt/aiida-kernel/lib/python3.8/site-packages (from aiida-jutools) (1.3.5)\n",
      "Requirement already satisfied: pytz in /opt/aiida-kernel/lib/python3.8/site-packages (from aiida-jutools) (2019.3)\n",
      "Requirement already satisfied: humanfriendly in /opt/aiida-kernel/lib/python3.8/site-packages (from aiida-jutools) (10.0)\n",
      "Requirement already satisfied: aldjemy~=0.9.1 in /opt/aiida-kernel/lib/python3.8/site-packages (from aiida-core->aiida-jutools) (0.9.1)\n",
      "Requirement already satisfied: alembic~=1.2 in /opt/aiida-kernel/lib/python3.8/site-packages (from aiida-core->aiida-jutools) (1.8.1)\n",
      "Requirement already satisfied: archive-path~=0.2.1 in /opt/aiida-kernel/lib/python3.8/site-packages (from aiida-core->aiida-jutools) (0.2.1)\n",
      "Requirement already satisfied: aio-pika~=6.6 in /opt/aiida-kernel/lib/python3.8/site-packages (from aiida-core->aiida-jutools) (6.8.2)\n",
      "Requirement already satisfied: circus~=0.17.1 in /opt/aiida-kernel/lib/python3.8/site-packages (from aiida-core->aiida-jutools) (0.17.1)\n",
      "Requirement already satisfied: click-completion~=0.5.1 in /opt/aiida-kernel/lib/python3.8/site-packages (from aiida-core->aiida-jutools) (0.5.2)\n",
      "Requirement already satisfied: click-config-file~=0.6.0 in /opt/aiida-kernel/lib/python3.8/site-packages (from aiida-core->aiida-jutools) (0.6.0)\n",
      "Requirement already satisfied: click-spinner~=0.1.8 in /opt/aiida-kernel/lib/python3.8/site-packages (from aiida-core->aiida-jutools) (0.1.10)\n",
      "Requirement already satisfied: click~=7.1 in /opt/aiida-kernel/lib/python3.8/site-packages (from aiida-core->aiida-jutools) (7.1.2)\n",
      "Requirement already satisfied: django~=2.2 in /opt/aiida-kernel/lib/python3.8/site-packages (from aiida-core->aiida-jutools) (2.2.28)\n",
      "Requirement already satisfied: ete3~=3.1 in /opt/aiida-kernel/lib/python3.8/site-packages (from aiida-core->aiida-jutools) (3.1.2)\n",
      "Requirement already satisfied: graphviz~=0.13 in /opt/aiida-kernel/lib/python3.8/site-packages (from aiida-core->aiida-jutools) (0.20.1)\n",
      "Requirement already satisfied: ipython~=7.20 in /opt/aiida-kernel/lib/python3.8/site-packages (from aiida-core->aiida-jutools) (7.34.0)\n",
      "Requirement already satisfied: jinja2~=2.10 in /opt/aiida-kernel/lib/python3.8/site-packages (from aiida-core->aiida-jutools) (2.11.3)\n",
      "Requirement already satisfied: jsonschema~=3.0 in /opt/aiida-kernel/lib/python3.8/site-packages (from aiida-core->aiida-jutools) (3.2.0)\n",
      "Requirement already satisfied: kiwipy[rmq]~=0.7.5 in /opt/aiida-kernel/lib/python3.8/site-packages (from aiida-core->aiida-jutools) (0.7.5)\n",
      "Requirement already satisfied: markupsafe<2.1 in /opt/aiida-kernel/lib/python3.8/site-packages (from aiida-core->aiida-jutools) (2.0.1)\n",
      "Requirement already satisfied: pamqp~=2.3 in /opt/aiida-kernel/lib/python3.8/site-packages (from aiida-core->aiida-jutools) (2.3.0)\n",
      "Requirement already satisfied: paramiko>=2.7.2,~=2.7 in /opt/aiida-kernel/lib/python3.8/site-packages (from aiida-core->aiida-jutools) (2.11.0)\n",
      "Requirement already satisfied: plumpy~=0.20.0 in /opt/aiida-kernel/lib/python3.8/site-packages (from aiida-core->aiida-jutools) (0.20.0)\n",
      "Requirement already satisfied: pgsu~=0.2.0 in /opt/aiida-kernel/lib/python3.8/site-packages (from aiida-core->aiida-jutools) (0.2.2)\n",
      "Requirement already satisfied: psutil~=5.6 in /opt/aiida-kernel/lib/python3.8/site-packages (from aiida-core->aiida-jutools) (5.9.1)\n",
      "Requirement already satisfied: psycopg2-binary~=2.8.3 in /opt/aiida-kernel/lib/python3.8/site-packages (from aiida-core->aiida-jutools) (2.8.6)\n",
      "Requirement already satisfied: python-dateutil~=2.8 in /opt/aiida-kernel/lib/python3.8/site-packages (from aiida-core->aiida-jutools) (2.8.2)\n",
      "Requirement already satisfied: pyyaml~=5.4 in /opt/aiida-kernel/lib/python3.8/site-packages (from aiida-core->aiida-jutools) (5.4.1)\n",
      "Requirement already satisfied: reentry~=1.3 in /opt/aiida-kernel/lib/python3.8/site-packages (from aiida-core->aiida-jutools) (1.3.3)\n",
      "Requirement already satisfied: simplejson~=3.16 in /opt/aiida-kernel/lib/python3.8/site-packages (from aiida-core->aiida-jutools) (3.17.6)\n",
      "Requirement already satisfied: sqlalchemy-utils~=0.36.0 in /opt/aiida-kernel/lib/python3.8/site-packages (from aiida-core->aiida-jutools) (0.36.5)\n",
      "Requirement already satisfied: sqlalchemy~=1.3.10 in /opt/aiida-kernel/lib/python3.8/site-packages (from aiida-core->aiida-jutools) (1.3.24)\n",
      "Requirement already satisfied: tabulate~=0.8.5 in /opt/aiida-kernel/lib/python3.8/site-packages (from aiida-core->aiida-jutools) (0.8.10)\n",
      "Requirement already satisfied: tqdm~=4.45 in /opt/aiida-kernel/lib/python3.8/site-packages (from aiida-core->aiida-jutools) (4.64.0)\n",
      "Requirement already satisfied: tzlocal~=2.0 in /opt/aiida-kernel/lib/python3.8/site-packages (from aiida-core->aiida-jutools) (2.1)\n",
      "Requirement already satisfied: upf_to_json~=0.9.2 in /opt/aiida-kernel/lib/python3.8/site-packages (from aiida-core->aiida-jutools) (0.9.5)\n",
      "Requirement already satisfied: wrapt~=1.11.1 in /opt/aiida-kernel/lib/python3.8/site-packages (from aiida-core->aiida-jutools) (1.11.2)\n",
      "Requirement already satisfied: seekpath>=1.9.2 in /opt/aiida-kernel/lib/python3.8/site-packages (from aiida-kkr->aiida-jutools) (1.9.7)\n",
      "Requirement already satisfied: ase in /opt/aiida-kernel/lib/python3.8/site-packages (from aiida-kkr->aiida-jutools) (3.22.1)\n",
      "Requirement already satisfied: seaborn in /opt/aiida-kernel/lib/python3.8/site-packages (from masci-tools->aiida-jutools) (0.11.2)\n",
      "Requirement already satisfied: lxml~=4.8 in /opt/aiida-kernel/lib/python3.8/site-packages (from masci-tools->aiida-jutools) (4.9.1)\n",
      "Requirement already satisfied: h5py in /opt/aiida-kernel/lib/python3.8/site-packages (from masci-tools->aiida-jutools) (3.7.0)\n",
      "Requirement already satisfied: mendeleev in /opt/aiida-kernel/lib/python3.8/site-packages (from masci-tools->aiida-jutools) (0.6.1)\n",
      "Requirement already satisfied: scipy in /opt/aiida-kernel/lib/python3.8/site-packages (from masci-tools->aiida-jutools) (1.8.1)\n",
      "Requirement already satisfied: typing-extensions in /opt/aiida-kernel/lib/python3.8/site-packages (from masci-tools->aiida-jutools) (4.3.0)\n",
      "Requirement already satisfied: more_itertools in /opt/aiida-kernel/lib/python3.8/site-packages (from masci-tools->aiida-jutools) (8.13.0)\n",
      "Requirement already satisfied: matplotlib in /opt/aiida-kernel/lib/python3.8/site-packages (from masci-tools->aiida-jutools) (3.5.2)\n",
      "Requirement already satisfied: deepdiff in /opt/aiida-kernel/lib/python3.8/site-packages (from masci-tools->aiida-jutools) (5.8.1)\n",
      "Requirement already satisfied: ruamel.yaml>=0.15.6 in /opt/aiida-kernel/lib/python3.8/site-packages (from pymatgen->aiida-jutools) (0.17.21)\n",
      "Requirement already satisfied: plotly>=4.5.0 in /opt/aiida-kernel/lib/python3.8/site-packages (from pymatgen->aiida-jutools) (5.9.0)\n",
      "Requirement already satisfied: palettable>=3.1.1 in /opt/aiida-kernel/lib/python3.8/site-packages (from pymatgen->aiida-jutools) (3.3.0)\n",
      "Requirement already satisfied: requests in /opt/aiida-kernel/lib/python3.8/site-packages (from pymatgen->aiida-jutools) (2.28.1)\n",
      "Requirement already satisfied: monty>=3.0.2 in /opt/aiida-kernel/lib/python3.8/site-packages (from pymatgen->aiida-jutools) (2022.4.26)\n",
      "Requirement already satisfied: sympy in /opt/aiida-kernel/lib/python3.8/site-packages (from pymatgen->aiida-jutools) (1.10.1)\n",
      "Requirement already satisfied: networkx>=2.2 in /opt/aiida-kernel/lib/python3.8/site-packages (from pymatgen->aiida-jutools) (2.8.5)\n",
      "Requirement already satisfied: uncertainties>=3.1.4 in /opt/aiida-kernel/lib/python3.8/site-packages (from pymatgen->aiida-jutools) (3.1.7)\n",
      "Requirement already satisfied: yarl in /opt/aiida-kernel/lib/python3.8/site-packages (from aio-pika~=6.6->aiida-core->aiida-jutools) (1.7.2)\n",
      "Requirement already satisfied: aiormq<4,>=3.2.3 in /opt/aiida-kernel/lib/python3.8/site-packages (from aio-pika~=6.6->aiida-core->aiida-jutools) (3.3.1)\n",
      "Requirement already satisfied: importlib-metadata in /opt/aiida-kernel/lib/python3.8/site-packages (from alembic~=1.2->aiida-core->aiida-jutools) (4.12.0)\n",
      "Requirement already satisfied: importlib-resources in /opt/aiida-kernel/lib/python3.8/site-packages (from alembic~=1.2->aiida-core->aiida-jutools) (1.5.0)\n",
      "Requirement already satisfied: Mako in /opt/aiida-kernel/lib/python3.8/site-packages (from alembic~=1.2->aiida-core->aiida-jutools) (1.2.1)\n",
      "Requirement already satisfied: tornado>=5.0.2 in /opt/aiida-kernel/lib/python3.8/site-packages (from circus~=0.17.1->aiida-core->aiida-jutools) (6.2)\n",
      "Requirement already satisfied: pyzmq>=17.0 in /opt/aiida-kernel/lib/python3.8/site-packages (from circus~=0.17.1->aiida-core->aiida-jutools) (23.2.0)\n",
      "Requirement already satisfied: six in /opt/aiida-kernel/lib/python3.8/site-packages (from click-completion~=0.5.1->aiida-core->aiida-jutools) (1.16.0)\n",
      "Requirement already satisfied: shellingham in /opt/aiida-kernel/lib/python3.8/site-packages (from click-completion~=0.5.1->aiida-core->aiida-jutools) (1.4.0)\n",
      "Requirement already satisfied: configobj>=5.0.6 in /opt/aiida-kernel/lib/python3.8/site-packages (from click-config-file~=0.6.0->aiida-core->aiida-jutools) (5.0.6)\n",
      "Requirement already satisfied: sqlparse>=0.2.2 in /opt/aiida-kernel/lib/python3.8/site-packages (from django~=2.2->aiida-core->aiida-jutools) (0.4.2)\n",
      "Requirement already satisfied: pygments in /opt/aiida-kernel/lib/python3.8/site-packages (from ipython~=7.20->aiida-core->aiida-jutools) (2.12.0)\n",
      "Requirement already satisfied: matplotlib-inline in /opt/aiida-kernel/lib/python3.8/site-packages (from ipython~=7.20->aiida-core->aiida-jutools) (0.1.3)\n",
      "Requirement already satisfied: traitlets>=4.2 in /opt/aiida-kernel/lib/python3.8/site-packages (from ipython~=7.20->aiida-core->aiida-jutools) (5.3.0)\n",
      "Requirement already satisfied: decorator in /opt/aiida-kernel/lib/python3.8/site-packages (from ipython~=7.20->aiida-core->aiida-jutools) (5.1.1)\n",
      "Requirement already satisfied: prompt-toolkit!=3.0.0,!=3.0.1,<3.1.0,>=2.0.0 in /opt/aiida-kernel/lib/python3.8/site-packages (from ipython~=7.20->aiida-core->aiida-jutools) (3.0.30)\n",
      "Requirement already satisfied: pickleshare in /opt/aiida-kernel/lib/python3.8/site-packages (from ipython~=7.20->aiida-core->aiida-jutools) (0.7.5)\n",
      "Requirement already satisfied: setuptools>=18.5 in /opt/aiida-kernel/lib/python3.8/site-packages (from ipython~=7.20->aiida-core->aiida-jutools) (63.2.0)\n",
      "Requirement already satisfied: pexpect>4.3 in /opt/aiida-kernel/lib/python3.8/site-packages (from ipython~=7.20->aiida-core->aiida-jutools) (4.8.0)\n",
      "Requirement already satisfied: backcall in /opt/aiida-kernel/lib/python3.8/site-packages (from ipython~=7.20->aiida-core->aiida-jutools) (0.2.0)\n",
      "Requirement already satisfied: jedi>=0.16 in /opt/aiida-kernel/lib/python3.8/site-packages (from ipython~=7.20->aiida-core->aiida-jutools) (0.18.1)\n",
      "Requirement already satisfied: pyrsistent>=0.14.0 in /opt/aiida-kernel/lib/python3.8/site-packages (from jsonschema~=3.0->aiida-core->aiida-jutools) (0.18.1)\n",
      "Requirement already satisfied: attrs>=17.4.0 in /opt/aiida-kernel/lib/python3.8/site-packages (from jsonschema~=3.0->aiida-core->aiida-jutools) (19.3.0)\n",
      "Requirement already satisfied: shortuuid in /opt/aiida-kernel/lib/python3.8/site-packages (from kiwipy[rmq]~=0.7.5->aiida-core->aiida-jutools) (1.0.9)\n",
      "Requirement already satisfied: pytray<0.4.0,>=0.2.2 in /opt/aiida-kernel/lib/python3.8/site-packages (from kiwipy[rmq]~=0.7.5->aiida-core->aiida-jutools) (0.3.2)\n",
      "Requirement already satisfied: deprecation in /opt/aiida-kernel/lib/python3.8/site-packages (from kiwipy[rmq]~=0.7.5->aiida-core->aiida-jutools) (2.1.0)\n",
      "Requirement already satisfied: async-generator in /opt/aiida-kernel/lib/python3.8/site-packages (from kiwipy[rmq]~=0.7.5->aiida-core->aiida-jutools) (1.10)\n",
      "Requirement already satisfied: cycler>=0.10 in /opt/aiida-kernel/lib/python3.8/site-packages (from matplotlib->masci-tools->aiida-jutools) (0.11.0)\n",
      "Requirement already satisfied: kiwisolver>=1.0.1 in /opt/aiida-kernel/lib/python3.8/site-packages (from matplotlib->masci-tools->aiida-jutools) (1.4.4)\n",
      "Requirement already satisfied: pyparsing>=2.2.1 in /opt/aiida-kernel/lib/python3.8/site-packages (from matplotlib->masci-tools->aiida-jutools) (3.0.9)\n",
      "Requirement already satisfied: pillow>=6.2.0 in /opt/aiida-kernel/lib/python3.8/site-packages (from matplotlib->masci-tools->aiida-jutools) (9.2.0)\n",
      "Requirement already satisfied: packaging>=20.0 in /opt/aiida-kernel/lib/python3.8/site-packages (from matplotlib->masci-tools->aiida-jutools) (21.3)\n",
      "Requirement already satisfied: fonttools>=4.22.0 in /opt/aiida-kernel/lib/python3.8/site-packages (from matplotlib->masci-tools->aiida-jutools) (4.34.4)\n",
      "Requirement already satisfied: pynacl>=1.0.1 in /opt/aiida-kernel/lib/python3.8/site-packages (from paramiko>=2.7.2,~=2.7->aiida-core->aiida-jutools) (1.5.0)\n",
      "Requirement already satisfied: cryptography>=2.5 in /opt/aiida-kernel/lib/python3.8/site-packages (from paramiko>=2.7.2,~=2.7->aiida-core->aiida-jutools) (37.0.4)\n",
      "Requirement already satisfied: bcrypt>=3.1.3 in /opt/aiida-kernel/lib/python3.8/site-packages (from paramiko>=2.7.2,~=2.7->aiida-core->aiida-jutools) (3.2.2)\n",
      "Requirement already satisfied: tenacity>=6.2.0 in /opt/aiida-kernel/lib/python3.8/site-packages (from plotly>=4.5.0->pymatgen->aiida-jutools) (8.0.1)\n",
      "Requirement already satisfied: nest-asyncio~=1.4.0 in /opt/aiida-kernel/lib/python3.8/site-packages (from plumpy~=0.20.0->aiida-core->aiida-jutools) (1.4.3)\n",
      "Requirement already satisfied: ruamel.yaml.clib>=0.2.6 in /opt/aiida-kernel/lib/python3.8/site-packages (from ruamel.yaml>=0.15.6->pymatgen->aiida-jutools) (0.2.6)\n",
      "Requirement already satisfied: future>=0.15 in /opt/aiida-kernel/lib/python3.8/site-packages (from seekpath>=1.9.2->aiida-kkr->aiida-jutools) (0.18.2)\n",
      "Requirement already satisfied: ordered-set<4.2.0,>=4.1.0 in /opt/aiida-kernel/lib/python3.8/site-packages (from deepdiff->masci-tools->aiida-jutools) (4.1.0)\n",
      "Requirement already satisfied: colorama in /opt/aiida-kernel/lib/python3.8/site-packages (from mendeleev->masci-tools->aiida-jutools) (0.4.5)\n",
      "Requirement already satisfied: pyfiglet in /opt/aiida-kernel/lib/python3.8/site-packages (from mendeleev->masci-tools->aiida-jutools) (0.8.post1)\n",
      "Requirement already satisfied: charset-normalizer<3,>=2 in /opt/aiida-kernel/lib/python3.8/site-packages (from requests->pymatgen->aiida-jutools) (2.1.0)\n",
      "Requirement already satisfied: certifi>=2017.4.17 in /opt/aiida-kernel/lib/python3.8/site-packages (from requests->pymatgen->aiida-jutools) (2022.6.15)\n",
      "Requirement already satisfied: urllib3<1.27,>=1.21.1 in /opt/aiida-kernel/lib/python3.8/site-packages (from requests->pymatgen->aiida-jutools) (1.26.11)\n",
      "Requirement already satisfied: idna<4,>=2.5 in /opt/aiida-kernel/lib/python3.8/site-packages (from requests->pymatgen->aiida-jutools) (3.3)\n",
      "Requirement already satisfied: mpmath>=0.19 in /opt/aiida-kernel/lib/python3.8/site-packages (from sympy->pymatgen->aiida-jutools) (1.2.1)\n",
      "Requirement already satisfied: cffi>=1.1 in /opt/aiida-kernel/lib/python3.8/site-packages (from bcrypt>=3.1.3->paramiko>=2.7.2,~=2.7->aiida-core->aiida-jutools) (1.15.1)\n",
      "Requirement already satisfied: parso<0.9.0,>=0.8.0 in /opt/aiida-kernel/lib/python3.8/site-packages (from jedi>=0.16->ipython~=7.20->aiida-core->aiida-jutools) (0.8.3)\n",
      "Requirement already satisfied: ptyprocess>=0.5 in /opt/aiida-kernel/lib/python3.8/site-packages (from pexpect>4.3->ipython~=7.20->aiida-core->aiida-jutools) (0.7.0)\n",
      "Requirement already satisfied: wcwidth in /opt/aiida-kernel/lib/python3.8/site-packages (from prompt-toolkit!=3.0.0,!=3.0.1,<3.1.0,>=2.0.0->ipython~=7.20->aiida-core->aiida-jutools) (0.2.5)\n",
      "Requirement already satisfied: zipp>=0.5 in /opt/aiida-kernel/lib/python3.8/site-packages (from importlib-metadata->alembic~=1.2->aiida-core->aiida-jutools) (3.8.1)\n",
      "Requirement already satisfied: multidict>=4.0 in /opt/aiida-kernel/lib/python3.8/site-packages (from yarl->aio-pika~=6.6->aiida-core->aiida-jutools) (6.0.2)\n",
      "Requirement already satisfied: pycparser in /opt/aiida-kernel/lib/python3.8/site-packages (from cffi>=1.1->bcrypt>=3.1.3->paramiko>=2.7.2,~=2.7->aiida-core->aiida-jutools) (2.21)\n",
      "Installing collected packages: aiida-jutools\n",
      "  Running setup.py develop for aiida-jutools\n",
      "Successfully installed aiida-jutools-0.1.0.dev1\n",
      "\n",
      "\u001b[1m[\u001b[0m\u001b[34;49mnotice\u001b[0m\u001b[1;39;49m]\u001b[0m\u001b[39;49m A new release of pip available: \u001b[0m\u001b[31;49m22.2\u001b[0m\u001b[39;49m -> \u001b[0m\u001b[32;49m22.3.1\u001b[0m\n",
      "\u001b[1m[\u001b[0m\u001b[34;49mnotice\u001b[0m\u001b[1;39;49m]\u001b[0m\u001b[39;49m To update, run: \u001b[0m\u001b[32;49mpip install --upgrade pip\u001b[0m\n"
     ]
    }
   ],
   "source": [
    "!pip install -e git+https://github.com/JuDFTteam/aiida-jutools@develop#egg=aiida-jutools"
   ]
  },
  {
   "cell_type": "markdown",
   "id": "0eece233-bb09-4817-8ca4-36bcc1048fe1",
   "metadata": {},
   "source": [
    "Before proceeding, restart notebook kernel for change to take effect.\n",
    "\n",
    "Recommended way to import JuTools."
   ]
  },
  {
   "cell_type": "code",
   "execution_count": 67,
   "id": "235e01e4-1f71-42cf-8bbe-410b52fe8c39",
   "metadata": {},
   "outputs": [],
   "source": [
    "import aiida_jutools as jutools"
   ]
  },
  {
   "cell_type": "markdown",
   "id": "79dc9350-cd5d-43fa-b638-def9742b1751",
   "metadata": {},
   "source": [
    "Now copy the demo notebook to somehwere where you can open and run it."
   ]
  },
  {
   "cell_type": "code",
   "execution_count": 68,
   "id": "05cb7a1a-a6ef-4bec-952b-0acdd723b24d",
   "metadata": {},
   "outputs": [],
   "source": [
    "JUTOOLS_REPO_DIR = Path(get_package_path(jutools)).parent"
   ]
  },
  {
   "cell_type": "code",
   "execution_count": 71,
   "id": "ff141274-44d4-4864-9ff4-9accd025c3c6",
   "metadata": {},
   "outputs": [
    {
     "name": "stdout",
     "output_type": "stream",
     "text": [
      "cp -r /opt/aiida-kernel/src/aiida-jutools/notebooks/aiida-jutools-demo ~/Home/JupyterHub\n"
     ]
    }
   ],
   "source": [
    "!echo \"cp -r {JUTOOLS_REPO_DIR}{JUTOOLS_DEMO_SUBDIR} {HOME_DIR}\""
   ]
  },
  {
   "cell_type": "code",
   "execution_count": null,
   "id": "1bb416cc-426c-4103-91be-56b3ecdd8e18",
   "metadata": {},
   "outputs": [],
   "source": [
    "!cp -r {JUTOOLS_REPO_DIR}{JUTOOLS_DEMO_SUBDIR} {HOME_DIR}"
   ]
  },
  {
   "cell_type": "markdown",
   "id": "e42536f9-8bea-4d63-a35a-36f6b2fe84af",
   "metadata": {},
   "source": [
    "Open the notebook. You are all set up to run this demo locally on your own AiiDA database."
   ]
  },
  {
   "cell_type": "markdown",
   "id": "0489b775-5aae-4cde-a899-c6d3e81682b7",
   "metadata": {},
   "source": [
    "## What's in AiiDA-JuTools?"
   ]
  },
  {
   "cell_type": "code",
   "execution_count": 72,
   "id": "0c16ffb9-6d64-4a8f-8b6d-fc3b4b9147df",
   "metadata": {},
   "outputs": [
    {
     "data": {
      "text/plain": [
       "['_dev',\n",
       " 'code',\n",
       " 'computer',\n",
       " 'group',\n",
       " 'io',\n",
       " 'logging',\n",
       " 'meta',\n",
       " 'node',\n",
       " 'plugins',\n",
       " 'process',\n",
       " 'process_functions',\n",
       " 'structure',\n",
       " 'submit']"
      ]
     },
     "execution_count": 72,
     "metadata": {},
     "output_type": "execute_result"
    }
   ],
   "source": [
    "list_package_modules(jutools)"
   ]
  },
  {
   "cell_type": "markdown",
   "id": "b7ab2776-33ac-4d6a-8433-9ae4d61aac2e",
   "metadata": {},
   "source": [
    "Type `jutools`, play around with tab completion on `jutools.`. All tools are available and documented through this import.\n",
    "\n",
    "Time for a walkthrough of the JuTools modules!"
   ]
  },
  {
   "cell_type": "markdown",
   "id": "2bde77c3-842d-444c-89e5-acab6e99faa5",
   "metadata": {
    "tags": []
   },
   "source": [
    "## `.code` and `.computer`"
   ]
  },
  {
   "cell_type": "code",
   "execution_count": 43,
   "id": "4ec36cb6-1eb5-4176-a4fe-4c6725d09840",
   "metadata": {},
   "outputs": [
    {
     "data": {
      "text/plain": [
       "[<Computer: iffslurm (iffslurm), pk: 1>,\n",
       " <Computer: claix18 (localhost), pk: 2>,\n",
       " <Computer: localhost (iff734), pk: 3>,\n",
       " <Computer: iff734 (iff734), pk: 4>]"
      ]
     },
     "execution_count": 43,
     "metadata": {},
     "output_type": "execute_result"
    }
   ],
   "source": [
    "jutools.computer.get_computers()"
   ]
  },
  {
   "cell_type": "code",
   "execution_count": 39,
   "id": "faf8ba47-c1c0-4655-8b99-c49980c9fa2e",
   "metadata": {},
   "outputs": [],
   "source": [
    "iffslurm = jutools.computer.get_computers('slurm')[0]"
   ]
  },
  {
   "cell_type": "code",
   "execution_count": 44,
   "id": "6d81b367-c3c2-4a77-8f4d-84a84bab3733",
   "metadata": {},
   "outputs": [
    {
     "data": {
      "text/plain": [
       "(0, 'wasmer\\n', '')"
      ]
     },
     "execution_count": 44,
     "metadata": {},
     "output_type": "execute_result"
    }
   ],
   "source": [
    "jutools.computer.shell_command(iffslurm, \"whoami\")"
   ]
  },
  {
   "cell_type": "code",
   "execution_count": 40,
   "id": "cc401179-87f3-4645-ad15-f93135497248",
   "metadata": {},
   "outputs": [
    {
     "name": "stdout",
     "output_type": "stream",
     "text": [
      "Idle nodes left on computer 'iffslurm': 59\n"
     ]
    },
    {
     "data": {
      "text/plain": [
       "[['th1', 24],\n",
       " ['th1-2020-32', 16],\n",
       " ['oscar', 9],\n",
       " ['th1-2020-gpu', 3],\n",
       " ['th1-2020-64', 3],\n",
       " ['viti', 2],\n",
       " ['th2-gpu', 2]]"
      ]
     },
     "execution_count": 40,
     "metadata": {},
     "output_type": "execute_result"
    }
   ],
   "source": [
    "jutools.computer.get_queues(iffslurm)"
   ]
  },
  {
   "cell_type": "code",
   "execution_count": 41,
   "id": "fd37595f-9338-4f1c-ad93-1493095265de",
   "metadata": {},
   "outputs": [
    {
     "name": "stdout",
     "output_type": "stream",
     "text": [
      "WARNING: For computer name iff, found several computers ['iffslurm', 'iff734']. Will choose first one.\n",
      "Idle nodes left on computer 'iffslurm': 59\n",
      "WARNING: 'get_code()': Ambiguous codestrings result ['kkrhost_3.5_intel@iffslurm', 'kkrimp_3.5_intel@iffslurm'] while determining appropriate code for specified computer 'iff', computer queue 'th1', code name pattern 'kkr'and determined queue architecture 'intel'. Will choose first one. Resolve ambiguity by more precise code name pattern.\n"
     ]
    },
    {
     "data": {
      "text/plain": [
       "<Code: Remote code 'kkrhost_3.5_intel' on iffslurm, pk: 148, uuid: 2e3a0d2b-6737-40aa-925a-cb1f03444ca4>"
      ]
     },
     "execution_count": 41,
     "metadata": {},
     "output_type": "execute_result"
    }
   ],
   "source": [
    "jutools.code.get_code(computer_name_pattern='iff', code_name_pattern='kkr', queue_name='th1')"
   ]
  },
  {
   "cell_type": "code",
   "execution_count": 45,
   "id": "72592197-5ba8-428d-b5ad-97cc115ee5b4",
   "metadata": {},
   "outputs": [
    {
     "name": "stdout",
     "output_type": "stream",
     "text": [
      "Info: ComputerOptionsManager: Call initialize() before use.\n"
     ]
    }
   ],
   "source": [
    "optman = jutools.computer.ComputerOptionsManager()"
   ]
  },
  {
   "cell_type": "code",
   "execution_count": 46,
   "id": "03ea306e-6244-428f-b49e-71f6e2fb40fc",
   "metadata": {},
   "outputs": [
    {
     "name": "stdout",
     "output_type": "stream",
     "text": [
      "Initializing computer options configs: ['localhost', 'iffslurm', 'claix18', 'claix16'].\n",
      "OptionsConfig 'localhost':\n",
      "Loaded computer options groups: ['computer_options/localhost'].\n",
      "Loaded 2, created 0 default computer options nodes. Use get_options() to load or create options nodes.\n",
      "OptionsConfig 'iffslurm':\n",
      "Loaded computer options groups: ['computer_options/iffslurm'].\n",
      "Loaded 8, created 0 default computer options nodes. Use get_options() to load or create options nodes.\n",
      "OptionsConfig 'claix18':\n",
      "Loaded computer options groups: ['computer_options/claix18'].\n",
      "Loaded 1, created 0 default computer options nodes. Use get_options() to load or create options nodes.\n",
      "OptionsConfig 'claix16':\n",
      "Loaded computer options groups: ['computer_options/claix16'].\n",
      "Loaded 1, created 0 default computer options nodes. Use get_options() to load or create options nodes.\n"
     ]
    }
   ],
   "source": [
    "optman.initialize()"
   ]
  },
  {
   "cell_type": "code",
   "execution_count": 47,
   "id": "49a26617-4056-4a25-bc42-2c96cf5261ab",
   "metadata": {},
   "outputs": [
    {
     "data": {
      "text/plain": [
       "[<Computer: iffslurm (iffslurm), pk: 1>]"
      ]
     },
     "execution_count": 47,
     "metadata": {},
     "output_type": "execute_result"
    }
   ],
   "source": [
    "optman.iffslurm.computers"
   ]
  },
  {
   "cell_type": "code",
   "execution_count": 49,
   "id": "a6869757-6508-4126-b5b7-097136fd82cf",
   "metadata": {},
   "outputs": [
    {
     "data": {
      "text/plain": [
       "[<Dict: uuid: 41ea72d7-2376-49d1-9110-b8a762e0ae19 (pk: 26323)>,\n",
       " <Dict: uuid: 10f58ca9-e1ea-4f48-8fd1-605be9df67c9 (pk: 26321)>,\n",
       " <Dict: uuid: 65f510dc-2755-418d-8e24-64b5be574a20 (pk: 26325)>,\n",
       " <Dict: uuid: 095cb3d9-041d-4d1e-bd6f-dd680cc78b00 (pk: 26319)>,\n",
       " <Dict: uuid: 3e4be4a6-60f5-41d2-8c94-ca8226887e87 (pk: 26320)>,\n",
       " <Dict: uuid: 62c8bf6b-ced7-4300-8d1d-4f46142f462a (pk: 26322)>,\n",
       " <Dict: uuid: 791c92e4-be98-4281-b95d-4dc247c5a9e5 (pk: 26318)>,\n",
       " <Dict: uuid: 452a56d2-30f5-435b-bf5d-4a1b73dc54df (pk: 26324)>]"
      ]
     },
     "execution_count": 49,
     "metadata": {},
     "output_type": "execute_result"
    }
   ],
   "source": [
    "optman.iffslurm.options"
   ]
  },
  {
   "cell_type": "code",
   "execution_count": 50,
   "id": "a4313e29-61aa-47f7-a378-9e06ebdd79f0",
   "metadata": {},
   "outputs": [
    {
     "name": "stdout",
     "output_type": "stream",
     "text": [
      "Info: _OptionsConfig 'iffslurm', get_options(): \n",
      "Missing mandatory argument 'queue_name'. Try find matching computer and call get_queues().\n",
      "Try to get computer from config's assigned computers.\n",
      "Try to get computer from name pattern 'iffslurm'.\n",
      "Idle nodes left on computer 'iffslurm': 59\n",
      "Found queue_names '['th1', 'th1-2020-32', 'oscar', 'th1-2020-gpu', 'th1-2020-64', 'viti', 'th2-gpu']'.\n",
      "Did not find specified computer options in config. Create options node and store.\n",
      "Created and stored options  node(s) [<Dict: uuid: f6329f58-cd30-4e33-aed3-c0b0c24061f6 (pk: 26499)>].\n"
     ]
    }
   ],
   "source": [
    "options = optman.iffslurm.get_options(computer_name='iffslurm', queue_name='th1', account='wasmer')"
   ]
  },
  {
   "cell_type": "code",
   "execution_count": 52,
   "id": "3359fa67-0a8b-4cc7-b41d-0c9eb54f1656",
   "metadata": {},
   "outputs": [],
   "source": [
    "options = options[0]"
   ]
  },
  {
   "cell_type": "code",
   "execution_count": 53,
   "id": "75f86583-272d-4668-b482-25cc56ab8f4f",
   "metadata": {},
   "outputs": [
    {
     "data": {
      "text/plain": [
       "{'withmpi': True,\n",
       " 'resources': {'num_machines': 1, 'tot_num_mpiprocs': 12},\n",
       " 'queue_name': 'th1',\n",
       " 'max_wallclock_seconds': 86400,\n",
       " 'custom_scheduler_commands': '#SBATCH --account=wasmer'}"
      ]
     },
     "execution_count": 53,
     "metadata": {},
     "output_type": "execute_result"
    }
   ],
   "source": [
    "options.attributes"
   ]
  },
  {
   "cell_type": "code",
   "execution_count": 55,
   "id": "2707a5fa-09c3-4444-8757-0ad37a2a8443",
   "metadata": {},
   "outputs": [
    {
     "data": {
      "text/plain": [
       "{'options_fields': ['account',\n",
       "  'additional_retrieve_list',\n",
       "  'append_text',\n",
       "  'custom_scheduler_commands',\n",
       "  'environment_variables',\n",
       "  'import_sys_environment',\n",
       "  'input_filename',\n",
       "  'max_memory_kb',\n",
       "  'max_wallclock_seconds',\n",
       "  'mpirun_extra_params',\n",
       "  'output_filename',\n",
       "  'parser_name',\n",
       "  'prepend_text',\n",
       "  'priority',\n",
       "  'qos',\n",
       "  'queue_name',\n",
       "  'resources',\n",
       "  'scheduler_stderr',\n",
       "  'scheduler_stdout',\n",
       "  'stash',\n",
       "  'submit_script_filename',\n",
       "  'withmpi'],\n",
       " 'resources_fields': {'localhost': ['num_machines',\n",
       "   'num_mpiprocs_per_machine',\n",
       "   'num_cores_per_machine',\n",
       "   'num_cores_per_mpiproc',\n",
       "   'tot_num_mpiprocs'],\n",
       "  'iffslurm': ['num_machines',\n",
       "   'num_mpiprocs_per_machine',\n",
       "   'num_cores_per_machine',\n",
       "   'num_cores_per_mpiproc',\n",
       "   'tot_num_mpiprocs'],\n",
       "  'claix18': ['num_machines',\n",
       "   'num_mpiprocs_per_machine',\n",
       "   'num_cores_per_machine',\n",
       "   'num_cores_per_mpiproc',\n",
       "   'tot_num_mpiprocs'],\n",
       "  'claix16': ['num_machines',\n",
       "   'num_mpiprocs_per_machine',\n",
       "   'num_cores_per_machine',\n",
       "   'num_cores_per_mpiproc',\n",
       "   'tot_num_mpiprocs']}}"
      ]
     },
     "execution_count": 55,
     "metadata": {},
     "output_type": "execute_result"
    }
   ],
   "source": [
    "optman.get_help(mode='keywords')"
   ]
  },
  {
   "cell_type": "code",
   "execution_count": 59,
   "id": "fb432bf3-504d-41b4-a505-e211810c4ffc",
   "metadata": {},
   "outputs": [
    {
     "data": {
      "text/plain": [
       "{'custom_scheduler_commands': {'name': 'custom_scheduler_commands',\n",
       "  'required': 'False',\n",
       "  'valid_type': \"<class 'str'>\",\n",
       "  'help': 'Set a (possibly multiline) string with the commands that the user wants to manually set for the scheduler. The difference of this option with respect to the `prepend_text` is the position in the scheduler submission file where such text is inserted: with this option, the string is inserted before any non-scheduler command',\n",
       "  'default': '',\n",
       "  'non_db': 'True'},\n",
       " 'submit_script_filename': {'name': 'submit_script_filename',\n",
       "  'required': 'False',\n",
       "  'valid_type': \"<class 'str'>\",\n",
       "  'help': 'Filename to which the job submission script is written.',\n",
       "  'default': '_aiidasubmit.sh',\n",
       "  'non_db': 'True'}}"
      ]
     },
     "execution_count": 59,
     "metadata": {},
     "output_type": "execute_result"
    }
   ],
   "source": [
    "optman.get_help('descriptions', 'custom_scheduler_commands', 'submit_script_filename')"
   ]
  },
  {
   "cell_type": "markdown",
   "id": "32ffbf82-de65-4bf2-9553-842b362026f0",
   "metadata": {},
   "source": [
    "## `.group` and `.node`"
   ]
  },
  {
   "cell_type": "code",
   "execution_count": 74,
   "id": "745d42be-9a1d-46c1-aff6-8797f55bb508",
   "metadata": {},
   "outputs": [
    {
     "data": {
      "text/plain": [
       "[['label', 'id', 'type_string'],\n",
       " ['imp_embeddings_for_ml/host_gf/finished_ok', 50, 'core'],\n",
       " ['imp_embeddings_for_ml/host_gf/scale_factor_0.8/finished_ok', 51, 'core'],\n",
       " ['imp_embeddings_for_ml/host_gf/scale_factor_0.9/finished_ok', 52, 'core'],\n",
       " ['imp_embeddings_for_ml/host_gf/scale_factor_1.0/finished_ok', 39, 'core'],\n",
       " ['imp_embeddings_for_ml/host_gf/scale_factor_1.1/finished_ok', 53, 'core'],\n",
       " ['imp_embeddings_for_ml/host_gf/scale_factor_1.2/finished_ok', 47, 'core'],\n",
       " ['imp_embeddings_for_ml/host_scf/finished_ok', 37, 'core'],\n",
       " ['imp_embeddings_for_ml/host_scf/scale_factor_0.8/finished_ok', 44, 'core'],\n",
       " ['imp_embeddings_for_ml/host_scf/scale_factor_0.9/finished_ok', 45, 'core'],\n",
       " ['imp_embeddings_for_ml/host_scf/scale_factor_1.0/finished_ok', 40, 'core'],\n",
       " ['imp_embeddings_for_ml/host_scf/scale_factor_1.1/finished_ok', 46, 'core'],\n",
       " ['imp_embeddings_for_ml/host_scf/scale_factor_1.2/finished_ok', 49, 'core'],\n",
       " ['imp_embeddings_for_ml/imp/finished_ok', 123, 'core'],\n",
       " ['imp_embeddings_for_ml/imp/scale_factor_0.8/finished_ok', 125, 'core'],\n",
       " ['imp_embeddings_for_ml/imp/scale_factor_0.9/finished_ok', 127, 'core'],\n",
       " ['imp_embeddings_for_ml/imp/scale_factor_1.0/finished_ok', 129, 'core'],\n",
       " ['imp_embeddings_for_ml/imp/scale_factor_1.1/finished_ok', 131, 'core'],\n",
       " ['imp_embeddings_for_ml/imp/scale_factor_1.2/finished_ok', 133, 'core']]"
      ]
     },
     "execution_count": 74,
     "metadata": {},
     "output_type": "execute_result"
    }
   ],
   "source": [
    "jutools.group.verdi_group_list(label_filter='ok')"
   ]
  },
  {
   "cell_type": "code",
   "execution_count": 136,
   "id": "98853da2-7854-4274-a288-de0934047e9f",
   "metadata": {},
   "outputs": [
    {
     "data": {
      "text/plain": [
       "[<Group: \"imp_embeddings_for_ml/host_gf/scale_factor_1.0/finished_ok\" [type core], of user johannes.wasmer@gmail.com>,\n",
       " <Group: \"imp_embeddings_for_ml/host_gf/scale_factor_1.2/finished_ok\" [type core], of user johannes.wasmer@gmail.com>,\n",
       " <Group: \"imp_embeddings_for_ml/host_gf/finished_ok\" [type core], of user johannes.wasmer@gmail.com>,\n",
       " <Group: \"imp_embeddings_for_ml/host_gf/scale_factor_0.8/finished_ok\" [type core], of user johannes.wasmer@gmail.com>,\n",
       " <Group: \"imp_embeddings_for_ml/host_gf/scale_factor_0.9/finished_ok\" [type core], of user johannes.wasmer@gmail.com>,\n",
       " <Group: \"imp_embeddings_for_ml/host_gf/scale_factor_1.1/finished_ok\" [type core], of user johannes.wasmer@gmail.com>,\n",
       " <Group: \"imp_embeddings_for_ml/host_gf/scale_factor_0.8\" [type core], of user johannes.wasmer@gmail.com>,\n",
       " <Group: \"imp_embeddings_for_ml/host_gf/scale_factor_0.9\" [type core], of user johannes.wasmer@gmail.com>,\n",
       " <Group: \"imp_embeddings_for_ml/host_gf/scale_factor_1.0\" [type core], of user johannes.wasmer@gmail.com>,\n",
       " <Group: \"imp_embeddings_for_ml/host_gf/scale_factor_1.1\" [type core], of user johannes.wasmer@gmail.com>,\n",
       " <Group: \"imp_embeddings_for_ml/host_gf/scale_factor_1.2\" [type core], of user johannes.wasmer@gmail.com>]"
      ]
     },
     "execution_count": 136,
     "metadata": {},
     "output_type": "execute_result"
    }
   ],
   "source": [
    "jutools.group.get_subgroups(Group.get(label='imp_embeddings_for_ml/host_gf'))"
   ]
  },
  {
   "cell_type": "code",
   "execution_count": null,
   "id": "ba89ae03-e0c3-4b95-8714-150ead513be5",
   "metadata": {},
   "outputs": [],
   "source": [
    "jutools.group.delete_groups_with_nodes"
   ]
  },
  {
   "cell_type": "markdown",
   "id": "467bbd8e-e0f9-4c55-b002-b7f82f38fd79",
   "metadata": {},
   "source": [
    "## `.io`"
   ]
  },
  {
   "cell_type": "markdown",
   "id": "0446d8f0-29ba-4e2a-b47b-901dac9ddc29",
   "metadata": {},
   "source": [
    "Import CIF files in bulk as AiiDA structure nodes. If they already exist, don't duplicate the nodes but return them (\"load or create\"). All JuTools methods follow this paradigm."
   ]
  },
  {
   "cell_type": "code",
   "execution_count": 123,
   "id": "1fd7fd04-cfc0-4ea3-bf47-0a3a07d1a3fd",
   "metadata": {},
   "outputs": [],
   "source": [
    "cif_importer = jutools.io.CifImporter()"
   ]
  },
  {
   "cell_type": "markdown",
   "id": "1d73c1e4-4447-4407-9880-0bba8e8792d3",
   "metadata": {},
   "source": [
    "-----"
   ]
  },
  {
   "cell_type": "markdown",
   "id": "06e4cd77-98e7-414e-abce-16ecf5a8d619",
   "metadata": {},
   "source": [
    "Tabulator: Harness the power of `pandas` for AiiDA data analysis."
   ]
  },
  {
   "cell_type": "code",
   "execution_count": 84,
   "id": "b251384e-24a1-42df-b0ef-aa2b376c9e9d",
   "metadata": {},
   "outputs": [],
   "source": [
    "example_group = Group.get(id=51)"
   ]
  },
  {
   "cell_type": "code",
   "execution_count": 85,
   "id": "3ca885e9-9b26-40de-b40a-d546be868cb6",
   "metadata": {},
   "outputs": [
    {
     "data": {
      "text/plain": [
       "[<WorkChainNode: uuid: fd1637ed-7bbb-459a-bff7-8d19933642d8 (pk: 25858) (aiida.workflows:kkr.imp)>,\n",
       " <WorkChainNode: uuid: d731a0eb-6ce0-460c-b56c-2ce4bca3eb45 (pk: 22787) (aiida.workflows:kkr.imp)>,\n",
       " <WorkChainNode: uuid: d2992068-e7db-4fc8-bf2e-765622d7511f (pk: 22405) (aiida.workflows:kkr.imp)>,\n",
       " <WorkChainNode: uuid: 961a6e7c-0da5-445a-a32a-2791d722b533 (pk: 17417) (aiida.workflows:kkr.imp)>,\n",
       " <WorkChainNode: uuid: e5bee0cc-644c-4b35-af49-fdbec05245c0 (pk: 23946) (aiida.workflows:kkr.imp)>,\n",
       " <WorkChainNode: uuid: 8741d05d-a06c-4b69-a45a-1b198a4ed495 (pk: 16144) (aiida.workflows:kkr.imp)>,\n",
       " <WorkChainNode: uuid: f22ab9c2-f700-4c55-92a3-f1800963fded (pk: 24977) (aiida.workflows:kkr.imp)>,\n",
       " <WorkChainNode: uuid: 1b6bcbfe-f5ca-4a34-9924-c6bdeae835f0 (pk: 7315) (aiida.workflows:kkr.imp)>,\n",
       " <WorkChainNode: uuid: 1ce102ab-f55e-4671-96dd-61ca4da3e6ab (pk: 7444) (aiida.workflows:kkr.imp)>,\n",
       " <WorkChainNode: uuid: 0ec9a492-5d78-4cca-b415-66ed1a7a112d (pk: 6292) (aiida.workflows:kkr.imp)>,\n",
       " <WorkChainNode: uuid: 4542afa0-975e-43e3-9e8f-afbec275efd1 (pk: 10778) (aiida.workflows:kkr.imp)>,\n",
       " <WorkChainNode: uuid: 541a8dde-a54d-4931-ae66-823eb9e08469 (pk: 11933) (aiida.workflows:kkr.imp)>,\n",
       " <WorkChainNode: uuid: e1258d55-f4f6-4f27-8e8e-c05c886af49a (pk: 23585) (aiida.workflows:kkr.imp)>,\n",
       " <WorkChainNode: uuid: 7aef9882-fb07-475a-ac40-27c624442ba5 (pk: 15137) (aiida.workflows:kkr.imp)>,\n",
       " <WorkChainNode: uuid: 00c0280b-5b83-404e-8dd2-d1fabf77e762 (pk: 5155) (aiida.workflows:kkr.imp)>,\n",
       " <WorkChainNode: uuid: d31de792-446b-4846-8c47-461b93032b23 (pk: 22438) (aiida.workflows:kkr.imp)>,\n",
       " <WorkChainNode: uuid: 939534e0-173a-4c92-9cb0-2506b3270876 (pk: 17194) (aiida.workflows:kkr.imp)>,\n",
       " <WorkChainNode: uuid: 782e724d-e3b9-43fd-b3b1-2a2618de6418 (pk: 14895) (aiida.workflows:kkr.imp)>,\n",
       " <WorkChainNode: uuid: 5a99ee1d-ea26-47e3-a001-b280bee84054 (pk: 12468) (aiida.workflows:kkr.imp)>,\n",
       " <WorkChainNode: uuid: 12aa7ec0-fc4a-4183-b5f2-eba6acdf252a (pk: 6588) (aiida.workflows:kkr.imp)>,\n",
       " <WorkChainNode: uuid: b681b594-b57e-4571-b1d3-c53b085c57a6 (pk: 20161) (aiida.workflows:kkr.imp)>,\n",
       " <WorkChainNode: uuid: 4465ff23-0601-4ef4-9753-f8ac10874679 (pk: 10692) (aiida.workflows:kkr.imp)>,\n",
       " <WorkChainNode: uuid: 6dad21c8-3623-4077-a8ed-a1b7045aa4be (pk: 14023) (aiida.workflows:kkr.imp)>,\n",
       " <WorkChainNode: uuid: 7ec5f138-fc0e-479a-87c0-4422a6190390 (pk: 15437) (aiida.workflows:kkr.imp)>,\n",
       " <WorkChainNode: uuid: f7e31271-916c-4409-aff5-7928d66827ee (pk: 25422) (aiida.workflows:kkr.imp)>,\n",
       " <WorkChainNode: uuid: 04af6117-7876-463b-9d33-b50d06baeca1 (pk: 5461) (aiida.workflows:kkr.imp)>,\n",
       " <WorkChainNode: uuid: c8bc8482-a758-4b96-adbc-816bacf0842e (pk: 21597) (aiida.workflows:kkr.imp)>,\n",
       " <WorkChainNode: uuid: 5e477162-2f1a-4df9-a344-2af35c67fa73 (pk: 12769) (aiida.workflows:kkr.imp)>,\n",
       " <WorkChainNode: uuid: 95a9246a-2382-480a-8b57-f4c476918daa (pk: 17379) (aiida.workflows:kkr.imp)>,\n",
       " <WorkChainNode: uuid: a1c5e7b8-d909-4dec-8200-c800ce392f85 (pk: 18413) (aiida.workflows:kkr.imp)>,\n",
       " <WorkChainNode: uuid: d86030e4-44bc-449f-b834-226b55903e62 (pk: 22895) (aiida.workflows:kkr.imp)>,\n",
       " <WorkChainNode: uuid: 29254c4d-d17d-477c-bfa0-ac3210e39ee5 (pk: 8432) (aiida.workflows:kkr.imp)>,\n",
       " <WorkChainNode: uuid: c8f4b713-f70b-4440-a870-f322596d2f53 (pk: 21619) (aiida.workflows:kkr.imp)>,\n",
       " <WorkChainNode: uuid: f6bb6d43-e462-4d2f-9514-1a5400b7097d (pk: 25331) (aiida.workflows:kkr.imp)>,\n",
       " <WorkChainNode: uuid: 3a2f144c-34ad-4b17-98ea-8ef1c8a718f9 (pk: 9852) (aiida.workflows:kkr.imp)>]"
      ]
     },
     "execution_count": 85,
     "metadata": {},
     "output_type": "execute_result"
    }
   ],
   "source": [
    "list(example_group.nodes)"
   ]
  },
  {
   "cell_type": "code",
   "execution_count": 73,
   "id": "15cc15a2-6b7e-4e69-9be4-f34b23e6c008",
   "metadata": {},
   "outputs": [],
   "source": [
    "tabulator = jutools.io.tabulator.NodeTabulator()"
   ]
  },
  {
   "cell_type": "code",
   "execution_count": 86,
   "id": "b6199461-53f1-45f1-986b-be670f24dc8b",
   "metadata": {},
   "outputs": [
    {
     "name": "stdout",
     "output_type": "stream",
     "text": [
      "Warning: Found path name collisions in include keypaths, see list below. Will select first or shortest path for each and discard the rest.\n",
      "{\n",
      "    \"uuid\": [\n",
      "        [\"uuid\"],\n",
      "        [\"outputs\", \"last_calc_info\", \"last_calc_nodeinfo\", \"uuid\"],\n",
      "        [\"outputs\", \"last_calc_info\", \"last_params_nodeinfo\", \"uuid\"],\n",
      "        [\"outputs\", \"last_calc_info\", \"last_remote_nodeinfo\", \"uuid\"]\n",
      "    ],\n",
      "    \"strmix\": [\n",
      "        [\"inputs\", \"wf_parameters\", \"strmix\"],\n",
      "        [\"outputs\", \"last_calc_output_parameters\", \"convergence_group\", \"strmix\"]\n",
      "    ],\n",
      "    \"Rcut\": [\n",
      "        [\"inputs\", \"impurity_info\", \"Rcut\"],\n",
      "        [\"outputs\", \"workflow_info\", \"impurity_info\", \"Rcut\"]\n",
      "    ],\n",
      "    \"Zimp\": [\n",
      "        [\"inputs\", \"impurity_info\", \"Zimp\"],\n",
      "        [\"outputs\", \"workflow_info\", \"impurity_info\", \"Zimp\"]\n",
      "    ],\n",
      "    \"ilayer_center\": [\n",
      "        [\"inputs\", \"impurity_info\", \"ilayer_center\"],\n",
      "        [\"outputs\", \"workflow_info\", \"impurity_info\", \"ilayer_center\"]\n",
      "    ],\n",
      "    \"workflow_name\": [\n",
      "        [\"outputs\", \"workflow_info\", \"workflow_name\"],\n",
      "        [\"outputs\", \"last_calc_info\", \"workflow_name\"]\n",
      "    ],\n",
      "    \"workflow_version\": [\n",
      "        [\"outputs\", \"workflow_info\", \"workflow_version\"],\n",
      "        [\"outputs\", \"last_calc_info\", \"workflow_version\"]\n",
      "    ],\n",
      "    \"convergence_values_all_steps\": [\n",
      "        [\"outputs\", \"workflow_info\", \"convergence_values_all_steps\"],\n",
      "        [\"outputs\", \"last_calc_info\", \"convergence_values_all_steps\"]\n",
      "    ],\n",
      "    \"pk\": [\n",
      "        [\"outputs\", \"last_calc_info\", \"last_calc_nodeinfo\", \"pk\"],\n",
      "        [\"outputs\", \"last_calc_info\", \"last_params_nodeinfo\", \"pk\"],\n",
      "        [\"outputs\", \"last_calc_info\", \"last_remote_nodeinfo\", \"pk\"]\n",
      "    ]\n",
      "}\n",
      "Info: Deleting empty columns ['init_pos', 'NCHEB', 'NPAN_EQ', 'NPAN_LOG', 'RADIUS_LOGPANELS'].\n"
     ]
    }
   ],
   "source": [
    "table = tabulator.tabulate(example_group)"
   ]
  },
  {
   "cell_type": "code",
   "execution_count": 88,
   "id": "fabd0145-f48f-46a3-9df3-23fe21b7bb58",
   "metadata": {},
   "outputs": [
    {
     "name": "stdout",
     "output_type": "stream",
     "text": [
      "<class 'pandas.core.frame.DataFrame'>\n",
      "RangeIndex: 35 entries, 0 to 34\n",
      "Columns: 123 entries, uuid to exit_status\n",
      "dtypes: bool(18), float64(24), int64(24), object(57)\n",
      "memory usage: 29.5+ KB\n"
     ]
    }
   ],
   "source": [
    "table.info()"
   ]
  },
  {
   "cell_type": "code",
   "execution_count": 91,
   "id": "6eddbb8a-738a-47e3-a922-9b1d16067c60",
   "metadata": {},
   "outputs": [
    {
     "data": {
      "text/html": [
       "<div>\n",
       "<style scoped>\n",
       "    .dataframe tbody tr th:only-of-type {\n",
       "        vertical-align: middle;\n",
       "    }\n",
       "\n",
       "    .dataframe tbody tr th {\n",
       "        vertical-align: top;\n",
       "    }\n",
       "\n",
       "    .dataframe thead th {\n",
       "        text-align: right;\n",
       "    }\n",
       "</style>\n",
       "<table border=\"1\" class=\"dataframe\">\n",
       "  <thead>\n",
       "    <tr style=\"text-align: right;\">\n",
       "      <th></th>\n",
       "      <th>scale_factor</th>\n",
       "      <th>num_machines</th>\n",
       "      <th>tot_num_mpiprocs</th>\n",
       "      <th>max_wallclock_seconds</th>\n",
       "      <th>nsteps</th>\n",
       "      <th>strmix</th>\n",
       "      <th>aggrmix</th>\n",
       "      <th>mixreduce</th>\n",
       "      <th>kkr_runmax</th>\n",
       "      <th>aggressive_mix</th>\n",
       "      <th>...</th>\n",
       "      <th>imix</th>\n",
       "      <th>brymix</th>\n",
       "      <th>qbound</th>\n",
       "      <th>rms_spin</th>\n",
       "      <th>number_of_iterations</th>\n",
       "      <th>number_of_iterations_max</th>\n",
       "      <th>emin</th>\n",
       "      <th>number_of_energy_points</th>\n",
       "      <th>number_of_atoms_in_unit_cell</th>\n",
       "      <th>exit_status</th>\n",
       "    </tr>\n",
       "  </thead>\n",
       "  <tbody>\n",
       "    <tr>\n",
       "      <th>count</th>\n",
       "      <td>35.0</td>\n",
       "      <td>35.0</td>\n",
       "      <td>35.000000</td>\n",
       "      <td>35.0</td>\n",
       "      <td>35.0</td>\n",
       "      <td>35.00</td>\n",
       "      <td>35.00</td>\n",
       "      <td>35.0</td>\n",
       "      <td>35.0</td>\n",
       "      <td>35.0</td>\n",
       "      <td>...</td>\n",
       "      <td>35.0</td>\n",
       "      <td>35.00</td>\n",
       "      <td>3.500000e+01</td>\n",
       "      <td>3.500000e+01</td>\n",
       "      <td>35.000000</td>\n",
       "      <td>35.0</td>\n",
       "      <td>35.000000</td>\n",
       "      <td>35.000000</td>\n",
       "      <td>35.000000</td>\n",
       "      <td>35.0</td>\n",
       "    </tr>\n",
       "    <tr>\n",
       "      <th>mean</th>\n",
       "      <td>1.0</td>\n",
       "      <td>1.0</td>\n",
       "      <td>33.600000</td>\n",
       "      <td>3600.0</td>\n",
       "      <td>200.0</td>\n",
       "      <td>0.01</td>\n",
       "      <td>0.02</td>\n",
       "      <td>0.5</td>\n",
       "      <td>5.0</td>\n",
       "      <td>5.0</td>\n",
       "      <td>...</td>\n",
       "      <td>5.0</td>\n",
       "      <td>0.02</td>\n",
       "      <td>1.000000e-07</td>\n",
       "      <td>8.396300e-09</td>\n",
       "      <td>25.200000</td>\n",
       "      <td>200.0</td>\n",
       "      <td>-0.525714</td>\n",
       "      <td>45.942857</td>\n",
       "      <td>15.800000</td>\n",
       "      <td>0.0</td>\n",
       "    </tr>\n",
       "    <tr>\n",
       "      <th>std</th>\n",
       "      <td>0.0</td>\n",
       "      <td>0.0</td>\n",
       "      <td>11.929203</td>\n",
       "      <td>0.0</td>\n",
       "      <td>0.0</td>\n",
       "      <td>0.00</td>\n",
       "      <td>0.00</td>\n",
       "      <td>0.0</td>\n",
       "      <td>0.0</td>\n",
       "      <td>0.0</td>\n",
       "      <td>...</td>\n",
       "      <td>0.0</td>\n",
       "      <td>0.00</td>\n",
       "      <td>1.342811e-23</td>\n",
       "      <td>6.032493e-09</td>\n",
       "      <td>5.534916</td>\n",
       "      <td>0.0</td>\n",
       "      <td>0.172086</td>\n",
       "      <td>6.816687</td>\n",
       "      <td>2.752539</td>\n",
       "      <td>0.0</td>\n",
       "    </tr>\n",
       "    <tr>\n",
       "      <th>min</th>\n",
       "      <td>1.0</td>\n",
       "      <td>1.0</td>\n",
       "      <td>24.000000</td>\n",
       "      <td>3600.0</td>\n",
       "      <td>200.0</td>\n",
       "      <td>0.01</td>\n",
       "      <td>0.02</td>\n",
       "      <td>0.5</td>\n",
       "      <td>5.0</td>\n",
       "      <td>5.0</td>\n",
       "      <td>...</td>\n",
       "      <td>5.0</td>\n",
       "      <td>0.02</td>\n",
       "      <td>1.000000e-07</td>\n",
       "      <td>9.831000e-10</td>\n",
       "      <td>18.000000</td>\n",
       "      <td>200.0</td>\n",
       "      <td>-1.100000</td>\n",
       "      <td>24.000000</td>\n",
       "      <td>13.000000</td>\n",
       "      <td>0.0</td>\n",
       "    </tr>\n",
       "    <tr>\n",
       "      <th>50%</th>\n",
       "      <td>1.0</td>\n",
       "      <td>1.0</td>\n",
       "      <td>24.000000</td>\n",
       "      <td>3600.0</td>\n",
       "      <td>200.0</td>\n",
       "      <td>0.01</td>\n",
       "      <td>0.02</td>\n",
       "      <td>0.5</td>\n",
       "      <td>5.0</td>\n",
       "      <td>5.0</td>\n",
       "      <td>...</td>\n",
       "      <td>5.0</td>\n",
       "      <td>0.02</td>\n",
       "      <td>1.000000e-07</td>\n",
       "      <td>6.014200e-09</td>\n",
       "      <td>23.000000</td>\n",
       "      <td>200.0</td>\n",
       "      <td>-0.500000</td>\n",
       "      <td>48.000000</td>\n",
       "      <td>15.000000</td>\n",
       "      <td>0.0</td>\n",
       "    </tr>\n",
       "    <tr>\n",
       "      <th>max</th>\n",
       "      <td>1.0</td>\n",
       "      <td>1.0</td>\n",
       "      <td>48.000000</td>\n",
       "      <td>3600.0</td>\n",
       "      <td>200.0</td>\n",
       "      <td>0.01</td>\n",
       "      <td>0.02</td>\n",
       "      <td>0.5</td>\n",
       "      <td>5.0</td>\n",
       "      <td>5.0</td>\n",
       "      <td>...</td>\n",
       "      <td>5.0</td>\n",
       "      <td>0.02</td>\n",
       "      <td>1.000000e-07</td>\n",
       "      <td>2.569200e-08</td>\n",
       "      <td>43.000000</td>\n",
       "      <td>200.0</td>\n",
       "      <td>-0.200000</td>\n",
       "      <td>48.000000</td>\n",
       "      <td>19.000000</td>\n",
       "      <td>0.0</td>\n",
       "    </tr>\n",
       "  </tbody>\n",
       "</table>\n",
       "<p>6 rows × 48 columns</p>\n",
       "</div>"
      ],
      "text/plain": [
       "       scale_factor  num_machines  tot_num_mpiprocs  max_wallclock_seconds  \\\n",
       "count          35.0          35.0         35.000000                   35.0   \n",
       "mean            1.0           1.0         33.600000                 3600.0   \n",
       "std             0.0           0.0         11.929203                    0.0   \n",
       "min             1.0           1.0         24.000000                 3600.0   \n",
       "50%             1.0           1.0         24.000000                 3600.0   \n",
       "max             1.0           1.0         48.000000                 3600.0   \n",
       "\n",
       "       nsteps  strmix  aggrmix  mixreduce  kkr_runmax  aggressive_mix  ...  \\\n",
       "count    35.0   35.00    35.00       35.0        35.0            35.0  ...   \n",
       "mean    200.0    0.01     0.02        0.5         5.0             5.0  ...   \n",
       "std       0.0    0.00     0.00        0.0         0.0             0.0  ...   \n",
       "min     200.0    0.01     0.02        0.5         5.0             5.0  ...   \n",
       "50%     200.0    0.01     0.02        0.5         5.0             5.0  ...   \n",
       "max     200.0    0.01     0.02        0.5         5.0             5.0  ...   \n",
       "\n",
       "       imix  brymix        qbound      rms_spin  number_of_iterations  \\\n",
       "count  35.0   35.00  3.500000e+01  3.500000e+01             35.000000   \n",
       "mean    5.0    0.02  1.000000e-07  8.396300e-09             25.200000   \n",
       "std     0.0    0.00  1.342811e-23  6.032493e-09              5.534916   \n",
       "min     5.0    0.02  1.000000e-07  9.831000e-10             18.000000   \n",
       "50%     5.0    0.02  1.000000e-07  6.014200e-09             23.000000   \n",
       "max     5.0    0.02  1.000000e-07  2.569200e-08             43.000000   \n",
       "\n",
       "       number_of_iterations_max       emin  number_of_energy_points  \\\n",
       "count                      35.0  35.000000                35.000000   \n",
       "mean                      200.0  -0.525714                45.942857   \n",
       "std                         0.0   0.172086                 6.816687   \n",
       "min                       200.0  -1.100000                24.000000   \n",
       "50%                       200.0  -0.500000                48.000000   \n",
       "max                       200.0  -0.200000                48.000000   \n",
       "\n",
       "       number_of_atoms_in_unit_cell  exit_status  \n",
       "count                     35.000000         35.0  \n",
       "mean                      15.800000          0.0  \n",
       "std                        2.752539          0.0  \n",
       "min                       13.000000          0.0  \n",
       "50%                       15.000000          0.0  \n",
       "max                       19.000000          0.0  \n",
       "\n",
       "[6 rows x 48 columns]"
      ]
     },
     "execution_count": 91,
     "metadata": {},
     "output_type": "execute_result"
    }
   ],
   "source": [
    "table.describe(percentiles=[])"
   ]
  },
  {
   "cell_type": "code",
   "execution_count": 94,
   "id": "533ec2b7-ee1a-41b8-b168-c0899896e107",
   "metadata": {},
   "outputs": [
    {
     "name": "stdout",
     "output_type": "stream",
     "text": [
      "['uuid', 'label', 'version', 'scale_factor', 'aiida-kkr', 'notebook:', 'masci-tools', 'aiida-jutools', 'withmpi', 'num_machines', 'tot_num_mpiprocs', 'max_wallclock_seconds', 'custom_scheduler_commands', 'lmdos', 'hfield', 'nsteps', 'strmix', 'aggrmix', 'dos_run', 'jij_run', 'mag_init', 'mixreduce', 'kkr_runmax', 'aggressive_mix', 'broyden-number', 'nsimplemixfirst', 'do_final_cleanup', 'retrieve_kkrflex', 'convergence_criterion', 'threshold_aggressive_mixing', 'Rcut', 'Zimp', 'ilayer_center', 'converged', 'gf_wc_success', 'workflow_name', 'voro_wc_success', 'workflow_version', 'kkrimp_wc_success', 'gf_writeout', 'kkr_imp_sub', 'auxiliary_voronoi', 'number_of_rms_steps', 'last_calculation_uuid', 'convergence_values_all_steps', 'material', 'warnings', 'loop_count', 'successful', 'pks_all_calcs', 'kkr_step_success', 'convergence_value', 'pk', 'convergence_reached', 'used_higher_accuracy', 'convergence_values_last_step', 'nspin', 'energy', 'energy_unit', 'fermi_energy', 'timings_unit', 'use_newsosol', 'parser_errors', 'energyloop', 'gref->gmat', 'Iteration number', 'gonsite->density', 'Total running time', 'time until scf starts', 'parser_version', 'warnings_list', 'number_of_warnings', 'code_version', 'compile_options', 'calculation_serial_number', 'total_spin_moment', 'total_spin_moment_unit', 'parser_warnings', 'total_energy_Ry', 'fcm', 'rms', 'imix', 'brymix', 'qbound', 'rms_spin', 'rms_unit', 'rms_per_atom', 'nsteps_exhausted', 'rms_spin_per_atom', 'rms_all_iterations', 'number_of_iterations', 'calculation_converged', 'rms_spin_all_iterations', 'number_of_iterations_max', 'total_energy_Ry_all_iterations', 'total_spin_moment_all_iterations', 'number_of_core_states_per_atom', 'descr_highest_lying_core_state_per_atom', 'energy_highest_lying_core_state_per_atom', 'energy_highest_lying_core_state_per_atom_unit', 'fermi_energy_units', 'total_energies_atom', 'emin', 'emin_unit', 'epoints_contour', 'epoints_weights', 'epoints_contour_unit', 'number_of_energy_points', 'total_energy_Ry_unit', 'total_charge_per_atom', 'single_particle_energies', 'total_energies_atom_unit', 'calculation_plugin_version', 'total_charge_per_atom_unit', 'charge_core_states_per_atom', 'number_of_atoms_in_unit_cell', 'single_particle_energies_unit', 'charge_valence_states_per_atom', 'charge_core_states_per_atom_unit', 'charge_valence_states_per_atom_unit', 'process_label', 'process_state', 'exit_status']\n"
     ]
    }
   ],
   "source": [
    "print(list(table.columns))"
   ]
  },
  {
   "cell_type": "markdown",
   "id": "b7b4497a-4e86-4902-bb8e-b4abf1174813",
   "metadata": {},
   "source": [
    "Now can directly access all the `pandas` machinery for statistical data analysis and use it on AiiDA data. For example, plotting."
   ]
  },
  {
   "cell_type": "code",
   "execution_count": 102,
   "id": "d815c9f9-7588-490b-96e8-32e7d475d045",
   "metadata": {},
   "outputs": [
    {
     "data": {
      "text/plain": [
       "<AxesSubplot:xlabel='Zimp', ylabel='total_energy_Ry'>"
      ]
     },
     "execution_count": 102,
     "metadata": {},
     "output_type": "execute_result"
    },
    {
     "data": {
      "image/png": "[encoded data removed]",
      "text/plain": [
       "<Figure size 720x576 with 1 Axes>"
      ]
     },
     "metadata": {
      "needs_background": "light"
     },
     "output_type": "display_data"
    }
   ],
   "source": [
    "table.plot.scatter(x='Zimp', y='total_energy_Ry', figsize=(10,8))"
   ]
  },
  {
   "cell_type": "markdown",
   "id": "4a2c0eea-28b7-40b0-9bd1-9a69c9ec72d8",
   "metadata": {},
   "source": [
    "What if I don't want *all* columns, or columns in a different format (for instance, list -> max(list))? Use tabulator recipes and transformers."
   ]
  },
  {
   "cell_type": "code",
   "execution_count": 126,
   "id": "46a68a15-1612-44a1-844b-790e659e7185",
   "metadata": {},
   "outputs": [],
   "source": [
    "from aiida_jutools.io.tabulator.transformers import TransformedValue\n",
    "\n",
    "class MyTransformer(jutools.io.tabulator.Transformer):\n",
    "    def transform(self, keypath, value, obj, **kwargs) -> TransformedValue:\n",
    "        if 'total_spin_moment_all_iterations' in keypath:\n",
    "            return TransformedValue(True, max(value))\n",
    "        else:\n",
    "            return TransformedValue(False, value)"
   ]
  },
  {
   "cell_type": "code",
   "execution_count": 128,
   "id": "d461c863-f78f-4002-ba52-db1c7931d3f9",
   "metadata": {},
   "outputs": [],
   "source": [
    "recipe = jutools.io.tabulator.Recipe(include_list=['uuid', 'Zimp', 'total_energy_Ry'], transformer=MyTransformer())"
   ]
  },
  {
   "cell_type": "code",
   "execution_count": 129,
   "id": "4c013302-6487-4602-a99b-470e8e950abc",
   "metadata": {},
   "outputs": [],
   "source": [
    "my_tabulator = jutools.io.tabulator.NodeTabulator(recipe)"
   ]
  },
  {
   "cell_type": "markdown",
   "id": "293a0c3b-7170-4e62-8c86-cc7cae152ccb",
   "metadata": {},
   "source": [
    "## `.process` and `.submit`"
   ]
  },
  {
   "cell_type": "markdown",
   "id": "a61b958c-451a-4511-9e13-1dc909aa3809",
   "metadata": {},
   "source": [
    "Finding and sorting process nodes."
   ]
  },
  {
   "cell_type": "code",
   "execution_count": 114,
   "id": "e822ff79-c8bc-4aea-8d2e-2370020fe097",
   "metadata": {},
   "outputs": [
    {
     "data": {
      "text/plain": [
       "['created', 'running', 'waiting', 'finished', 'excepted', 'killed']"
      ]
     },
     "execution_count": 114,
     "metadata": {},
     "output_type": "execute_result"
    }
   ],
   "source": [
    "jutools.process.get_process_states()"
   ]
  },
  {
   "cell_type": "code",
   "execution_count": 121,
   "id": "09cf07ac-8919-4255-9f0d-e2bbb42ce320",
   "metadata": {},
   "outputs": [],
   "source": [
    "all_kkr_impurity_workchains = jutools.process.query_processes(process_label='kkr_imp_wc', process_states=['finished'], exit_statuses=[141,142,143,144,145]).all(flat=True)"
   ]
  },
  {
   "cell_type": "code",
   "execution_count": 122,
   "id": "5af2e36c-ea5f-4b28-a0fb-2e3efca5db16",
   "metadata": {},
   "outputs": [
    {
     "data": {
      "text/plain": [
       "[<WorkChainNode: uuid: bbfc1bd4-612a-495b-b8bc-4d907ac7562c (pk: 26425) (aiida.workflows:kkr.imp)>,\n",
       " <WorkChainNode: uuid: 7bc8a7c8-0320-42b4-8ecc-37528871577f (pk: 26444) (aiida.workflows:kkr.imp)>]"
      ]
     },
     "execution_count": 122,
     "metadata": {},
     "output_type": "execute_result"
    }
   ],
   "source": [
    "all_kkr_impurity_workchains"
   ]
  },
  {
   "cell_type": "markdown",
   "id": "25ed8dac-bf94-4fdd-badd-9a408fc5d218",
   "metadata": {},
   "source": [
    "Sort processes by process state into subgroups."
   ]
  },
  {
   "cell_type": "code",
   "execution_count": 131,
   "id": "ef92c45e-172d-4db5-94f8-13a7b9978847",
   "metadata": {},
   "outputs": [],
   "source": [
    "process_sorter = jutools.process.ProcessClassifier(group=example_group)"
   ]
  },
  {
   "cell_type": "code",
   "execution_count": null,
   "id": "f9161248-f506-4fe5-880d-4fbaea63a173",
   "metadata": {},
   "outputs": [],
   "source": [
    "process_sorter.classify()"
   ]
  },
  {
   "cell_type": "code",
   "execution_count": 133,
   "id": "f55bc8e2-30fc-4a95-a984-8f8086b168d9",
   "metadata": {},
   "outputs": [
    {
     "data": {
      "text/plain": [
       "[['label', 'id', 'type_string'],\n",
       " ['imp_embeddings_for_ml/imp/scale_factor_1.0', 71, 'core'],\n",
       " ['imp_embeddings_for_ml/imp/scale_factor_1.0/failed', 130, 'core'],\n",
       " ['imp_embeddings_for_ml/imp/scale_factor_1.0/finished_ok', 129, 'core']]"
      ]
     },
     "execution_count": 133,
     "metadata": {},
     "output_type": "execute_result"
    }
   ],
   "source": [
    "jutools.group.verdi_group_list(label_filter='/imp/scale_factor_1.0')"
   ]
  },
  {
   "cell_type": "markdown",
   "id": "3966bc45-c886-490d-a1ae-8d6f2679dc6f",
   "metadata": {},
   "source": [
    "------"
   ]
  },
  {
   "cell_type": "markdown",
   "id": "ebc4da2c-5fa2-4dd7-b4b9-4326cc835b55",
   "metadata": {},
   "source": [
    "Submit processes in bulk."
   ]
  },
  {
   "cell_type": "code",
   "execution_count": 140,
   "id": "373587a1-501a-405f-82d0-ce1b76a5c940",
   "metadata": {},
   "outputs": [],
   "source": [
    "settings = jutools.submit.BlockingSubmissionControllerSettings()"
   ]
  },
  {
   "cell_type": "code",
   "execution_count": 141,
   "id": "19b329d1-1306-4974-a6e9-090284d0a40b",
   "metadata": {},
   "outputs": [
    {
     "data": {
      "text/plain": [
       "BlockingSubmissionControllerSettings(dry_run=True, max_top_processes_running=30, max_all_processes_running=60, wait_for_submit=5, max_wait_for_submit=240, wait_after_submit=2, resubmit_failed=False, resubmit_failed_as_restart=False, delete_if_stalling=False, delete_if_stalling_dry_run=False, max_wait_for_stalling=240)"
      ]
     },
     "execution_count": 141,
     "metadata": {},
     "output_type": "execute_result"
    }
   ],
   "source": [
    "settings"
   ]
  },
  {
   "cell_type": "code",
   "execution_count": 142,
   "id": "3d6c49ce-67c8-4704-8dea-18268a5b01f4",
   "metadata": {},
   "outputs": [],
   "source": [
    "controller = jutools.submit.BlockingSubmissionController(settings)"
   ]
  },
  {
   "cell_type": "code",
   "execution_count": null,
   "id": "e2842c09-5e64-44da-9289-446b730512c9",
   "metadata": {},
   "outputs": [],
   "source": [
    "controller.submit"
   ]
  },
  {
   "cell_type": "markdown",
   "id": "9f19ca62-7e8d-4c2e-a6c7-ae8a6cf8dd06",
   "metadata": {},
   "source": [
    "## Miscellaneous: `.process_functions`, `.plugins`, `.meta`"
   ]
  },
  {
   "cell_type": "code",
   "execution_count": null,
   "id": "03e0f1c1-2995-4e0b-8f52-fb2c22d8bee3",
   "metadata": {},
   "outputs": [],
   "source": []
  }
 ],
 "metadata": {
  "kernelspec": {
   "display_name": "AiiDA",
   "language": "python",
   "name": "aiida"
  },
  "language_info": {
   "codemirror_mode": {
    "name": "ipython",
    "version": 3
   },
   "file_extension": ".py",
   "mimetype": "text/x-python",
   "name": "python",
   "nbconvert_exporter": "python",
   "pygments_lexer": "ipython3",
   "version": "3.8.10"
  }
 },
 "nbformat": 4,
 "nbformat_minor": 5
}
