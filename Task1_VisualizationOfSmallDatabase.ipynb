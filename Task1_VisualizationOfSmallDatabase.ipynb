{
 "cells": [
  {
   "cell_type": "code",
   "execution_count": null,
   "metadata": {},
   "outputs": [],
   "source": [
    "import numpy as np\n",
    "from matplotlib import pyplot as plt\n",
    "import pandas as pd\n"
   ]
  },
  {
   "cell_type": "code",
   "execution_count": null,
   "metadata": {},
   "outputs": [],
   "source": [
    "# Load profile\n",
    "from aiida import load_profile\n",
    "load_profile() # Loading profile for query builder\n",
    "\n",
    "# Import aiida-core Node classes from aiida.orm\n",
    "from aiida.orm import load_node, Node, Group, Computer, User, Code\n",
    "from aiida.orm import CalcFunctionNode, CalcJobNode, WorkFunctionNode, WorkChainNode\n",
    "\n",
    "# Import Core data types\n",
    "from aiida.orm import Int, Float, Str, Bool, List, Dict, ArrayData, XyData, SinglefileData, FolderData, RemoteData\n",
    "# Import Material science data classes via the DataFactory\n",
    "from aiida.plugins import DataFactory\n",
    "StructureData = DataFactory('structure')\n",
    "KpointsData = DataFactory(\"array.kpoints\")\n",
    "TrajectoryData = DataFactory(\"array.trajectory\")\n",
    "BandsData = DataFactory(\"array.bands\")\n",
    "UpfData = DataFactory('upf')\n",
    "\n"
   ]
  },
  {
   "cell_type": "code",
   "execution_count": null,
   "metadata": {},
   "outputs": [],
   "source": [
    "from aiida.orm import QueryBuilder"
   ]
  },
  {
   "cell_type": "markdown",
   "metadata": {},
   "source": [
    "How large is the database"
   ]
  },
  {
   "cell_type": "code",
   "execution_count": null,
   "metadata": {},
   "outputs": [],
   "source": [
    "qb = QueryBuilder()\n",
    "qb.append(Node)\n",
    "NN = qb.count() # Number of Nodes\n",
    "print(NN)\n",
    "qb.all()"
   ]
  },
  {
   "cell_type": "markdown",
   "metadata": {},
   "source": [
    "What kinds of nodes are in there?"
   ]
  },
  {
   "cell_type": "code",
   "execution_count": null,
   "metadata": {},
   "outputs": [],
   "source": [
    "# Data Nodes\n",
    "core_data_list = [Int, Float, Str, Bool, List, Dict, ArrayData, XyData, SinglefileData, FolderData, RemoteData]\n",
    "MS_data_list = [StructureData, KpointsData, TrajectoryData, UpfData, BandsData, Code]\n",
    "data_list = np.append(core_data_list, MS_data_list)\n",
    "data_num = {}\n",
    "for class_name in data_list:\n",
    "    qb = QueryBuilder()\n",
    "    qb.append(class_name)\n",
    "    if (qb.count() != 0): #Record data types that are not equal to zero\n",
    "        data_num[class_name.__name__] = qb.count()\n",
    "    #print('{:>15} | {:6}'.format(class_name.__name__, qb.count()))    \n",
    "print(data_num)\n",
    "ND = np.sum(list(data_num.values())) # Number of Data Nodes\n",
    "print(\"Number of Data Nodes: \", ND)"
   ]
  },
  {
   "cell_type": "code",
   "execution_count": null,
   "metadata": {},
   "outputs": [],
   "source": [
    "# Process Nodes\n",
    "process_list = [CalcFunctionNode, CalcJobNode, WorkFunctionNode, WorkChainNode, Computer, Group]\n",
    "process_num = {}\n",
    "for class_name in process_list:\n",
    "    qb = QueryBuilder()\n",
    "    qb.append(class_name)\n",
    "    if (qb.count() != 0): #Record data types that are not equal to zero\n",
    "        process_num[class_name.__name__] = qb.count()\n",
    "    #print('{:>20} | {:6}'.format(class_name.__name__, qb.count()))    \n",
    "print(process_num)\n",
    "NP = np.sum(list(process_num.values())) # Number of Process Nodes\n",
    "print(\"Number of Process Nodes: \", NP)\n"
   ]
  },
  {
   "cell_type": "code",
   "execution_count": null,
   "metadata": {},
   "outputs": [],
   "source": [
    "# Summary and plot\n",
    "nodes_num = {}\n",
    "nodes_num.update(data_num)\n",
    "nodes_num.update(process_num)\n",
    "nodes_num['Others'] = NN - ND - NP\n",
    "\n",
    "fig, [ax1, ax2] = plt.subplots(figsize=(18,10), ncols=2)\n",
    "patches,_ = ax1.pie(nodes_num.values(), labels = nodes_num.keys());\n",
    "ax1.axis('equal')\n",
    "ax2.axis('off')\n",
    "ax2.legend(patches, nodes_num.keys(), loc='center left')\n",
    "plt.show()"
   ]
  },
  {
   "cell_type": "code",
   "execution_count": null,
   "metadata": {},
   "outputs": [],
   "source": [
    "# Interactive visualize by Bokeh\n",
    "from bokeh.io import output_notebook\n",
    "from bokeh.plotting import figure,show\n",
    "from bokeh.models import ColumnDataSource\n",
    "from bokeh.palettes import Category20\n"
   ]
  },
  {
   "cell_type": "code",
   "execution_count": null,
   "metadata": {
    "scrolled": false
   },
   "outputs": [],
   "source": [
    "nodes = list(nodes_num.keys())\n",
    "counts = list(nodes_num.values())\n",
    "sorted_nodes = sorted(nodes, key=lambda x: counts[nodes.index(x)], reverse=False)\n",
    "source = ColumnDataSource(data=dict(y=nodes, right=counts, color=Category20[14]))\n",
    "p = figure(y_range=sorted_nodes, plot_height=450, x_range=(0,5300), title=\"Nodes Counts\")\n",
    "p.hbar(y=\"y\", right=\"right\", height=0.5, left=0, color='color', legend_field=\"y\", source=source)\n",
    "\n",
    "output_notebook()\n",
    "p.xgrid.grid_line_color = None\n",
    "#p.legend.orientation = \"horizontal\"\n",
    "p.legend.location = \"bottom_right\"\n",
    "\n",
    "show(p)\n",
    "# The package performs weird. Try a few more times if it doesn't work"
   ]
  },
  {
   "cell_type": "markdown",
   "metadata": {},
   "source": [
    "Who created the data and when?"
   ]
  },
  {
   "cell_type": "code",
   "execution_count": null,
   "metadata": {},
   "outputs": [],
   "source": [
    "def find_data_info(PK):\n",
    "    node = load_node(PK)\n",
    "    qb = QueryBuilder()\n",
    "    qb.append(Node, project=['user_id','ctime'], filters={'id':{'==':PK}})\n",
    "    uid, time = qb.all()[0]\n",
    "    print(\"Node {} is created by user_id {} at time {}.\".format(PK, uid, time))\n",
    "\n",
    "    \n",
    "find_data_info(500)\n"
   ]
  },
  {
   "cell_type": "markdown",
   "metadata": {},
   "source": [
    "For Process Nodes: What calculations types and workflow types are in there?"
   ]
  },
  {
   "cell_type": "code",
   "execution_count": null,
   "metadata": {
    "scrolled": true
   },
   "outputs": [],
   "source": [
    "# Labels and description of each kind of process nodes\n",
    "process_list = [CalcFunctionNode, CalcJobNode, WorkFunctionNode, WorkChainNode]\n",
    "for class_name in process_list:\n",
    "    qb = QueryBuilder()\n",
    "    qb.append(class_name, project=['id','node_type','process_type','description'])\n",
    "    print(\"\\nFor {}:\".format(class_name.__name__))\n",
    "    for result in qb.all():\n",
    "        print(result)\n",
    "    "
   ]
  },
  {
   "cell_type": "code",
   "execution_count": null,
   "metadata": {},
   "outputs": [],
   "source": [
    "# List process of all states\n",
    "!verdi process list -a"
   ]
  },
  {
   "cell_type": "markdown",
   "metadata": {},
   "source": [
    "Dict type nodes"
   ]
  },
  {
   "cell_type": "code",
   "execution_count": null,
   "metadata": {},
   "outputs": [],
   "source": [
    "qb = QueryBuilder()\n",
    "qb.append(Dict)\n",
    "qb.limit(5)\n",
    "qb.all()"
   ]
  },
  {
   "cell_type": "code",
   "execution_count": null,
   "metadata": {
    "scrolled": true
   },
   "outputs": [],
   "source": [
    "# Choose one Dict node to show\n",
    "!verdi data dict show 5696"
   ]
  },
  {
   "cell_type": "code",
   "execution_count": null,
   "metadata": {
    "scrolled": true
   },
   "outputs": [],
   "source": [
    "dictnode = load_node(5696)\n",
    "dictdata = dictnode.get_dict()\n",
    "dictdata"
   ]
  },
  {
   "cell_type": "markdown",
   "metadata": {},
   "source": [
    "Metadata information of the StructureData nodes: Collect how a distribution of the number of atoms these structures have and what elements they contain."
   ]
  },
  {
   "cell_type": "code",
   "execution_count": null,
   "metadata": {
    "scrolled": true
   },
   "outputs": [],
   "source": [
    "# StructureData\n",
    "qb = QueryBuilder()\n",
    "qb.append(StructureData)\n",
    "print(qb.count())\n",
    "\n",
    "for structure, in qb.all()[10:12]:\n",
    "    print(type(structure.sites[0]))\n",
    "    print(structure.sites)"
   ]
  },
  {
   "cell_type": "code",
   "execution_count": null,
   "metadata": {},
   "outputs": [],
   "source": []
  },
  {
   "cell_type": "code",
   "execution_count": null,
   "metadata": {},
   "outputs": [],
   "source": []
  },
  {
   "cell_type": "code",
   "execution_count": null,
   "metadata": {},
   "outputs": [],
   "source": []
  }
 ],
 "metadata": {
  "kernelspec": {
   "display_name": "Python 3",
   "language": "python",
   "name": "python3"
  },
  "language_info": {
   "codemirror_mode": {
    "name": "ipython",
    "version": 3
   },
   "file_extension": ".py",
   "mimetype": "text/x-python",
   "name": "python",
   "nbconvert_exporter": "python",
   "pygments_lexer": "ipython3",
   "version": "3.6.9"
  }
 },
 "nbformat": 4,
 "nbformat_minor": 4
}
